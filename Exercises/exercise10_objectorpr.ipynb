{
 "cells": [
  {
   "cell_type": "markdown",
   "source": [
    "# 1. Unit conversion (*)\n",
    "\n",
    "Create a class for converting US units to the metric system. It should have the following bound methods:\n",
    "\n",
    "```py\n",
    "__init__ (self, value)\n",
    "\n",
    "inch_to_cm(self)\n",
    "\n",
    "foot_to_meters(self)\n",
    "\n",
    "pound_to_kg(self)\n",
    "\n",
    "__repr__(self)\n",
    "```\n",
    "\n",
    "Make sure that value is the correct type and format, raise suitable exceptions in case it isn't. Make value into property with getter and setter. Test your class manually by instantiating an object from it and test different methods. (*)"
   ],
   "metadata": {}
  },
  {
   "cell_type": "code",
   "execution_count": 4,
   "source": [
    "class ConvertUnits:\n",
    "    def __init__(self, inch_to_cm: float, foot_to_meters: float, pound_to_kg: float) -> None:\n",
    "        self.inch_to_cm        = inch_to_cm\n",
    "        self.foot_to_meters    = foot_to_meters\n",
    "        self.pound_to_kg       = pound_to_kg\n",
    "        # 1 inch  = 2.54 cm\n",
    "        # 1 foot  = 0.3048 m\n",
    "        # 1 pound = 0.4535924 kg\n",
    "    # Create properties and getters for all, transforms units\n",
    "    @property\n",
    "    def inch_to_cm(self) -> float:\n",
    "        return self._inch_to_cm * 2.54\n",
    "    @property\n",
    "    def foot_to_meters(self) -> float:\n",
    "        return self._foot_to_meters * 0.3048\n",
    "    @property\n",
    "    def pound_to_kg(self) -> float:\n",
    "        return self._pound_to_kg * 0.4535924\n",
    "    # Create setters to check for input errors\n",
    "    @inch_to_cm.setter\n",
    "    def inch_to_cm(self, value1: float) -> None:\n",
    "        if not isinstance(value1, (int, float)):\n",
    "            raise TypeError(f\"Length in inches must be an int or a float, not {type(value1)}\")\n",
    "        if value1 < 0:\n",
    "            raise ValueError(f\"Length in inches must be positive, not {value1}\")\n",
    "        self._inch_to_cm = value1        \n",
    "    @foot_to_meters.setter\n",
    "    def foot_to_meters(self, value2: float) -> None:\n",
    "        if not isinstance(value2, (int, float)):\n",
    "            raise TypeError(f\"Length in foot must be an int or a float, not {type(value2)}\")\n",
    "        if value2 < 0:\n",
    "            raise ValueError(f\"Length in foot must be positive, not {value2}\")\n",
    "        self._foot_to_meters = value2\n",
    "    @pound_to_kg.setter\n",
    "    def pound_to_kg(self, value3: float) -> None:\n",
    "        if not isinstance(value3, (int, float)):\n",
    "            raise TypeError(f\"Weight in pounds must be an int or a float, not {type(value3)}\")\n",
    "        if value3 < 0:\n",
    "            raise ValueError(f\"Weight in pounds must be positive, not {value3}\")\n",
    "        self._pound_to_kg = value3\n",
    "    # Define standard reply to calling the whole object\n",
    "    def __repr__(self) -> str:\n",
    "        return f\"ConvertUnits(inch_to_cm: 1 inch  = 2.54 cm, foot_to_meters: 1 foot  = 0.3048 m, pound_to_kg: 1 pound = 0.4535924 kg)\"\n",
    "\n",
    "# Test it all\n",
    "try:\n",
    "    test = ConvertUnits(1,3,5)\n",
    "except ValueError as err:\n",
    "    print(err)\n",
    "except TypeError as err:\n",
    "    print(err)\n",
    "#\n",
    "# Is it possible to re-use one attribute for different outputs?\n",
    "# \n",
    "print(f\"Your length in inches is: {test.inch_to_cm:.2f} cm\")\n",
    "print(f\"Your length in feet is: {test.foot_to_meters:.2f} m\")\n",
    "print(f\"Your weight in pounds is: {test.pound_to_kg:.2f} kg\")\n"
   ],
   "outputs": [
    {
     "output_type": "stream",
     "name": "stdout",
     "text": [
      "Your length in inches is: 2.54 cm\n",
      "Your length in feet is: 0.91 m\n",
      "Your weight in pounds is: 2.27 kg\n"
     ]
    }
   ],
   "metadata": {}
  },
  {
   "cell_type": "markdown",
   "source": [
    "# 2. Person (*)\n",
    "\n",
    "Create a class named Person, with parameterized constructor with the following parameters:\n",
    "\n",
    "- name\n",
    "- age\n",
    "- email\n",
    "\n",
    "Turn name, age, email into properties with following validations in their setters:\n",
    "\n",
    "- name - must be string\n",
    "- age - must be number between 0 and 125\n",
    "- email - must include an @ sign\n",
    "\n",
    "It should also have __repr__ method to represent the Person class in a neat way.\n",
    "\n",
    "Also create a method say_hello() that prints\n",
    "\n",
    "> Hi, my name is ..., I am ... years old, my email address is ...  "
   ],
   "metadata": {}
  },
  {
   "cell_type": "code",
   "execution_count": 13,
   "source": [
    "import re\n",
    "\n",
    "class Person:\n",
    "    def __init__(self, name: str, age: float, email: str) -> None:\n",
    "        self.name  = name\n",
    "        self.age   = age\n",
    "        self.email = email\n",
    "    # Set getters and setters and error messages\n",
    "    @property\n",
    "    def say_hello(self) -> str:\n",
    "        return f\"Hi, my name is {self.name}, I am {self.age} years old, my email address is {self.email}\"\n",
    "    @say_hello.setter\n",
    "    def say_hello(self, value1: str, value2: float, value3: str) -> None:\n",
    "        if not isinstance(value1, str):\n",
    "            raise TypeError(f\"Name must be str, not {type(value1)}\")\n",
    "        if not isinstance(value2, (int or float)):\n",
    "            raise TypeError(f\"Age must be int or float, not {type(value2)}\")\n",
    "        if not (0 < value2 < 126):\n",
    "            raise ValueError(f\"Age must be between 0 and 125 years, not {value2}\")\n",
    "        if not isinstance(value3, str):\n",
    "            raise TypeError(f\"Email must be str, not {type(value3)}\")\n",
    "        if bool(re.search(\"@\", value3)) is False:\n",
    "            raise ValueError(\"Email must contain @\")\n",
    "        self._name  = value1\n",
    "        self._age   = value2\n",
    "        self._email = value3\n",
    "    # Define standard reply to calling the whole object\n",
    "    def __repr__(self) -> str:\n",
    "        return f\"Person(name={self.name}, age={self.age}, email={self.email})\"\n",
    "person1 = Person(\"Johan\", 30, \"johansmail@email.country\")\n",
    "\n",
    "print(person1.__dict__)\n",
    "\n",
    "\n"
   ],
   "outputs": [
    {
     "output_type": "error",
     "ename": "AttributeError",
     "evalue": "'Person' object has no attribute 'Person'",
     "traceback": [
      "\u001b[0;31m---------------------------------------------------------------------------\u001b[0m",
      "\u001b[0;31mAttributeError\u001b[0m                            Traceback (most recent call last)",
      "\u001b[0;32m/tmp/ipykernel_18821/3159878859.py\u001b[0m in \u001b[0;36m<module>\u001b[0;34m\u001b[0m\n\u001b[1;32m     30\u001b[0m \u001b[0mperson1\u001b[0m \u001b[0;34m=\u001b[0m \u001b[0mPerson\u001b[0m\u001b[0;34m(\u001b[0m\u001b[0;34m\"Johan\"\u001b[0m\u001b[0;34m,\u001b[0m \u001b[0;36m30\u001b[0m\u001b[0;34m,\u001b[0m \u001b[0;34m\"johansmail@email.country\"\u001b[0m\u001b[0;34m)\u001b[0m\u001b[0;34m\u001b[0m\u001b[0;34m\u001b[0m\u001b[0m\n\u001b[1;32m     31\u001b[0m \u001b[0;34m\u001b[0m\u001b[0m\n\u001b[0;32m---> 32\u001b[0;31m \u001b[0mprint\u001b[0m\u001b[0;34m(\u001b[0m\u001b[0mperson1\u001b[0m\u001b[0;34m.\u001b[0m\u001b[0mPerson\u001b[0m\u001b[0;34m)\u001b[0m\u001b[0;34m\u001b[0m\u001b[0;34m\u001b[0m\u001b[0m\n\u001b[0m\u001b[1;32m     33\u001b[0m \u001b[0;34m\u001b[0m\u001b[0m\n\u001b[1;32m     34\u001b[0m \u001b[0;34m\u001b[0m\u001b[0m\n",
      "\u001b[0;31mAttributeError\u001b[0m: 'Person' object has no attribute 'Person'"
     ]
    }
   ],
   "metadata": {}
  },
  {
   "cell_type": "code",
   "execution_count": null,
   "source": [],
   "outputs": [],
   "metadata": {}
  }
 ],
 "metadata": {
  "orig_nbformat": 4,
  "language_info": {
   "name": "python",
   "version": "3.8.10",
   "mimetype": "text/x-python",
   "codemirror_mode": {
    "name": "ipython",
    "version": 3
   },
   "pygments_lexer": "ipython3",
   "nbconvert_exporter": "python",
   "file_extension": ".py"
  },
  "kernelspec": {
   "name": "python3",
   "display_name": "Python 3.8.10 64-bit ('python-programming-joachim-wiegert-fZjbk6tr': pipenv)"
  },
  "interpreter": {
   "hash": "de864f23ecce18368aca897744c10e4777c02bb172d81296c258f6e3610de71e"
  }
 },
 "nbformat": 4,
 "nbformat_minor": 2
}