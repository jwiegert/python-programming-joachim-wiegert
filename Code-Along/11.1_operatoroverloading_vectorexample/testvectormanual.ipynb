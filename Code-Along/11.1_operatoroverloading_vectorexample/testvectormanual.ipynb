{
 "cells": [
  {
   "cell_type": "code",
   "execution_count": 1,
   "source": [
    "import vector as vec\n",
    "\n",
    "# Test a normal vector\n",
    "v1 = vec.Vector(1,2)\n",
    "print(v1.numbers)\n",
    "\n",
    "# Test with a crazy vector\n",
    "vtest = vec.Vector(True, False, 5)\n",
    "print(vtest.numbers)\n",
    "# Why didn't we get typeerrors? Because True/False, Boolians\n",
    "# are 1s and 0s!\n",
    "# See\n",
    "isinstance(True,int)\n",
    "# With float(True) we get 1.0!\n"
   ],
   "outputs": [
    {
     "output_type": "stream",
     "name": "stdout",
     "text": [
      "(1.0, 2.0)\n",
      "(1.0, 0.0, 5.0)\n"
     ]
    },
    {
     "output_type": "execute_result",
     "data": {
      "text/plain": [
       "True"
      ]
     },
     "metadata": {},
     "execution_count": 1
    }
   ],
   "metadata": {}
  },
  {
   "cell_type": "code",
   "execution_count": 6,
   "source": [
    "# Because of the def__len__ in our class we can use len on\n",
    "# our custom type of data here.\n",
    "print(f\"len(v1): {len(v1)}\")\n",
    "print(f\"len(vtest): {len(vtest)}\")"
   ],
   "outputs": [
    {
     "output_type": "stream",
     "name": "stdout",
     "text": [
      "len(v1): 2\n",
      "len(vtest): 3\n"
     ]
    }
   ],
   "metadata": {}
  },
  {
   "cell_type": "code",
   "execution_count": 2,
   "source": [
    "# Test our new vector addition!\n",
    "import vector as vec\n",
    "\n",
    "v1 = vec.Vector(1,2)\n",
    "v2 = vec.Vector(1,1)\n",
    "v3 = v1 + v2\n",
    "print(f\"v1 = {v1}\")\n",
    "print(f\"v2 = {v2}\")\n",
    "print(f\"v3 = {v3}\")\n",
    "\n"
   ],
   "outputs": [
    {
     "output_type": "stream",
     "name": "stdout",
     "text": [
      "v1 = (1.0, 2.0)\n",
      "v2 = (1.0, 1.0)\n",
      "v3 = (2.0, 3.0)\n"
     ]
    }
   ],
   "metadata": {}
  },
  {
   "cell_type": "code",
   "execution_count": 1,
   "source": [
    "# Test validation methods\n",
    "import vector as vec\n",
    "\n",
    "v1 = vec.Vector(1,2)\n",
    "v2 = vec.Vector(1,1)\n",
    "v3 = v1 + v2\n",
    "\n",
    "vtest = vec.Vector(1, 2, 5)\n",
    "try:\n",
    "    v1 + vtest\n",
    "except TypeError as err:\n",
    "    print(err)\n",
    "\n",
    "# Also this works, to get items from __getitem__ method.\n",
    "v3[1]\n",
    "\n",
    "print(v1)\n"
   ],
   "outputs": [
    {
     "output_type": "stream",
     "name": "stdout",
     "text": [
      "Both variables must be vectors with same length\n",
      "Vector(1.0, 2.0)\n"
     ]
    }
   ],
   "metadata": {}
  },
  {
   "cell_type": "code",
   "execution_count": 1,
   "source": [
    "# Test equiality method\n",
    "from vector import Vector\n",
    "\n",
    "v1 = Vector(1,1)\n",
    "v2 = Vector(1,1)\n",
    "v3 = Vector(1,5)\n",
    "\n",
    "print(f\"v1 == v2: {v1 == v2}\")\n",
    "print(f\"v1 == v3: {v1 == v3}\")\n",
    "\n",
    "# Test subtraction\n",
    "print(f\"v1-v2: {v1-v2}\")\n",
    "print(f\"v1-v3: {v1-v3}\")\n",
    "\n",
    "# Test multiplication\n",
    "print(f\"v1*5: {v1*5}\")\n",
    "# This doesn't work with reflective multiplication\n",
    "print(f\"5*v1: {5*v1}\")\n"
   ],
   "outputs": [
    {
     "output_type": "stream",
     "name": "stdout",
     "text": [
      "v1 == v2: True\n",
      "v1 == v3: False\n",
      "v1-v2: (0.0, 0.0)\n",
      "v1-v3: (0.0, -4.0)\n",
      "v1*5: (5.0, 5.0)\n",
      "5*v1: (5.0, 5.0)\n"
     ]
    }
   ],
   "metadata": {}
  },
  {
   "cell_type": "code",
   "execution_count": 3,
   "source": [
    "# Test plotter\n",
    "from vector import Vector\n",
    "\n",
    "v1 = Vector(1,1)\n",
    "v2 = Vector(1,1)\n",
    "v3 = Vector(1,5)\n",
    "\n",
    "# We put v1 as self, and v3 as other\n",
    "#v1.plot() # to plot one vector\n",
    "#v1.plot(v3) # to plot two vectors\n",
    "v1.plot(v3, v1+v3) # to plot more vectors\n",
    "\n"
   ],
   "outputs": [
    {
     "output_type": "display_data",
     "data": {
      "image/png": "[encoded data removed]",
      "text/plain": [
       "<Figure size 432x288 with 1 Axes>"
      ]
     },
     "metadata": {
      "needs_background": "light"
     }
    }
   ],
   "metadata": {}
  },
  {
   "cell_type": "code",
   "execution_count": null,
   "source": [],
   "outputs": [],
   "metadata": {}
  }
 ],
 "metadata": {
  "orig_nbformat": 4,
  "language_info": {
   "name": "python",
   "version": "3.8.10",
   "mimetype": "text/x-python",
   "codemirror_mode": {
    "name": "ipython",
    "version": 3
   },
   "pygments_lexer": "ipython3",
   "nbconvert_exporter": "python",
   "file_extension": ".py"
  },
  "kernelspec": {
   "name": "python3",
   "display_name": "Python 3.8.10 64-bit ('python-programming-joachim-wiegert-fZjbk6tr': pipenv)"
  },
  "interpreter": {
   "hash": "de864f23ecce18368aca897744c10e4777c02bb172d81296c258f6e3610de71e"
  }
 },
 "nbformat": 4,
 "nbformat_minor": 2
}