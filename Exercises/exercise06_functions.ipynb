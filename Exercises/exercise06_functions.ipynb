{
 "cells": [
  {
   "cell_type": "markdown",
   "source": [
    "# 1. Area (*)\n",
    "\n",
    "Create a function that takes the base and height of a triangle as input parameters and returns the area of the triangle."
   ],
   "metadata": {}
  },
  {
   "cell_type": "code",
   "execution_count": 1,
   "source": [
    "def trianglearea(base, height):\n",
    "    return base*height*0.5\n",
    "\n",
    "print(f\"A triangle with base 4 and height 7 has the area: {trianglearea(4,7)}\")\n"
   ],
   "outputs": [
    {
     "output_type": "stream",
     "name": "stdout",
     "text": [
      "A triangle with base 4 and height 7 has the area: 14.0\n"
     ]
    }
   ],
   "metadata": {}
  },
  {
   "cell_type": "markdown",
   "source": [
    "# 2. Euclidean distance (*)\n",
    "The formula for Euclidean distance in 2D between  P:(p1,p2)  and  Q:(q1,q2) is: \n",
    "d(P,Q)= sqrt[ (p1−q1)^2+(p2−q2)^2 ]\n",
    "\n",
    "  a)   Create a function that takes two points as input parameters and return the Euclidean between them. (*)\n",
    "\n",
    "  b)   Let the user input two points. Call the function using the users input points. (*)\n",
    "\n",
    "  c)   Use your function to calculate distances between the origin (0, 0) and each of these points: (10, 3), (-1, -9), (10, -10), (4, -2), (9, -10). (*)\n"
   ],
   "metadata": {}
  },
  {
   "cell_type": "code",
   "execution_count": 20,
   "source": [
    "def eucliddist(point1=[0,0],point2=[0,0]):\n",
    "    return ( (point1[0]-point2[0])**2. + (point1[1]-point2[1])**2. )**0.5\n",
    "\n",
    "print(f\"a) Distance between points [-1,4] and [1,2] is: {eucliddist([-1,4],[1,2]):.3f}\")\n",
    "\n",
    "# b) user input\n",
    "\n",
    "coords   = input(\"Wite coordinates of two points in 2D as x1 y1 x2 y2 (with spaces): \").split()\n",
    "if len(coords) == 4:\n",
    "    coords   = [int(coord) for coord in coords]\n",
    "    print(f\"Your points are ({coords[0]},{coords[1]}) and ({coords[2]},{coords[3]}).\")\n",
    "    distance = eucliddist([coords[0],coords[1]],[coords[2],coords[3]])\n",
    "    print(f\"Distance between your points are: {distance:.3f}\")\n",
    "else:\n",
    "    print(\"ERROR: Incorrect input.\")\n",
    "\n",
    "# c)\n",
    "\n",
    "point1     =  [0,0]\n",
    "point2list = [[10,3],[-1,-9],[10,-10],[4,-2],[9,-10]]\n",
    "for point2 in point2list:\n",
    "    distance = eucliddist(point1,point2)\n",
    "    print(f\"Distance from origin to {point2} is: {distance:.3f}\")\n"
   ],
   "outputs": [
    {
     "output_type": "stream",
     "name": "stdout",
     "text": [
      "a) Distance between points [-1,4] and [1,2] is: 2.828\n",
      "Your points are (1,2) and (3,4).\n",
      "Distance between your points are: 2.828\n",
      "Distance from origin to [10, 3] is: 10.440\n",
      "Distance from origin to [-1, -9] is: 9.055\n",
      "Distance from origin to [10, -10] is: 14.142\n",
      "Distance from origin to [4, -2] is: 4.472\n",
      "Distance from origin to [9, -10] is: 13.454\n"
     ]
    }
   ],
   "metadata": {}
  },
  {
   "cell_type": "markdown",
   "source": [
    "# 3. Mathematical functions (*)\n",
    "\n",
    "Make the following functions with def or lambda and plot their graphs in the same figure window, with  x∈[−10,10]  :\n",
    "\n",
    "  a)    f(x) = x2 - 3  (*)\n",
    "\n",
    "  b)    g(x) = 4x - 7  (*)\n",
    "\n",
    "What could the relation between  f(x)  and  g(x)  be?"
   ],
   "metadata": {}
  },
  {
   "cell_type": "code",
   "execution_count": 46,
   "source": [
    "import matplotlib.pyplot as plt\n",
    "# Define functions\n",
    "funcf = lambda x: x*x - 3\n",
    "funcg = lambda x: 4*x - 7\n",
    "\n",
    "# Define x range and compute functions\n",
    "fx    = []\n",
    "gx    = []\n",
    "xlist = []\n",
    "for x in range(-10,11):\n",
    "    xlist.append(x)\n",
    "    fx.append(funcf(x))\n",
    "    gx.append(funcg(x))\n",
    "\n",
    "plt.plot(xlist,fx,'b',label=r\"$f(x) = x^2 - 3$\")\n",
    "plt.plot(xlist,gx,'r',label=r\"$g(x) = 4x - 7$\")\n",
    "plt.xlabel(r\"$x$\")\n",
    "plt.ylabel(r\"$f(x)$ and $g(x)$\")\n",
    "plt.legend()\n",
    "\n",
    "print(f\"\"\"\n",
    "Derivation of f(x) and g(x) gives\n",
    "f'(x) = 2x\n",
    "g'(x) = 4\n",
    "Figure shows that at one point both f(x) = g(x) and f'(x) = g'(x).\n",
    "f' = g' gives x = 2 (as seen in the figure).\n",
    "f(x) = g(x) gives x^2 - 4x + 4 = 0 which is correct at x=2 (and -2).\n",
    "\"\"\")\n"
   ],
   "outputs": [
    {
     "output_type": "stream",
     "name": "stdout",
     "text": [
      "\n",
      "Derivation of f(x) and g(x) gives\n",
      "f'(x) = 2x\n",
      "g'(x) = 4\n",
      "Figure shows that at one point both f(x) = g(x) and f'(x) = g'(x).\n",
      "f' = g' gives x = 2 (as seen in the figure).\n",
      "f(x) = g(x) gives x^2 - 4x + 4 = 0 which is correct at x=2 (and -2).\n",
      "\n"
     ]
    },
    {
     "output_type": "display_data",
     "data": {
      "image/png": "[encoded data removed]",
      "text/plain": [
       "<Figure size 432x288 with 1 Axes>"
      ]
     },
     "metadata": {
      "needs_background": "light"
     }
    }
   ],
   "metadata": {}
  },
  {
   "cell_type": "markdown",
   "source": [
    "# 4. Name cleaner (*)\n",
    "\n",
    "Create a function that takes a name as an input and:\n",
    "\n",
    "removes all leading and trailing blank spaces\n",
    "make capitalize the first character of each name, and make the rest lowercase\n",
    "Use your function on this list of strings:\n",
    "\n",
    "[\"  MaRcUs \", \" iDA aNderSon\", \"OLOF Olofsson            \"  ]"
   ],
   "metadata": {}
  },
  {
   "cell_type": "code",
   "execution_count": 4,
   "source": [
    "\n",
    "def cleanname(name):\n",
    "    name = name.strip(\" \") # Remove excess spaces except between names\n",
    "    name = name.lower()    # Changes all to lower case\n",
    "    name = name.split()    # Splits different names in same string to remove leftover spaces\n",
    "    name = \" \".join(name)  # Joins name with space between\n",
    "    name = name.title()    # Capitalizes all first letters\n",
    "    return name\n",
    "    \"\"\"\n",
    "    # Old solution before I discovered the title()-function! Kept it here for fun and future reference.\n",
    "    newname = []              # Need a temporary name list\n",
    "    for n,subname in enumerate(name):\n",
    "        # Change first letter of each name to capital letter. Join together with rest of the name\n",
    "        newname.append(\"\".join([name[n][0].upper(),name[n][1:]]))\n",
    "    newname = \" \".join(newname) # Join together names into one string with spaces between\n",
    "    return newname\n",
    "    \"\"\"\n",
    "#\n",
    "# Use function on these names\n",
    "#\n",
    "namelist = [\"  MaRcUs \", \" iDA aNderSon\", \"OLOF Olofsson            \",\" test1 test2   test3   \"  ]\n",
    "for name in namelist:\n",
    "    print(cleanname(name))\n"
   ],
   "outputs": [
    {
     "output_type": "stream",
     "name": "stdout",
     "text": [
      "MaRcUs\n",
      "Marcus\n",
      "iDA aNderSon\n",
      "Ida Anderson\n",
      "OLOF Olofsson\n",
      "Olof Olofsson\n",
      "test1 test2   test3\n",
      "Test1 Test2 Test3\n"
     ]
    }
   ],
   "metadata": {}
  },
  {
   "cell_type": "markdown",
   "source": [
    "# 5. Change (**)\n",
    "\n",
    "Create a function that takes a value as input parameter and print out the banknotes and coins in Swedish currency representing this value. For example 5289 would give the following printout:\n",
    "\n",
    "- 5st 1000-lapp\n",
    "- 1st 200-lapp\n",
    "- 1st 50-lapp\n",
    "- 1st 20-lapp\n",
    "- 1st 10-krona\n",
    "- 1st 5-krona\n",
    "- 2st 2-krona\n",
    "\n",
    "Now let the user input a value, and use the function to calculate the change."
   ],
   "metadata": {}
  },
  {
   "cell_type": "code",
   "execution_count": 118,
   "source": [
    "def returnmoney(summ):\n",
    "    bills     = [1000,200,100,50,20,10,5,2,1]\n",
    "    billnames = [\"1000-lapp\",\"200-lapp\",\"100-lapp\",\"50-lapp\",\"20-lapp\",\"10-krona\",\"5-krona\",\"2-krona\",\"1-krona\"]\n",
    "    leftover  = [summ,0]\n",
    "    nbills    = []\n",
    "    for bill in bills:\n",
    "        # Modulus to see amount left when we remove one type of bills\n",
    "        leftover[1] = leftover[0]%bill\n",
    "        # Save how many of each bills we can give\n",
    "        nbills.append((leftover[0]-leftover[1])/bill)\n",
    "        # Update leftovers\n",
    "        leftover[0] = leftover[1]\n",
    "    return nbills,billnames\n",
    "\n",
    "import random as rnd\n",
    "summ = 5289\n",
    "#summ = rnd.randint(1,10000) # To test other sums\n",
    "nbills,billnames = returnmoney(summ)\n",
    "\n",
    "print(f\"Sum {summ} can be separated into\")\n",
    "for n,billname in enumerate(billnames):\n",
    "    if nbills[n] != 0:\n",
    "        print(f\"{nbills[n]:.0f}st {billname}\")\n"
   ],
   "outputs": [
    {
     "output_type": "stream",
     "name": "stdout",
     "text": [
      "Sum 5289 can be separated into\n",
      "5st 1000-lapp\n",
      "1st 200-lapp\n",
      "1st 50-lapp\n",
      "1st 20-lapp\n",
      "1st 10-krona\n",
      "1st 5-krona\n",
      "2st 2-krona\n"
     ]
    }
   ],
   "metadata": {}
  },
  {
   "cell_type": "code",
   "execution_count": null,
   "source": [],
   "outputs": [],
   "metadata": {}
  }
 ],
 "metadata": {
  "orig_nbformat": 4,
  "language_info": {
   "name": "python",
   "version": "3.8.10",
   "mimetype": "text/x-python",
   "codemirror_mode": {
    "name": "ipython",
    "version": 3
   },
   "pygments_lexer": "ipython3",
   "nbconvert_exporter": "python",
   "file_extension": ".py"
  },
  "kernelspec": {
   "name": "python3",
   "display_name": "Python 3.8.10 64-bit ('python-programming-joachim-wiegert-fZjbk6tr': pipenv)"
  },
  "interpreter": {
   "hash": "de864f23ecce18368aca897744c10e4777c02bb172d81296c258f6e3610de71e"
  }
 },
 "nbformat": 4,
 "nbformat_minor": 2
}