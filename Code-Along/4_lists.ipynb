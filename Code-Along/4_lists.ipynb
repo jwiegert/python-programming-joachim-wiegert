{
 "cells": [
  {
   "cell_type": "markdown",
   "source": [
    "# Lists\n",
    "\n",
    "Slicing and access of list items. Change items."
   ],
   "metadata": {}
  },
  {
   "cell_type": "code",
   "execution_count": 17,
   "source": [
    "tvshows = [\"antikrundan\",\"mästerkockarna\",\"aktuellt\",\"talang\"]\n",
    "\n",
    "# Access items - []-operator\n",
    "# e.g.\n",
    "\n",
    "print(f\"tvshows[ 0]: {tvshows[ 0]}\")\n",
    "print(f\"tvshows[ 1]: {tvshows[ 1]}\")\n",
    "print(f\"tvshows[-1]: {tvshows[-1]}\")\n",
    "\n",
    "# Slicing operator - : operator\n",
    "# e.g.\n",
    "\n",
    "print(f\"tvshows[:]: {tvshows[:]}\") # All\n",
    "print(f\"tvshows[1:]: {tvshows[1:]}\") # 1 to end\n",
    "print(f\"tvshows[1:3]: {tvshows[1:3]}\") # 1 to 2, includes end-number-1\n",
    "print(f\"Backwards! tvshows[::-1]: {tvshows[::-1]}\") # and in reverse!\n",
    "\n",
    "# Syntax is [start:end-1:step]\n",
    "\n",
    "print(f\"Backwards! tvshows[0:len(tvshows):2]: {tvshows[0:len(tvshows):2]}\") # only every second!\n",
    "\n",
    "# Change list items\n",
    "\n",
    "tvshows[0] = \"vetenskapens värld\"\n",
    "print(tvshows)\n",
    "\n",
    "# Add list items\n",
    "\n",
    "tvshows.append(\"Go kväll\")\n",
    "print(tvshows)\n"
   ],
   "outputs": [
    {
     "output_type": "stream",
     "name": "stdout",
     "text": [
      "tvshows[ 0]: antikrundan\n",
      "tvshows[ 1]: mästerkockarna\n",
      "tvshows[-1]: talang\n",
      "tvshows[:]: ['antikrundan', 'mästerkockarna', 'aktuellt', 'talang']\n",
      "tvshows[1:]: ['mästerkockarna', 'aktuellt', 'talang']\n",
      "tvshows[1:3]: ['mästerkockarna', 'aktuellt']\n",
      "Backwards! tvshows[::-1]: ['talang', 'aktuellt', 'mästerkockarna', 'antikrundan']\n",
      "Backwards! tvshows[0:len(tvshows):2]: ['antikrundan', 'aktuellt']\n",
      "['vetenskapens värld', 'mästerkockarna', 'aktuellt', 'talang']\n",
      "['vetenskapens värld', 'mästerkockarna', 'aktuellt', 'talang', 'Go kväll']\n"
     ]
    }
   ],
   "metadata": {}
  },
  {
   "cell_type": "markdown",
   "source": [
    "# Iterate through list"
   ],
   "metadata": {}
  },
  {
   "cell_type": "code",
   "execution_count": 20,
   "source": [
    "tvshows = [\"antikrundan\",\"mästerkockarna\",\"aktuellt\",\"talang\",\"go kväll\"]\n",
    "\n",
    "# Goes through elements only\n",
    "\n",
    "for tvshow in tvshows:\n",
    "    print(tvshow)\n",
    "\n",
    "# Gives indeces of tvshows\n",
    "\n",
    "for i, tvshow in enumerate(tvshows):\n",
    "    print(f\"{i}: {tvshow}\")\n"
   ],
   "outputs": [
    {
     "output_type": "stream",
     "name": "stdout",
     "text": [
      "antikrundan\n",
      "mästerkockarna\n",
      "aktuellt\n",
      "talang\n",
      "go kväll\n",
      "0: antikrundan\n",
      "1: mästerkockarna\n",
      "2: aktuellt\n",
      "3: talang\n",
      "4: go kväll\n"
     ]
    }
   ],
   "metadata": {}
  },
  {
   "cell_type": "code",
   "execution_count": null,
   "source": [],
   "outputs": [],
   "metadata": {}
  }
 ],
 "metadata": {
  "orig_nbformat": 4,
  "language_info": {
   "name": "python",
   "version": "3.8.10",
   "mimetype": "text/x-python",
   "codemirror_mode": {
    "name": "ipython",
    "version": 3
   },
   "pygments_lexer": "ipython3",
   "nbconvert_exporter": "python",
   "file_extension": ".py"
  },
  "kernelspec": {
   "name": "python3",
   "display_name": "Python 3.8.10 64-bit ('python-programming-joachim-wiegert-fZjbk6tr': pipenv)"
  },
  "interpreter": {
   "hash": "de864f23ecce18368aca897744c10e4777c02bb172d81296c258f6e3610de71e"
  }
 },
 "nbformat": 4,
 "nbformat_minor": 2
}