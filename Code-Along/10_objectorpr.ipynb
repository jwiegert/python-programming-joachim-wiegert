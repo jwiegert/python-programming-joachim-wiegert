{
 "cells": [
  {
   "cell_type": "markdown",
   "source": [
    "# OOP Basics\n",
    "\n",
    "Object oriented programming basics"
   ],
   "metadata": {}
  },
  {
   "cell_type": "code",
   "execution_count": 1,
   "source": [
    "class Antagning: # Creates a class, this is out blueprint\n",
    "    # Start a dunder init, double underscore, is a \"special init\"\n",
    "    # special methods in python, more of this later\n",
    "    def __init__(self):\n",
    "        pass # pass does nothing here\n",
    "\n",
    "a1 = Antagning() # instantiated an object from the class Antagning\n",
    "print(a1) # Gives <__main__.Antagning object at 0x7f5ccc1e2640>, 0x... is a position in the memory"
   ],
   "outputs": [
    {
     "output_type": "stream",
     "name": "stdout",
     "text": [
      "<__main__.Antagning object at 0x7f5ccc1e2640>\n"
     ]
    }
   ],
   "metadata": {}
  },
  {
   "cell_type": "code",
   "execution_count": 7,
   "source": [
    "# Example from lecture notes (Antagningsformulär)\n",
    "# 1. Create a class\n",
    "class Antagning:\n",
    "    # Self refers to the object that is created, refers to itself...\n",
    "    # Here we also list attributes to the object\n",
    "    #\n",
    "    # There are positional arguments (listed first, school --- name), MUST be filled\n",
    "    # Then Default parameter(\"accept=False\" which here accepts a boolian True/False)\n",
    "    # If I only write \"accept\" then it's a positional argument.\n",
    "    # Default parameters does NOT have to be filled\n",
    "    # and keyword arguments, then you write \"name = \"Goran\"\" later\n",
    "    def __init__(self, school, program, name, accept=False) -> None: # returns none.\n",
    "        # The following assigns arguments to the object attributes\n",
    "        self.school  = school\n",
    "        self.program = program\n",
    "        self.name    = name\n",
    "        self.accept  = accept\n",
    "#\n",
    "# 2. Create a few objects from this class\n",
    "#\n",
    "person1 = Antagning(\"Cool School\", \"AI\", \"Goran Bord\", False) # This is a constructor\n",
    "print(f\"person1: {person1}\") # Only gives the memory position\n",
    "print(f\"person1.name: {person1.name}\")\n",
    "print(f\"person1.school: {person1.school}\")\n",
    "print(f\"person1.__dict__: {person1.__dict__}\") # Prints all values with dunder dict\n",
    "# Nothing in keyword argument\n",
    "person2 = Antagning(\"ITHS\", \"UX\", \"Borat Gord\")\n",
    " # Gives the school of person2, even though school is the same variable\n",
    "print(f\"person2.school: {person2.school}\")\n",
    "print(f\"person2.accept: {person2.accept}\")\n"
   ],
   "outputs": [
    {
     "output_type": "stream",
     "name": "stdout",
     "text": [
      "person1: <__main__.Antagning object at 0x7f5cc80d69d0>\n",
      "person1.name: Goran Bord\n",
      "person1.school: Cool School\n",
      "person1.__dict__: {'school': 'Cool School', 'program': 'AI', 'name': 'Goran Bord', 'accept': False}\n",
      "person2.school: ITHS\n",
      "person2.accept: False\n"
     ]
    }
   ],
   "metadata": {}
  },
  {
   "cell_type": "code",
   "execution_count": 10,
   "source": [
    "# Example from lecture notes (Antagningsformulär)\n",
    "# 1. Create a class\n",
    "class Antagning:\n",
    "    # Self refers to the object that is created, refers to itself...\n",
    "    # Here we also list attributes to the object\n",
    "    #\n",
    "    # There are positional arguments (listed first, school --- name), MUST be filled\n",
    "    # Then Default parameter(\"accept=False\" which here accepts a boolian True/False)\n",
    "    # If I only write \"accept\" then it's a positional argument.\n",
    "    # Default parameters does NOT have to be filled\n",
    "    # and keyword arguments, then you write \"name = \"Goran\"\" later\n",
    "    def __init__(self, school, program, name, accept=False) -> None: # returns none.\n",
    "        # The following assigns arguments to the object attributes\n",
    "        self.school  = school\n",
    "        self.program = program\n",
    "        self.name    = name\n",
    "        self.accept  = accept\n",
    "    # Define what is returned on a dunder-call of this class, here we use an f-string, '' is used to make\n",
    "    # it clear which data contains strings.\n",
    "    # This is used for other developers, it's good practice to write a repper so that you and others\n",
    "    # know what is contained here\n",
    "    def __repr__(self): # \"dunder repper\"\n",
    "        return f\"Antagning(school='{self.school}', program='{self.program}', name='{self.name}', accept={self.accept})\"\n",
    "#\n",
    "# 2. Create a few objects from this class\n",
    "#\n",
    "person1 = Antagning(\"Cool School\", \"AI\", \"Goran Bord\", False)\n",
    "person2 = Antagning(\"ITHS\", \"UX\", \"Borat Gord\")\n",
    "print(f\"person1: {person1}\")\n",
    "print(f\"person1: {person2}\")\n",
    "# So when a class is called it first checks if there is a argument called this then it checks\n",
    "# for a repper.\n"
   ],
   "outputs": [
    {
     "output_type": "stream",
     "name": "stdout",
     "text": [
      "person1: Antagning(school='Cool School', program='AI', name='Goran Bord', accept=False)\n",
      "person1: Antagning(school='ITHS', program='UX', name='Borat Gord', accept=False)\n"
     ]
    }
   ],
   "metadata": {}
  },
  {
   "cell_type": "markdown",
   "source": [
    "## Old coins in Sweden\n",
    "\n",
    "- Riksdaler\n",
    "\n",
    "- Skilling"
   ],
   "metadata": {}
  },
  {
   "cell_type": "code",
   "execution_count": 39,
   "source": [
    "# Example, value of old coins\n",
    "#\n",
    "# Here we create a class with public attributes, anyone can change them anywhere.\n",
    "class OldCoinstash:\n",
    "    def __init__(self, owner) -> None:\n",
    "        self.owner = owner\n",
    "        self.riksdaler = 0\n",
    "        self.skilling = 0\n",
    "# As we see here.\n",
    "stash1 = OldCoinstash(\"Göran Bord\")\n",
    "print(stash1.riksdaler) # Göran has 0 riksdaler\n",
    "stash1.riksdaler = 1000 # We change that to 1000 riksdaler\n",
    "print(stash1.riksdaler) # Göran has 0 riksdaler\n",
    "# We want to create encapsulated attributed for this class. Make them \"private\"\n"
   ],
   "outputs": [
    {
     "output_type": "stream",
     "name": "stdout",
     "text": [
      "0\n",
      "1000\n"
     ]
    }
   ],
   "metadata": {}
  },
  {
   "cell_type": "markdown",
   "source": [
    "### Encapsulation\n",
    "\n",
    "In OOP we want to encapsulate some information, make them private, and only show relevant information outwards."
   ],
   "metadata": {}
  },
  {
   "cell_type": "code",
   "execution_count": 40,
   "source": [
    "class OldCoinstash:\n",
    "    def __init__(self, owner) -> None: # -> None is a \"HINT\" to users that this returns nothing\n",
    "        # This is public\n",
    "        self.owner = owner\n",
    "        # Make these private, one convention: with underscore prefix.\n",
    "        self._riksdaler = 0\n",
    "        self._skilling  = 0\n",
    "        # A second method is with name-mangling (comes another time)\n",
    "    # We can define these functions here so that it's possible to change the values\n",
    "    # We change them with the variables riksdaler and skilling, without underscore\n",
    "    # The underscoure simply makes the class-contents \"hidden\" since no one would\n",
    "    # use underscore when they write outside the code :P\n",
    "    #\n",
    "    # 1. Deposit function\n",
    "    def deposit(self, riksdaler: float, skilling: float) -> None:\n",
    "        if riksdaler <= 0 or skilling <= 0:\n",
    "            raise ValueError(f\"Stop depositing negative values. {riksdaler} riksdaler or {skilling} skilling are not OK\")\n",
    "        # So we can change these attributes INSIDE the class\n",
    "        self._riksdaler += riksdaler\n",
    "        self._skilling  += skilling\n",
    "    # 2. withdrawal function\n",
    "    def withdraw(self, riksdaler: float, skilling: float) -> None:\n",
    "        if riksdaler > self._riksdaler or skilling > self._skilling:\n",
    "            raise ValueError(\"You can't withdraw more coins than you have\")\n",
    "        self._riksdaler -= riksdaler\n",
    "        self._skilling  -= skilling\n",
    "    # 3. Check balance function\n",
    "    def checkbalance(self) -> str:\n",
    "        return f\"Coins in stash: {self._riksdaler} riksdaler and {self._skilling} skilling.\"\n",
    "    # 4. And define a standard respons on call of this class\n",
    "    def __repr__(self) -> str: # -> str is a HINT that this returns a string, this is good practice.\n",
    "        return f\"OldCoindstash(owner='{self.owner}')\"\n",
    "#\n",
    "# Time to test our class, manually... (should make atuomatic testing)\n",
    "#\n",
    "stash1 = OldCoinstash(\"Göran Bord\")\n",
    "print(stash1) # test __repr__\n",
    "print(stash1.checkbalance()) # test check balance\n",
    "stash1.deposit(riksdaler = 500, skilling = 3000) # test deposit\n",
    "print(stash1.checkbalance())\n",
    "#\n",
    "try:\n",
    "    stash1.deposit(-20,35) # test negative deposit\n",
    "except ValueError as err:\n",
    "    print (err)\n",
    "#\n",
    "print(stash1.withdraw(100,100)) # testing withdraw\n",
    "print(stash1.checkbalance())\n",
    "#\n",
    "try:\n",
    "    stash1.withdraw(1000000,1000000) # try robbing the stash\n",
    "except ValueError as err:\n",
    "    print(err)\n",
    "print(stash1.checkbalance())\n",
    "\n",
    "# Exercise! Try to rob the bank.\n",
    "# It IS possible to access hidden attributes with _, but don't do this.\n",
    "print(\"\")"
   ],
   "outputs": [
    {
     "output_type": "stream",
     "name": "stdout",
     "text": [
      "OldCoindStash(owner='Göran Bord')\n",
      "Coins in stash: 0 riksdaler and 0 skilling.\n",
      "Coins in stash: 500 riksdaler and 3000 skilling.\n",
      "Stop depositing negative values. -20 riksdaler or 35 skilling are not OK\n",
      "None\n",
      "Coins in stash: 400 riksdaler and 2900 skilling.\n",
      "You can't withdraw more coins than you have\n",
      "Coins in stash: 400 riksdaler and 2900 skilling.\n",
      "\n"
     ]
    }
   ],
   "metadata": {}
  },
  {
   "cell_type": "markdown",
   "source": [
    "# Properties"
   ],
   "metadata": {}
  },
  {
   "cell_type": "code",
   "execution_count": 36,
   "source": [
    "# Create a class, but we need error handling\n",
    "# Error handling can be done in a property\n",
    "class Student:\n",
    "    def __init__(self, name: str, age: float) -> None:\n",
    "        self.name = name # Note no underscore\n",
    "        self.age  = age\n",
    "    # Create property for the age, we create a private age here.\n",
    "    @property # @ is a decorator, that makes this a property\n",
    "    def age(self) -> float:\n",
    "        print(\"age getter is running...\")\n",
    "        return self._age # underscore again\n",
    "    # We return a private attribute since we want \"read only\" attributes\n",
    "    # So create a setter where we have error handling\n",
    "    @age.setter\n",
    "    def age(self, value: float) -> None:\n",
    "        print(\"age-setter is running ...\")\n",
    "        if not isinstance(value, (int, float)):\n",
    "            raise TypeError(f\"Age must be an int or a float, not {type(value)}\")\n",
    "        if not (0 < value < 126):\n",
    "            raise ValueError(\"Your age must be between 0 and 125\")\n",
    "        # Then if we get through this error handling, THEN we add this to the readonly value.\n",
    "        self._age = value\n",
    "# Tests\n",
    "student1 = Student(\"Göran Bord\", 25) # Goes through the setter\n",
    "print(student1.name) # only gives the attribute\n",
    "print(student1.age)  # Goes through the getter and gives attribute\n",
    "# And if we try to add a string for age\n",
    "try:\n",
    "    student1.age = \"twentyfive\"\n",
    "except TypeError as err:\n",
    "    print(err)\n",
    "\n",
    "\n"
   ],
   "outputs": [
    {
     "output_type": "stream",
     "name": "stdout",
     "text": [
      "age-setter is running ...\n",
      "Göran Bord\n",
      "age getter is running...\n",
      "25\n",
      "age-setter is running ...\n",
      "Age must be an int or a float, not <class 'str'>\n"
     ]
    }
   ],
   "metadata": {}
  },
  {
   "cell_type": "code",
   "execution_count": null,
   "source": [],
   "outputs": [],
   "metadata": {}
  }
 ],
 "metadata": {
  "orig_nbformat": 4,
  "language_info": {
   "name": "python",
   "version": "3.8.10",
   "mimetype": "text/x-python",
   "codemirror_mode": {
    "name": "ipython",
    "version": 3
   },
   "pygments_lexer": "ipython3",
   "nbconvert_exporter": "python",
   "file_extension": ".py"
  },
  "kernelspec": {
   "name": "python3",
   "display_name": "Python 3.8.10 64-bit ('python-programming-joachim-wiegert-fZjbk6tr': pipenv)"
  },
  "interpreter": {
   "hash": "de864f23ecce18368aca897744c10e4777c02bb172d81296c258f6e3610de71e"
  }
 },
 "nbformat": 4,
 "nbformat_minor": 2
}