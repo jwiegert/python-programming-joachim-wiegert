{
 "cells": [
  {
   "cell_type": "markdown",
   "source": [
    "# Lists\n",
    "\n",
    "Slicing and access of list items. Change items."
   ],
   "metadata": {}
  },
  {
   "cell_type": "code",
   "execution_count": 17,
   "source": [
    "tvshows = [\"antikrundan\",\"mästerkockarna\",\"aktuellt\",\"talang\"]\n",
    "\n",
    "# Access items - []-operator\n",
    "# e.g.\n",
    "\n",
    "print(f\"tvshows[ 0]: {tvshows[ 0]}\")\n",
    "print(f\"tvshows[ 1]: {tvshows[ 1]}\")\n",
    "print(f\"tvshows[-1]: {tvshows[-1]}\")\n",
    "\n",
    "# Slicing operator - : operator\n",
    "# e.g.\n",
    "\n",
    "print(f\"tvshows[:]: {tvshows[:]}\") # All\n",
    "print(f\"tvshows[1:]: {tvshows[1:]}\") # 1 to end\n",
    "print(f\"tvshows[1:3]: {tvshows[1:3]}\") # 1 to 2, includes end-number-1\n",
    "print(f\"Backwards! tvshows[::-1]: {tvshows[::-1]}\") # and in reverse!\n",
    "\n",
    "# Syntax is [start:end-1:step]\n",
    "\n",
    "print(f\"Backwards! tvshows[0:len(tvshows):2]: {tvshows[0:len(tvshows):2]}\") # only every second!\n",
    "\n",
    "# Change list items\n",
    "\n",
    "tvshows[0] = \"vetenskapens värld\"\n",
    "print(tvshows)\n",
    "\n",
    "# Add list items\n",
    "\n",
    "tvshows.append(\"Go kväll\")\n",
    "print(tvshows)\n"
   ],
   "outputs": [
    {
     "output_type": "stream",
     "name": "stdout",
     "text": [
      "tvshows[ 0]: antikrundan\n",
      "tvshows[ 1]: mästerkockarna\n",
      "tvshows[-1]: talang\n",
      "tvshows[:]: ['antikrundan', 'mästerkockarna', 'aktuellt', 'talang']\n",
      "tvshows[1:]: ['mästerkockarna', 'aktuellt', 'talang']\n",
      "tvshows[1:3]: ['mästerkockarna', 'aktuellt']\n",
      "Backwards! tvshows[::-1]: ['talang', 'aktuellt', 'mästerkockarna', 'antikrundan']\n",
      "Backwards! tvshows[0:len(tvshows):2]: ['antikrundan', 'aktuellt']\n",
      "['vetenskapens värld', 'mästerkockarna', 'aktuellt', 'talang']\n",
      "['vetenskapens värld', 'mästerkockarna', 'aktuellt', 'talang', 'Go kväll']\n"
     ]
    }
   ],
   "metadata": {}
  },
  {
   "cell_type": "markdown",
   "source": [
    "# Iterate through list"
   ],
   "metadata": {}
  },
  {
   "cell_type": "code",
   "execution_count": 24,
   "source": [
    "tvshows = [\"antikrundan\",\"mästerkockarna\",\"aktuellt\",\"talang\",\"go kväll\"]\n",
    "\n",
    "# Goes through elements only\n",
    "\n",
    "for tvshow in tvshows:\n",
    "    print(tvshow)\n",
    "\n",
    "# Gives indeces of tvshows\n",
    "# Enumerate gives an object containing the index number and the contents of the list\n",
    "\n",
    "for i, tvshow in enumerate(tvshows):\n",
    "    print(f\"{i}: {tvshow}\")\n"
   ],
   "outputs": [
    {
     "output_type": "stream",
     "name": "stdout",
     "text": [
      "antikrundan\n",
      "mästerkockarna\n",
      "aktuellt\n",
      "talang\n",
      "go kväll\n",
      "0: antikrundan\n",
      "1: mästerkockarna\n",
      "2: aktuellt\n",
      "3: talang\n",
      "4: go kväll\n"
     ]
    }
   ],
   "metadata": {}
  },
  {
   "cell_type": "code",
   "execution_count": 29,
   "source": [
    "# List of cubes\n",
    "\n",
    "# One way\n",
    "cubes = []\n",
    "\n",
    "for i in range(10):\n",
    "    cubes.append(i**3)\n",
    "print(cubes)\n",
    "\n",
    "# Another shorter more effective way (black magic? No very typical of python)\n",
    "# This is called list comprehension\n",
    "\n",
    "cubes2 = [x**3 for x in range(10)]\n",
    "print(cubes2)\n",
    "\n",
    "# can also include if statements\n",
    "\n",
    "cubes3 = [x**3 for x in range(10) if x != 3]\n",
    "print(cubes3)"
   ],
   "outputs": [
    {
     "output_type": "stream",
     "name": "stdout",
     "text": [
      "[0, 1, 8, 27, 64, 125, 216, 343, 512, 729]\n",
      "[0, 1, 8, 27, 64, 125, 216, 343, 512, 729]\n",
      "[0, 1, 8, 64, 125, 216, 343, 512, 729]\n"
     ]
    }
   ],
   "metadata": {}
  },
  {
   "cell_type": "code",
   "execution_count": 40,
   "source": [
    "# Sort lists\n",
    "\n",
    "import random as rnd\n",
    "dices = [rnd.randint(1,6) for _ in range(10)]\n",
    "print(dices)\n",
    "dices.sort()\n",
    "print(dices)\n",
    "\n",
    "# Can also sort arrays\n",
    "\n",
    "tvshows = [\"antikrundan\",\"mästerkockarna\",\"aktuellt\",\"äta\",\"talang\",\"go kväll\"]\n",
    "tvshows.sort()\n",
    "print(tvshows)\n",
    "\n",
    "# Lists with a mixture of data types does not work! But numbers as strings work.\n",
    "#tvshows = [\"antikrundan\",\"mästerkockarna\",\"aktuellt\",\"äta\",\"talang\",\"go kväll\", 1, 3, 2.2]\n",
    "tvshows = [\"antikrundan\",\"mästerkockarna\",\"aktuellt\",\"äta\",\"talang\",\"go kväll\", \"1\", \"3\", \"2.2\"]\n",
    "tvshows.sort()\n",
    "print(tvshows)\n",
    "\n",
    "# Can also change order, for example reverse\n",
    "\n",
    "tvshows = [\"antikrundan\",\"mästerkockarna\",\"aktuellt\",\"äta\",\"talang\",\"go kväll\", \"1\", \"3\", \"2.2\"]\n",
    "tvshows.sort(reverse=True)\n",
    "print(tvshows)\n",
    "\n",
    "# Tuplelist is different, uses parentheses, and you can't change them!\n",
    "exampletuple    = (1,2,3)\n",
    "#exampletuple[2] = 4\n",
    "\n"
   ],
   "outputs": [
    {
     "output_type": "stream",
     "name": "stdout",
     "text": [
      "[6, 1, 6, 4, 1, 1, 5, 5, 2, 3]\n",
      "[1, 1, 1, 2, 3, 4, 5, 5, 6, 6]\n",
      "['aktuellt', 'antikrundan', 'go kväll', 'mästerkockarna', 'talang', 'äta']\n",
      "['1', '2.2', '3', 'aktuellt', 'antikrundan', 'go kväll', 'mästerkockarna', 'talang', 'äta']\n",
      "['äta', 'talang', 'mästerkockarna', 'go kväll', 'antikrundan', 'aktuellt', '3', '2.2', '1']\n"
     ]
    }
   ],
   "metadata": {}
  },
  {
   "cell_type": "markdown",
   "source": [
    "# List in a list\n",
    "\n",
    "Listception\n",
    "\n",
    "\"yo dawg, I put a list in your list, so you can index yo indeces\""
   ],
   "metadata": {}
  },
  {
   "cell_type": "code",
   "execution_count": 1,
   "source": [
    "grades = [[\"A\", 30],[\"B\", 25],[\"C\",20]]\n",
    "\n",
    "print(f\"The whole list: {grades}\")\n",
    "print(f\"grades[1]: {grades[1]}\")\n",
    "print(f\"grades[2][0]: {grades[2][0]}\")\n",
    "\n",
    "\n"
   ],
   "outputs": [
    {
     "output_type": "stream",
     "name": "stdout",
     "text": [
      "The whole list: [['A', 30], ['B', 25], ['C', 20]]\n",
      "grades[1]: ['B', 25]\n",
      "grades[2][0]: C\n"
     ]
    }
   ],
   "metadata": {}
  },
  {
   "cell_type": "markdown",
   "source": [
    "# List comprehension"
   ],
   "metadata": {}
  },
  {
   "cell_type": "code",
   "execution_count": 3,
   "source": [
    "# cube every even number\n",
    "# list comprehension with if statement\n",
    "cubes = [x**3 for x in range(10) if x%2==0]\n",
    "print(cubes)"
   ],
   "outputs": [
    {
     "output_type": "stream",
     "name": "stdout",
     "text": [
      "[0, 8, 64, 216, 512]\n"
     ]
    }
   ],
   "metadata": {}
  },
  {
   "cell_type": "code",
   "execution_count": null,
   "source": [],
   "outputs": [],
   "metadata": {}
  }
 ],
 "metadata": {
  "orig_nbformat": 4,
  "language_info": {
   "name": "python",
   "version": "3.8.10",
   "mimetype": "text/x-python",
   "codemirror_mode": {
    "name": "ipython",
    "version": 3
   },
   "pygments_lexer": "ipython3",
   "nbconvert_exporter": "python",
   "file_extension": ".py"
  },
  "kernelspec": {
   "name": "python3",
   "display_name": "Python 3.8.10 64-bit ('python-programming-joachim-wiegert-fZjbk6tr': pipenv)"
  },
  "interpreter": {
   "hash": "de864f23ecce18368aca897744c10e4777c02bb172d81296c258f6e3610de71e"
  }
 },
 "nbformat": 4,
 "nbformat_minor": 2
}