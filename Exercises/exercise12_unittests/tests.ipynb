{
 "cells": [
  {
   "cell_type": "code",
   "execution_count": 1,
   "source": [
    "import fractionclass as fc\n",
    "\n",
    "f1 = fc.Frac(1,2)\n",
    "f2 = fc.Frac(2,3)\n",
    "f3 = f1/f2\n",
    "print(f3)\n",
    "print(f1)\n",
    "print(f2)\n",
    "print(f1==f2)\n",
    "\n",
    "f3 = f1 + f2\n",
    "print(f3)\n",
    "f1 += f2\n",
    "print(f1)\n",
    "\n",
    "\n",
    "f1 = fc.Frac(1,2)\n",
    "f2 = f1 + fc.Frac(1)\n",
    "print(f2)\n",
    "print(f2.nominator,f2.denominator)\n",
    "\n",
    "\n",
    "\"\"\"\n",
    "f4 = fc.Frac(23,115)\n",
    "f4.simplify()\n",
    "print(f4)\n",
    "print(f4.nominator)\n",
    "print(f4.denominator)\n",
    "\n",
    "\n",
    "f5 = fc.Frac(120,23)\n",
    "print(f5)\n",
    "f5.simplify()\n",
    "print(f5)\n",
    "print(f5.mixed())\n",
    "\"\"\";"
   ],
   "outputs": [
    {
     "output_type": "stream",
     "name": "stdout",
     "text": [
      "3/4\n",
      "1/2\n",
      "2/3\n",
      "False\n",
      "7/6\n",
      "7/6\n",
      "3/2\n",
      "3 2\n"
     ]
    }
   ],
   "metadata": {}
  },
  {
   "cell_type": "code",
   "execution_count": null,
   "source": [],
   "outputs": [],
   "metadata": {}
  }
 ],
 "metadata": {
  "orig_nbformat": 4,
  "language_info": {
   "name": "python",
   "version": "3.8.10",
   "mimetype": "text/x-python",
   "codemirror_mode": {
    "name": "ipython",
    "version": 3
   },
   "pygments_lexer": "ipython3",
   "nbconvert_exporter": "python",
   "file_extension": ".py"
  },
  "kernelspec": {
   "name": "python3",
   "display_name": "Python 3.8.10 64-bit ('python-programming-joachim-wiegert-fZjbk6tr': pipenv)"
  },
  "interpreter": {
   "hash": "de864f23ecce18368aca897744c10e4777c02bb172d81296c258f6e3610de71e"
  }
 },
 "nbformat": 4,
 "nbformat_minor": 2
}