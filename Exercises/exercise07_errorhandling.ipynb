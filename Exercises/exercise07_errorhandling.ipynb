{
 "cells": [
  {
   "cell_type": "markdown",
   "source": [
    "# 1. Find errors (*)\n",
    "\n",
    "Find the errors in this code to compute the distance between the point  (x,y)  and the origin in a cartesian coordinate system."
   ],
   "metadata": {}
  },
  {
   "cell_type": "code",
   "execution_count": 3,
   "source": [
    "import numpy as np\n",
    " \n",
    "def distance(x,y):\n",
    "    return np.sqrt(x*x + y*y)\n",
    " \n",
    "print(distance(0.5, 0.5))"
   ],
   "outputs": [
    {
     "output_type": "stream",
     "name": "stdout",
     "text": [
      "0.7071067811865476\n"
     ]
    }
   ],
   "metadata": {}
  },
  {
   "cell_type": "markdown",
   "source": [
    "# 2. Find errors (*)\n",
    "\n",
    "Find the errors in this code. Just change the function, don't touch the test program."
   ],
   "metadata": {}
  },
  {
   "cell_type": "code",
   "execution_count": 7,
   "source": [
    "def is_fourdigit(number):\n",
    "    if abs(number/1000) < 10 and abs(number/1000) >= 1:\n",
    "        return True\n",
    "    else:\n",
    "        return False\n",
    " \n",
    "# test program\n",
    "test_numbers = [231, 3124, -4124, -1000,-999, 1001, 10000, -10000, 999]\n",
    " \n",
    "for number in test_numbers:\n",
    "    if is_fourdigit(number):\n",
    "        print(f\"{number} is four-digit\")\n",
    "    else:\n",
    "        print(f\"{number} is not four-digit\")"
   ],
   "outputs": [
    {
     "output_type": "stream",
     "name": "stdout",
     "text": [
      "231 is not four-digit\n",
      "3124 is four-digit\n",
      "-4124 is four-digit\n",
      "-1000 is four-digit\n",
      "-999 is not four-digit\n",
      "1001 is four-digit\n",
      "10000 is not four-digit\n",
      "-10000 is not four-digit\n",
      "999 is not four-digit\n"
     ]
    }
   ],
   "metadata": {}
  },
  {
   "cell_type": "markdown",
   "source": [
    "# 3. Tram (*)\n",
    "\n",
    "Kokchun is a clumpsy computer user that doesn't take trams too often. Write a program to prompt the user for:\n",
    "\n",
    "- number of times he/she wants to take tram in one month\n",
    "- cost for one ticket\n",
    "- cost for monthly card\n",
    "\n",
    "The program should calculate if it's worth for him to buy monthly card or not. Make the program user friendly with clear error messages and ask again in case of input errors."
   ],
   "metadata": {}
  },
  {
   "cell_type": "code",
   "execution_count": 21,
   "source": [
    "# ask for the number of tram rides per month\n",
    "# ask for the cost of one ticket\n",
    "# and cost of a monthly card\n",
    "\n",
    "'''\n",
    "while True:\n",
    "    # Give the user another chance to answer.\n",
    "    # This will be a string, regardless of input. Will not crash.\n",
    "    age = input(\"How old are you? \") \n",
    "    # Use a try block to check for errors.\n",
    "    try:\n",
    "        age = float(age)\n",
    "        if not 0 <= age <= 125:\n",
    "            raise ValueError(f\"Age must be between 0 and 125 years, not {age}.\")\n",
    "        break\n",
    "    # And an except\n",
    "    except ValueError as err:\n",
    "        print(err)\n",
    "\n",
    "print(f\"You are {age} years old\")\n",
    "'''\n",
    "\n",
    "while True:\n",
    "    Ntramrides  = input(\"Hi Kokchun! Approximately how many times do you ride a tram per month? (Give input in digits): \")\n",
    "    try:\n",
    "        Ntramrides = float(Ntramrides)\n",
    "        if Ntramrides < 0:\n",
    "            raise ValueError(\"Number must be larger than 0. Please try again.\")\n",
    "        break\n",
    "    except ValueError as err:\n",
    "        print(\"Your input must be written with digits (must not be integers). Please try again: \")\n",
    "\n",
    "\n",
    "\n",
    "\n",
    "oneticket   = float(input(\"Please state the price of one ticket (default value is 34sek): (in sek)\") or \"34\")\n",
    "monthticket = float(input(\"and the price of a monthly ticket (defaulr value is 795sek): (in sek) \") or \"795\")\n",
    "#\n",
    "# Check for faulty inputs\n",
    "#\n",
    "\n",
    "# a while and try-thingie here\n",
    "\n",
    "print(f\"With the total number of tram rides per month being {Ntramrides} ...\")\n",
    "totalprice = oneticket*Ntramrides\n",
    "if totalprice < monthticket:\n",
    "    print(\"... you should use single tickets.\")\n",
    "else:\n",
    "    print(\"... you should buy a month-card.\")\n",
    "print(\"This assumes that you don't ride during night time.\")"
   ],
   "outputs": [
    {
     "output_type": "stream",
     "name": "stdout",
     "text": [
      "Your input must be an integer written with digits. Please try again: \n",
      "With the total number of tram rides per month being 5.5 ...\n",
      "... you should use single tickets.\n",
      "This assumes that you don't ride during night time.\n"
     ]
    }
   ],
   "metadata": {}
  },
  {
   "cell_type": "code",
   "execution_count": 19,
   "source": [
    "int(5.5)"
   ],
   "outputs": [
    {
     "output_type": "execute_result",
     "data": {
      "text/plain": [
       "5"
      ]
     },
     "metadata": {},
     "execution_count": 19
    }
   ],
   "metadata": {}
  },
  {
   "cell_type": "code",
   "execution_count": null,
   "source": [],
   "outputs": [],
   "metadata": {}
  }
 ],
 "metadata": {
  "orig_nbformat": 4,
  "language_info": {
   "name": "python",
   "version": "3.8.10",
   "mimetype": "text/x-python",
   "codemirror_mode": {
    "name": "ipython",
    "version": 3
   },
   "pygments_lexer": "ipython3",
   "nbconvert_exporter": "python",
   "file_extension": ".py"
  },
  "kernelspec": {
   "name": "python3",
   "display_name": "Python 3.8.10 64-bit ('python-programming-joachim-wiegert-fZjbk6tr': pipenv)"
  },
  "interpreter": {
   "hash": "de864f23ecce18368aca897744c10e4777c02bb172d81296c258f6e3610de71e"
  }
 },
 "nbformat": 4,
 "nbformat_minor": 2
}