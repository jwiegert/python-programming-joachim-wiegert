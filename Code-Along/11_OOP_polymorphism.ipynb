{
 "cells": [
  {
   "cell_type": "markdown",
   "source": [
    "# Polymorphism and operator overloading\n",
    "\n",
    "### Polymorphism"
   ],
   "metadata": {}
  },
  {
   "cell_type": "code",
   "execution_count": 3,
   "source": [
    "# Example, the len() function works for both strings and lists\n",
    "s1 = \"abc\"\n",
    "l1 = [1,2,3,4]\n",
    "print(len(s1))\n",
    "print(len(l1))\n",
    "\n",
    "# Example, + operator can make string concatenation and arithmetic addition of integers and floats\n",
    "s2 = s1 + \"5\"\n",
    "print(s2)\n",
    "\n",
    "num1 = 5 + 6\n",
    "print(num1)"
   ],
   "outputs": [
    {
     "output_type": "stream",
     "name": "stdout",
     "text": [
      "3\n",
      "4\n",
      "abc5\n",
      "11\n"
     ]
    }
   ],
   "metadata": {}
  },
  {
   "cell_type": "code",
   "execution_count": 6,
   "source": [
    "class Fish:\n",
    "    def __init__(self, name) -> None:\n",
    "        self.name = name\n",
    "    \n",
    "    def __str__(self) -> str:\n",
    "        return f\"I am a fish, my name is {self.name}.\"\n",
    "    \n",
    "    def speak(self):\n",
    "        print(\"Blubb plubb\")\n",
    "\n",
    "class Fox:\n",
    "    def __init__(self, name) -> None:\n",
    "        self.name = name\n",
    "    \n",
    "    def __str__(self) -> str:\n",
    "        return f\"I am a fox, my name is {self.name}, my sound is weird.\"\n",
    "    \n",
    "    def speak(self):\n",
    "        print(\"Fox says ...\")\n",
    "        #return NotImplemented # What does the fox say?\n",
    "\n",
    "# Create a tuple with animals, could be a list but we're gonna use more tuples soon\n",
    "animals = (Fish(\"Wanda\"), Fox(\"Ylvis\"))\n",
    "\n",
    "for animal in animals:\n",
    "    print(animal)\n",
    "    animal.speak()\n",
    "# Output is different, because we call for different speak and strings eventhough the commands are the same\n"
   ],
   "outputs": [
    {
     "output_type": "stream",
     "name": "stdout",
     "text": [
      "I am a fish, my name is Wanda.\n",
      "Blubb plubb\n",
      "I am a fox, my name is Ylvis, my sound is weird.\n",
      "Fox says ...\n"
     ]
    }
   ],
   "metadata": {}
  },
  {
   "cell_type": "code",
   "execution_count": 7,
   "source": [
    "class Animal:\n",
    "    # No init here because we're lazy\n",
    "    # it will have a default init: ie an empty init\n",
    "\n",
    "    def speak(self):\n",
    "        print(\"Hello, I am an animal.\")\n",
    "\n",
    "class Fish(Animal): # Fish inherits from Animal!\n",
    "    def __init__(self, name) -> None:\n",
    "        self.name = name\n",
    "    \n",
    "    def __str__(self) -> str:\n",
    "        return f\"I am a fish, my name is {self.name}.\"\n",
    "    \n",
    "    # Fish has a speak-method, so it uses this instead of the parent class Animal's speak.\n",
    "    def speak(self):\n",
    "        print(\"Blubb plubb\")\n",
    "\n",
    "class Fox(Animal): # Fox inherits from animal\n",
    "    def __init__(self, name) -> None:\n",
    "        self.name = name\n",
    "    \n",
    "    def __str__(self) -> str:\n",
    "        return f\"I am a fox, my name is {self.name}, my sound is weird.\"\n",
    "    \n",
    "    # Since Fox has no speak, it inherits from its parent and uses Animal's Speak method.\n",
    "\n",
    "# Create a tuple with animals, could be a list but we're gonna use more tuples soon\n",
    "animals = (Fish(\"Wanda\"), Fox(\"Ylvis\"))\n",
    "\n",
    "for animal in animals:\n",
    "    print(animal)\n",
    "    animal.speak()\n",
    "# Output is different, because we call for different speak and strings eventhough the commands are the same\n"
   ],
   "outputs": [
    {
     "output_type": "stream",
     "name": "stdout",
     "text": [
      "I am a fish, my name is Wanda.\n",
      "Blubb plubb\n",
      "I am a fox, my name is Ylvis, my sound is weird.\n",
      "Hello, I am an animal.\n"
     ]
    }
   ],
   "metadata": {}
  },
  {
   "cell_type": "markdown",
   "source": [
    "### Operator overloading\n",
    "\n",
    "```py\n",
    "+,-,/,//,%,*,**,<,<=,> etc\n",
    "```\n",
    "\n",
    "See 11.1-folder with vector example."
   ],
   "metadata": {}
  },
  {
   "cell_type": "code",
   "execution_count": null,
   "source": [],
   "outputs": [],
   "metadata": {}
  }
 ],
 "metadata": {
  "orig_nbformat": 4,
  "language_info": {
   "name": "python",
   "version": "3.8.10",
   "mimetype": "text/x-python",
   "codemirror_mode": {
    "name": "ipython",
    "version": 3
   },
   "pygments_lexer": "ipython3",
   "nbconvert_exporter": "python",
   "file_extension": ".py"
  },
  "kernelspec": {
   "name": "python3",
   "display_name": "Python 3.8.10 64-bit ('python-programming-joachim-wiegert-fZjbk6tr': pipenv)"
  },
  "interpreter": {
   "hash": "de864f23ecce18368aca897744c10e4777c02bb172d81296c258f6e3610de71e"
  }
 },
 "nbformat": 4,
 "nbformat_minor": 2
}