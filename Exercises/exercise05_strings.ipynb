{
 "cells": [
  {
   "cell_type": "markdown",
   "source": [
    "# strings exercises\n",
    "\n",
    "# 1. Counting letters (*)\n",
    "\n",
    "Let the user input a word:\n",
    "\n",
    "  a)   print out the number of letters in the word. (*)\n",
    "\n",
    "  b)   print out the number of uppercase and lowercase letters of the word (*)\n",
    "  "
   ],
   "metadata": {}
  },
  {
   "cell_type": "code",
   "execution_count": 7,
   "source": [
    "word = input(\"Write a word: \")\n",
    "# a)\n",
    "print(f\"Your word is: {word}\")\n",
    "wordlength = len(word)\n",
    "print(f\"a) Your word is {wordlength} letters long.\")\n",
    "# b)\n",
    "import re\n",
    "capitalcase = re.findall(\"[A-Z]\",word)\n",
    "lowercase   = re.findall(\"[a-z]\",word)\n",
    "#print(capitalcase)\n",
    "#print(lowercase)\n",
    "print(f\"Number of capital letters: {len(capitalcase)}\")\n",
    "print(f\"Number of lower case letters: {len(lowercase)}\")\n"
   ],
   "outputs": [
    {
     "output_type": "stream",
     "name": "stdout",
     "text": [
      "Your word is: HiThIsISranDoMCaSeS\n",
      "a) Your word is 19 letters long.\n",
      "Number of capital letters: 10\n",
      "Number of lower case letters: 9\n"
     ]
    }
   ],
   "metadata": {}
  },
  {
   "cell_type": "markdown",
   "source": [
    "# 2. Counting words (*)\n",
    "\n",
    "Count the number of words in this sentence: \"A picture says more than a thousand words, a matematical formula says more than a thousand pictures.\" (*)\n"
   ],
   "metadata": {}
  },
  {
   "cell_type": "code",
   "execution_count": 8,
   "source": [
    "# Remove spaces from text\n",
    "text = \"A picture says more than a thousand words, a matematical formula says more than a thousand pictures.\".split(\" \")\n",
    "print(f\"Number of words in text is: {len(text)}\")\n"
   ],
   "outputs": [
    {
     "output_type": "stream",
     "name": "stdout",
     "text": [
      "Number of words in text is: 17\n"
     ]
    }
   ],
   "metadata": {}
  },
  {
   "cell_type": "markdown",
   "source": [
    "# 3. Palindrome (*)\n",
    "\n",
    "A palindrome is a sequence of characters that is the same, when read forward as backwards (ignoring spaces). For example:\n",
    "\n",
    "\"Anna\" is a palindrome\n",
    "\n",
    "\"Ni talar bra latin\"\n",
    "\n",
    "bjkjb\n",
    "\n",
    "Let the user input a sequence of characters and check if it is a palindrome. (*)"
   ],
   "metadata": {}
  },
  {
   "cell_type": "code",
   "execution_count": 15,
   "source": [
    "text = input(\"Write a text: \")\n",
    "print(\"Checking if your text is a palindrome.\")\n",
    "print(text)\n",
    "\n",
    "# 1. Remove all spaces\n",
    "text    = text.replace(\" \",\"\")\n",
    "reverse = text[::-1]\n",
    "\n",
    "if text == reverse:\n",
    "    print(f\"Your text is a palindrome: {reverse}\")\n",
    "else:\n",
    "    print(f\"Your text is NOT a palidrome: {reverse}\")\n"
   ],
   "outputs": [
    {
     "output_type": "stream",
     "name": "stdout",
     "text": [
      "Checking if your text is a palindrome.\n",
      "ni talar bra latin\n",
      "Your text is a palindrome: nitalarbralatin\n"
     ]
    }
   ],
   "metadata": {}
  },
  {
   "cell_type": "markdown",
   "source": [
    "# 4. Vowels (**)\n",
    "\n",
    "Count the number of vowels in this sentence: \"Pure mathematics is, in its way, the poetry of logical ideas\""
   ],
   "metadata": {}
  },
  {
   "cell_type": "code",
   "execution_count": 89,
   "source": [
    "import re\n",
    "text = \"Pure mathematics is, in its way, the poetry of logical ideas\"\n",
    "print(text)\n",
    "# A list of vowels\n",
    "vowels  = [\"aeiouyAEIOUY\"]\n",
    "Nvowels = len(re.findall(f\"{vowels}\",text))\n",
    "print(f\"Number of vowels: {Nvowels}\")"
   ],
   "outputs": [
    {
     "output_type": "stream",
     "name": "stdout",
     "text": [
      "Pure mathematics is, in its way, the poetry of logical ideas\n",
      "Number of vowels: 22\n"
     ]
    }
   ],
   "metadata": {}
  },
  {
   "cell_type": "markdown",
   "source": [
    "# 5. Encryption (**)\n",
    "\n",
    "Let the user input a word and:\n",
    "\n",
    "  a)   encrypt the message by replacing each letter with the next letter. If the letter is in the end of the alphabet, use the first letter instead.\n",
    "\n",
    "e.g. in Swedish: \"höst\"  →  \"iatu\"\n",
    "\n",
    "  b)   decrypt the message\n",
    "\n",
    "  c)   let the user choose either encryption or decryption."
   ],
   "metadata": {}
  },
  {
   "cell_type": "code",
   "execution_count": 83,
   "source": [
    "from string import ascii_lowercase\n",
    "import re\n",
    "\n",
    "# Add Swedish letters:\n",
    "# ...\n",
    "\n",
    "originalword = input(\"a) Write a word you want to encrypt (ENglish letters only now): \")\n",
    "print(f\"Original word: {originalword}\")\n",
    "# change string to lowercase: string.lower()\n",
    "originalword = originalword.lower()\n",
    "cryptword    = []\n",
    "\n",
    "for letter in originalword:\n",
    "    #\n",
    "    # First check if it's a z, change to a then.\n",
    "    # Then loop through alphabet and check all letters but z.\n",
    "    # (This if statement must be here, otherwise it adds 25 a's. Or you can have a break.)\n",
    "    #\n",
    "    if letter == \"z\":\n",
    "        cryptword.append(\"a\")\n",
    "    for nletter,aletter in enumerate(ascii_lowercase):\n",
    "        if letter == aletter and letter != \"z\":\n",
    "            cryptword.append(ascii_lowercase[nletter+1])\n",
    "cryptword = \"\".join(cryptword)\n",
    "print(f\"a) Encrypted word: {cryptword}\")\n",
    "\n",
    "# b) Decrypt the word\n",
    "\n",
    "decryptword = []\n",
    "\n",
    "for letter in cryptword:\n",
    "    if letter == \"a\":\n",
    "        decryptword.append(\"z\")\n",
    "    for nletter,aletter in enumerate(ascii_lowercase):\n",
    "        if letter == aletter and letter != \"a\":\n",
    "            decryptword.append(ascii_lowercase[nletter-1])\n",
    "decryptword = \"\".join(decryptword)\n",
    "print(f\"b) Decrypted word: {decryptword}\")\n"
   ],
   "outputs": [
    {
     "output_type": "stream",
     "name": "stdout",
     "text": [
      "Original word: ABCDEZ\n",
      "a) Encrypted word: bcdefa\n",
      "b) Decrypted word: abcdez\n"
     ]
    }
   ],
   "metadata": {}
  },
  {
   "cell_type": "code",
   "execution_count": 88,
   "source": [
    "# c) in its own script.\n",
    "print(\"c)\")\n",
    "choice = input(\"Do you want to (e)ncrypt or (d)ecrypt? (e or d)? \")\n",
    "\n",
    "if choice == \"e\":\n",
    "    originalword = input(\"Write the word you want to ENcrypt: \")\n",
    "\n",
    "    print(f\"Original word: {originalword}\")\n",
    "    # change string to lowercase: string.lower()\n",
    "    originalword = originalword.lower()\n",
    "    cryptword    = []\n",
    "\n",
    "    for letter in originalword:\n",
    "        #\n",
    "        # First check if it's a z, change to a then.\n",
    "        # Then loop through alphabet and check all letters but z.\n",
    "        # (This if statement must be here, otherwise it adds 25 a's. Or you can have a break.)\n",
    "        #\n",
    "        if letter == \"z\":\n",
    "            cryptword.append(\"a\")\n",
    "        for nletter,aletter in enumerate(ascii_lowercase):\n",
    "            if letter == aletter and letter != \"z\":\n",
    "                cryptword.append(ascii_lowercase[nletter+1])\n",
    "    cryptword = \"\".join(cryptword)\n",
    "    print(f\"Encrypted word: {cryptword}\")\n",
    "\n",
    "if choice == \"d\":\n",
    "    originalword = input(\"Write the word you want to DEcrypt: \")\n",
    "\n",
    "    print(f\"Original word: {originalword}\")\n",
    "    # change string to lowercase: string.lower()\n",
    "    originalword = originalword.lower()\n",
    "    decryptword    = []\n",
    "\n",
    "    for letter in originalword:\n",
    "        if letter == \"a\":\n",
    "            decryptword.append(\"z\")\n",
    "        for nletter,aletter in enumerate(ascii_lowercase):\n",
    "            if letter == aletter and letter != \"a\":\n",
    "                decryptword.append(ascii_lowercase[nletter-1])\n",
    "    decryptword = \"\".join(decryptword)\n",
    "    print(f\"Decrypted word: {decryptword}\")\n"
   ],
   "outputs": [
    {
     "output_type": "stream",
     "name": "stdout",
     "text": [
      "c)\n",
      "Original word: ifmmp\n",
      "Decrypted word: hello\n"
     ]
    }
   ],
   "metadata": {}
  },
  {
   "cell_type": "code",
   "execution_count": null,
   "source": [],
   "outputs": [],
   "metadata": {}
  }
 ],
 "metadata": {
  "orig_nbformat": 4,
  "language_info": {
   "name": "python",
   "version": "3.8.10",
   "mimetype": "text/x-python",
   "codemirror_mode": {
    "name": "ipython",
    "version": 3
   },
   "pygments_lexer": "ipython3",
   "nbconvert_exporter": "python",
   "file_extension": ".py"
  },
  "kernelspec": {
   "name": "python3",
   "display_name": "Python 3.8.10 64-bit ('python-programming-joachim-wiegert-fZjbk6tr': pipenv)"
  },
  "interpreter": {
   "hash": "de864f23ecce18368aca897744c10e4777c02bb172d81296c258f6e3610de71e"
  }
 },
 "nbformat": 4,
 "nbformat_minor": 2
}