{
 "cells": [
  {
   "cell_type": "markdown",
   "source": [
    "# 1. Pythagorean theorem\n",
    "  a) A right angled triangle has the catheti: a = 3 and b = 4 length units. Compute the hypothenuse of the triangle. (*)\n",
    "\n",
    "  b) A right angled triangle has hypothenuse c = 7.0 and a cathetus a = 5.0 length units. Compute the other cathetus and round to one decimal."
   ],
   "metadata": {}
  },
  {
   "cell_type": "code",
   "execution_count": 4,
   "source": [
    "import math\n",
    "# Known sides of the triangles:\n",
    "cathetiA = 3\n",
    "cathetiB = 4\n",
    "# Hypothenuse is then\n",
    "hypothenuse = math.sqrt(cathetiA*cathetiA + cathetiB*cathetiB)\n",
    "print(f\"A: Hypothenuse is {hypothenuse}\")\n",
    "#\n",
    "# Problem b\n",
    "# Known sides:\n",
    "cathetiA    = 5.\n",
    "hypothenuse = 7.\n",
    "# Unknown side:\n",
    "cathetiB    = math.sqrt(hypothenuse*hypothenuse - cathetiA*cathetiA)\n",
    "print(f\"B: cathetus b is (rounded to one decimal) {cathetiB:.1f}\")\n"
   ],
   "outputs": [
    {
     "output_type": "stream",
     "name": "stdout",
     "text": [
      "A: Hypothenuse is 5.0\n",
      "B: cathetus b is (rounded to one decimal) 4.9\n"
     ]
    }
   ],
   "metadata": {}
  },
  {
   "cell_type": "markdown",
   "source": [
    "# 2. Classification accuracy\n",
    "A machine learning algorithm has been trained to predict whether or not it would rain the next day. Out of 365 predictions, it got 300 correct, compute the accuracy of this model."
   ],
   "metadata": {}
  },
  {
   "cell_type": "code",
   "execution_count": 5,
   "source": [
    "totalpredictions = 365.\n",
    "correctpredictions = 300.\n",
    "# Accuracy is then\n",
    "accuracy = correctpredictions/totalpredictions\n",
    "print(f\"Accuracy of predictions is {accuracy}\")\n"
   ],
   "outputs": [
    {
     "output_type": "stream",
     "name": "stdout",
     "text": [
      "Accuracy of predictions is 0.821917808219178\n"
     ]
    }
   ],
   "metadata": {}
  },
  {
   "cell_type": "markdown",
   "source": [
    "# 3. Classification accuracy\n",
    "A machine learning model has been trained to detect fire.\n",
    "Calculated the accuracy using the following formula:\n",
    "(TP+TN) / (TP+TN+FP+FN)"
   ],
   "metadata": {}
  },
  {
   "cell_type": "code",
   "execution_count": 7,
   "source": [
    "# Real fire, predicted fire\n",
    "TP = 2\n",
    "# No fire, predicted fire\n",
    "FP = 2\n",
    "# Real fire, predicted no fire\n",
    "FN = 11\n",
    "# No fire, predicted no fire\n",
    "TN = 985\n",
    "#\n",
    "# Accuracy is then\n",
    "#\n",
    "accuracy = (TP + TN) / (TP + TN + FP + FN)\n",
    "print(f\"Accuracy of fire detection: {accuracy}\")\n",
    "print(f\"Is this a good model? NO! Sure, it got a good number, but it only predicted a fire when there actually was a fire twice out of 13 real fires!\")"
   ],
   "outputs": [
    {
     "output_type": "stream",
     "name": "stdout",
     "text": [
      "Accuracy of fire detection: 0.987\n",
      "Is this a good model? NO! Yes it got a good number, but it only predicted a fire when there was a fire twice out of 13 real fires!\n"
     ]
    }
   ],
   "metadata": {}
  },
  {
   "cell_type": "markdown",
   "source": [
    "# 4. Line\n",
    "Compute the slope k and the constant term m of this line using the points  A:(4,4)  and  B:(0,1)."
   ],
   "metadata": {}
  },
  {
   "cell_type": "code",
   "execution_count": 9,
   "source": [
    "# Coordinates on the line\n",
    "xcoords = [4,0]\n",
    "ycoords = [4,1]\n",
    "#\n",
    "# The slope k is the derivative dy/dx\n",
    "# Equation for a straight line is y = k*x + m\n",
    "#\n",
    "k = (ycoords[1] - ycoords[0]) / (xcoords[1] - xcoords[0])\n",
    "m = ycoords[0] - k*xcoords[0]\n",
    "#\n",
    "# Output\n",
    "#\n",
    "print(f\"The slope k = {k}, and the constant m = {m}\")"
   ],
   "outputs": [
    {
     "output_type": "stream",
     "name": "stdout",
     "text": [
      "The slope k = 0.75, and the constant m = 1.0\n"
     ]
    }
   ],
   "metadata": {}
  },
  {
   "cell_type": "markdown",
   "source": [
    "# 5. Euclidean distance\n",
    "The Euclideam distance between the points  P1  and  P2  is the length of a line between them. Let  P1:(3,5)  and  P2:(−2,4)  and compute the distance between them."
   ],
   "metadata": {}
  },
  {
   "cell_type": "code",
   "execution_count": 13,
   "source": [
    "import math\n",
    "# Coordinates of points:\n",
    "xcoords = [3,-2]\n",
    "ycoords = [5, 4]\n",
    "#\n",
    "# Distance is sqrt(dx**2 - dy**2)\n",
    "#\n",
    "distance = math.sqrt((xcoords[1] - xcoords[0])**2. + (ycoords[1] - ycoords[0])**2.)\n",
    "print(f\"The distance between P1 and P2 is {distance}\")\n"
   ],
   "outputs": [
    {
     "output_type": "stream",
     "name": "stdout",
     "text": [
      "The distance between P1 and P2 is 5.0990195135927845\n"
     ]
    }
   ],
   "metadata": {}
  },
  {
   "cell_type": "markdown",
   "source": [
    "# 6. Euclidean distance in 3D\n",
    "Calculate the distance between the points  P1:(2,1,4)  and  P2:(3,1,0)"
   ],
   "metadata": {}
  },
  {
   "cell_type": "code",
   "execution_count": 14,
   "source": [
    "import math\n",
    "# Coordinates of points:\n",
    "xcoords = [2,3]\n",
    "ycoords = [1,1]\n",
    "zcoords = [4,0]\n",
    "#\n",
    "# Distance is sqrt(dx**2 - dy**2 - dz**2)\n",
    "#\n",
    "distance = math.sqrt((xcoords[1] - xcoords[0])**2. + (ycoords[1] - ycoords[0])**2. + (zcoords[1] - zcoords[0])**2.)\n",
    "print(f\"The distance between 3D-points P1 and P2 is {distance}\")\n"
   ],
   "outputs": [
    {
     "output_type": "stream",
     "name": "stdout",
     "text": [
      "The distance between 3D-points P1 and P2 is 4.123105625617661\n"
     ]
    }
   ],
   "metadata": {}
  },
  {
   "cell_type": "code",
   "execution_count": null,
   "source": [],
   "outputs": [],
   "metadata": {}
  }
 ],
 "metadata": {
  "orig_nbformat": 4,
  "language_info": {
   "name": "python",
   "version": "3.8.10",
   "mimetype": "text/x-python",
   "codemirror_mode": {
    "name": "ipython",
    "version": 3
   },
   "pygments_lexer": "ipython3",
   "nbconvert_exporter": "python",
   "file_extension": ".py"
  },
  "kernelspec": {
   "name": "python3",
   "display_name": "Python 3.8.10 64-bit"
  },
  "interpreter": {
   "hash": "916dbcbb3f70747c44a77c7bcd40155683ae19c65e1c03b4aa3499c5328201f1"
  }
 },
 "nbformat": 4,
 "nbformat_minor": 2
}