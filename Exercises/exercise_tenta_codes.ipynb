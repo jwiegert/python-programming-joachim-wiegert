{
 "cells": [
  {
   "cell_type": "markdown",
   "source": [
    "### Uppgift 1"
   ],
   "metadata": {}
  },
  {
   "cell_type": "code",
   "execution_count": 1,
   "source": [
    "print(list(range(10)))"
   ],
   "outputs": [
    {
     "output_type": "stream",
     "name": "stdout",
     "text": [
      "[0, 1, 2, 3, 4, 5, 6, 7, 8, 9]\n"
     ]
    }
   ],
   "metadata": {}
  },
  {
   "cell_type": "code",
   "execution_count": 10,
   "source": [
    "import random as rnd\n",
    "\n",
    "Ndice = int(1e6)\n",
    "result = list(range(1,7))\n",
    "Nresults = [0 for _ in range(6)]\n",
    "\n",
    "for _ in range(Ndice):\n",
    "    for i,die in enumerate(result):\n",
    "        if rnd.randint(1,6) == die:\n",
    "            Nresults[i] += 1\n",
    "print(Nresults)"
   ],
   "outputs": [
    {
     "output_type": "stream",
     "name": "stdout",
     "text": [
      "[167034, 166939, 167013, 167040, 166495, 166929]\n"
     ]
    }
   ],
   "metadata": {}
  },
  {
   "cell_type": "code",
   "execution_count": 15,
   "source": [
    "import numpy as np\n",
    "\n",
    "def volume_sphere(radius:float) -> float:\n",
    "    if not isinstance(radius,(int,float)):\n",
    "        raise TypeError(f\"Radius must be float or int, not {type(radius)}\")\n",
    "    elif radius <= 0:\n",
    "        raise ValueError(\"Radius can not be equal or smaller than zero\")\n",
    "    # Compute volume\n",
    "    volume = 4/3 * np.pi * radius**3\n",
    "    return volume\n",
    "\n",
    "print(volume_sphere(2))\n"
   ],
   "outputs": [
    {
     "output_type": "stream",
     "name": "stdout",
     "text": [
      "33.510321638291124\n"
     ]
    }
   ],
   "metadata": {}
  },
  {
   "cell_type": "code",
   "execution_count": 1,
   "source": [
    "# Upg 4\n",
    "with open('bamba.txt') as bambafile:\n",
    "    bambalist = bambafile.readlines()\n",
    "for line in bambalist:\n",
    "    print(line)\n",
    "\n"
   ],
   "outputs": [
    {
     "output_type": "stream",
     "name": "stdout",
     "text": [
      "v42\n",
      "\n",
      "Chili sin carne\n",
      "\n",
      "Pannkakor\n",
      "\n",
      "Ärtsoppa\n",
      "\n",
      "Kebab\n",
      "\n",
      "Vegetarisk lasagne\n",
      "\n"
     ]
    }
   ],
   "metadata": {}
  },
  {
   "cell_type": "code",
   "execution_count": 17,
   "source": [
    "# Upg 5\n",
    "\n",
    "import numpy as np\n",
    "\n",
    "def comp_distance(coord1,coord2):\n",
    "    x1,y1 = coord1[0],coord1[1]\n",
    "    x2,y2 = coord2[0],coord2[1]\n",
    "    distance = np.sqrt((x1-x2)**2 + (y1-y2)**2)\n",
    "    return distance\n",
    "\n",
    "\n",
    "with open('testpunkter.txt', 'r') as testpunktfile:\n",
    "    testpoint = testpunktfile.readlines()[1:]\n",
    "\n",
    "print(testpoint)\n",
    "testdata = []\n",
    "\n",
    "for line in testpoint:\n",
    "    line = line.replace(\"(\",\"\").replace(\")\",\"\").replace(\"\\n\",\"\").split(\",\")\n",
    "    for i in range(0,len(line)-1,2):\n",
    "        testdata.append([int(line[i]),int(line[i+1])])\n",
    "print(testdata)\n",
    "\n",
    "\n",
    "distances = []\n",
    "\n",
    "for i in range(0,len(testdata),2):\n",
    "    distances.append(comp_distance(testdata[i],testdata[i+1]))\n",
    "print(distances)\n",
    "\n"
   ],
   "outputs": [
    {
     "output_type": "stream",
     "name": "stdout",
     "text": [
      "['(1,2), (0,0)\\n', '(2,0), (3,5)\\n', '(-2,-2), (9,2)\\n']\n",
      "[[1, 2], [0, 0], [2, 0], [3, 5], [-2, -2], [9, 2]]\n",
      "[2.23606797749979, 5.0990195135927845, 11.704699910719626]\n"
     ]
    }
   ],
   "metadata": {}
  },
  {
   "cell_type": "code",
   "execution_count": 17,
   "source": [
    "# Upg 6\n",
    "\n",
    "import random as rnd\n",
    "\n",
    "# List of cards and their values\n",
    "# Ace is woth 11 as long as point sum is lower than 21! TODO\n",
    "cards  = [\"A\",\"2\",\"3\",\"4\",\"5\",\"6\",\"7\",\"8\",\"9\",\"10\",\"J\",\"Q\",\"K\"]\n",
    "values = [ 11, 2, 3, 4, 5, 6, 7, 8, 9, 10, 10, 10, 10]\n",
    "Ncards = len(cards)\n",
    "# Counter used to check that we don't have more than 4 of each card\n",
    "cardcounter = [0 for _ in range(Ncards)]\n",
    "\n",
    "# Give cards\n",
    "dealcards = [rnd.randint(0,Ncards-1),rnd.randint(0,Ncards-1)]\n",
    "playcards = [rnd.randint(0,Ncards-1),rnd.randint(0,Ncards-1)]\n",
    "\n",
    "# Save the number of each value\n",
    "for n in dealcards:\n",
    "    cardcounter[n] += 1\n",
    "for n in playcards:\n",
    "    cardcounter[n] += 1\n",
    "\n",
    "# Save the value of each player's cards\n",
    "dealvalue = values[dealcards[0]] + values[dealcards[1]]\n",
    "playvalue = values[playcards[0]] + values[playcards[1]]\n",
    "\n",
    "# Present cards (dealer shows 1...)\n",
    "print(f\"Dealer's farst card: {cards[dealcards[0]]}.\")\n",
    "print(f\"Player cards: {cards[playcards[0]]} and {cards[playcards[1]]}. Value: {playvalue}\")\n",
    "print(\"\")\n",
    "\n",
    "# Ask player for continuation/card (need error checks)\n",
    "response = input(\"Do you want a card? y/n: \")\n",
    "while response == \"y\":\n",
    "    print(\"Card is given\")\n",
    "    number = rnd.randint(0,Ncards-1)\n",
    "    \n",
    "    # Check number of cards per colour, max 4.\n",
    "    cardcounter[number] += 1\n",
    "    # If there's more than 4 of one, get a new card.\n",
    "    while cardcounter[number] > 4:\n",
    "        number = rnd.randint(0,Ncards-1)\n",
    "        cardcounter[number] += 1\n",
    "\n",
    "    # Add card and value to player's hand\n",
    "    playcards.append(number)\n",
    "    playvalue += values[number]\n",
    "\n",
    "    # Print player's cards and value\n",
    "    print(\"Player cards:\")\n",
    "    for card in playcards:\n",
    "        print(cards[card])\n",
    "    print(f\"Player value: {playvalue}\")\n",
    "\n",
    "    # Check so that value doesn't exceed 21.\n",
    "    if playvalue < 21:\n",
    "        response = input(\"Do you want a card? y/n: \")\n",
    "    else:\n",
    "        print(\"Your points are 21 or more.\")\n",
    "        break\n",
    "\n",
    "# Present final points\n",
    "\n",
    "print(f\"Player card value: {playvalue}\")\n",
    "print(f\"Dealer cards: {cards[dealcards[0]]} and {cards[dealcards[1]]}. Value: {dealvalue}\")\n",
    "\n",
    "if playvalue <= 21:\n",
    "    if playvalue > dealvalue:\n",
    "        print(\"Player wins!\")\n",
    "    elif playvalue == 21:\n",
    "        print(\"Player wins!\")\n",
    "    else:\n",
    "        print(\"Dealer wins!\")\n",
    "else:\n",
    "    print(\"Dealer wins!\")\n",
    "\n",
    "\n"
   ],
   "outputs": [
    {
     "output_type": "stream",
     "name": "stdout",
     "text": [
      "Dealer's farst card: K.\n",
      "Player cards: 6 and 5. Value: 11\n",
      "\n",
      "Card is given\n",
      "Player cards:\n",
      "6\n",
      "5\n",
      "9\n",
      "Player value: 20\n",
      "Player card value: 20\n",
      "Dealer cards: K and K. Value: 20\n",
      "Dealer wins!\n"
     ]
    }
   ],
   "metadata": {}
  },
  {
   "cell_type": "code",
   "execution_count": 81,
   "source": [
    "# upg 7\n",
    "\n",
    "import numpy as np\n",
    "import matplotlib.pyplot as plt\n",
    "\n",
    "class NormalDist:\n",
    "    def __init__(self, mu:float, sigma:float) -> None:\n",
    "        self.mu = mu\n",
    "        self.sigma = sigma\n",
    "\n",
    "    # Getter    \n",
    "    @property\n",
    "    def mu(self) -> float:\n",
    "        return self._mu\n",
    "    @property\n",
    "    def sigma(self) -> float:\n",
    "        return self._sigma\n",
    "\n",
    "    # Setter\n",
    "    @mu.setter\n",
    "    def mu(self, value: float) -> None:\n",
    "        if self.validatetype(value):\n",
    "            self._mu = value\n",
    "    @sigma.setter\n",
    "    def sigma(self, value: float) -> None:\n",
    "        if self.validatetype(value):\n",
    "            self._sigma = value\n",
    "\n",
    "    # Error check\n",
    "    @staticmethod\n",
    "    def validatetype(value:float) -> bool:\n",
    "        \"\"\"Checks input type\"\"\"\n",
    "        if not isinstance(value, (int,float)):\n",
    "            raise TypeError(f\"Value '{value}' must be a float or int, not {type(value)}\")\n",
    "        return True\n",
    "\n",
    "    # --------------------------------------------\n",
    "\n",
    "    # Compute normal distr\n",
    "    def pdf(self, x:float) -> float:\n",
    "        func_x = 1/(self._sigma*np.sqrt(2*np.pi)) * np.exp(-0.5 * ((x-self._mu)/self._sigma)**2)\n",
    "        return func_x\n",
    "\n",
    "    def plot_pdf(self, x:float) -> None:\n",
    "        fig,ax = plt.figure(), plt.axes(xlabel=\"x\", ylabel=\"Normal distribution\")\n",
    "        ax.plot(x,self.pdf(x))\n",
    "\n",
    "    # Add two normal distributions\n",
    "    def __add__(self,other) -> \"NormalDist\":\n",
    "        newmu    = self._mu    + other._mu\n",
    "        newsigma = self._sigma + other._sigma\n",
    "        return NormalDist(newmu,newsigma)\n",
    "\n",
    "    def __repr__(self) -> str:\n",
    "        return f\"Normal distribution with mu={self._mu} and sigma={self._sigma}\"\n",
    "\n",
    "# Tests\n",
    "\n",
    "pdf1 = NormalDist(0,1)\n",
    "pdf2 = NormalDist(4,3)\n",
    "pdf3 = pdf1 + pdf2\n",
    "print(pdf1)\n",
    "print(pdf2)\n",
    "print(pdf3)\n",
    "#print(pdf1.pdf(x))\n",
    "pdf1.plot_pdf(x)\n",
    "pdf3.plot_pdf(x)\n",
    "\n"
   ],
   "outputs": [
    {
     "output_type": "stream",
     "name": "stdout",
     "text": [
      "Normal distribution with mu=0 and sigma=1\n",
      "Normal distribution with mu=4 and sigma=3\n",
      "Normal distribution with mu=4 and sigma=4\n"
     ]
    },
    {
     "output_type": "display_data",
     "data": {
      "image/png": "[encoded data removed]",
      "text/plain": [
       "<Figure size 432x288 with 1 Axes>"
      ]
     },
     "metadata": {
      "needs_background": "light"
     }
    },
    {
     "output_type": "display_data",
     "data": {
      "image/png": "[encoded data removed]",
      "text/plain": [
       "<Figure size 432x288 with 1 Axes>"
      ]
     },
     "metadata": {
      "needs_background": "light"
     }
    }
   ],
   "metadata": {}
  },
  {
   "cell_type": "markdown",
   "source": [
    "# Tests"
   ],
   "metadata": {}
  },
  {
   "cell_type": "code",
   "execution_count": 15,
   "source": [
    "\n",
    "def errorcheck(val):\n",
    "    if val < 0 or val > 5:\n",
    "        raise ValueError(f\"Value must be 0 to 5, not {val}\")\n",
    "    else:\n",
    "        print(True)\n",
    "\n",
    "\n",
    "value = list(range(-3,7))\n",
    "for val in value:\n",
    "    try:\n",
    "        errorcheck(val)\n",
    "    except ValueError as err:\n",
    "        print(err)\n",
    "\n",
    "\n",
    "\n",
    "\n"
   ],
   "outputs": [
    {
     "output_type": "stream",
     "name": "stdout",
     "text": [
      "Value must be 0 to 5, not -3\n",
      "Value must be 0 to 5, not -2\n",
      "Value must be 0 to 5, not -1\n",
      "True\n",
      "True\n",
      "True\n",
      "True\n",
      "True\n",
      "True\n",
      "Value must be 0 to 5, not 6\n"
     ]
    }
   ],
   "metadata": {}
  },
  {
   "cell_type": "code",
   "execution_count": 16,
   "source": [
    "import numpy as np\n",
    "import math\n",
    "\n",
    "#x = list(range(1,4))\n",
    "x = np.linspace(1,4,4)\n",
    "print(x**2)\n",
    "print(math.pow(x,2))\n"
   ],
   "outputs": [
    {
     "output_type": "stream",
     "name": "stdout",
     "text": [
      "[ 1.  4.  9. 16.]\n"
     ]
    },
    {
     "output_type": "error",
     "ename": "TypeError",
     "evalue": "only size-1 arrays can be converted to Python scalars",
     "traceback": [
      "\u001b[0;31m---------------------------------------------------------------------------\u001b[0m",
      "\u001b[0;31mTypeError\u001b[0m                                 Traceback (most recent call last)",
      "\u001b[0;32m/tmp/ipykernel_2528/3660923385.py\u001b[0m in \u001b[0;36m<module>\u001b[0;34m\u001b[0m\n\u001b[1;32m      5\u001b[0m \u001b[0mx\u001b[0m \u001b[0;34m=\u001b[0m \u001b[0mnp\u001b[0m\u001b[0;34m.\u001b[0m\u001b[0mlinspace\u001b[0m\u001b[0;34m(\u001b[0m\u001b[0;36m1\u001b[0m\u001b[0;34m,\u001b[0m\u001b[0;36m4\u001b[0m\u001b[0;34m,\u001b[0m\u001b[0;36m4\u001b[0m\u001b[0;34m)\u001b[0m\u001b[0;34m\u001b[0m\u001b[0;34m\u001b[0m\u001b[0m\n\u001b[1;32m      6\u001b[0m \u001b[0mprint\u001b[0m\u001b[0;34m(\u001b[0m\u001b[0mx\u001b[0m\u001b[0;34m**\u001b[0m\u001b[0;36m2\u001b[0m\u001b[0;34m)\u001b[0m\u001b[0;34m\u001b[0m\u001b[0;34m\u001b[0m\u001b[0m\n\u001b[0;32m----> 7\u001b[0;31m \u001b[0mprint\u001b[0m\u001b[0;34m(\u001b[0m\u001b[0mmath\u001b[0m\u001b[0;34m.\u001b[0m\u001b[0mpow\u001b[0m\u001b[0;34m(\u001b[0m\u001b[0mx\u001b[0m\u001b[0;34m,\u001b[0m\u001b[0;36m2\u001b[0m\u001b[0;34m)\u001b[0m\u001b[0;34m)\u001b[0m\u001b[0;34m\u001b[0m\u001b[0;34m\u001b[0m\u001b[0m\n\u001b[0m",
      "\u001b[0;31mTypeError\u001b[0m: only size-1 arrays can be converted to Python scalars"
     ]
    }
   ],
   "metadata": {}
  },
  {
   "cell_type": "code",
   "execution_count": null,
   "source": [],
   "outputs": [],
   "metadata": {}
  }
 ],
 "metadata": {
  "orig_nbformat": 4,
  "language_info": {
   "name": "python",
   "version": "3.8.10",
   "mimetype": "text/x-python",
   "codemirror_mode": {
    "name": "ipython",
    "version": 3
   },
   "pygments_lexer": "ipython3",
   "nbconvert_exporter": "python",
   "file_extension": ".py"
  },
  "kernelspec": {
   "name": "python3",
   "display_name": "Python 3.8.10 64-bit ('python-programming-joachim-wiegert-fZjbk6tr': pipenv)"
  },
  "interpreter": {
   "hash": "de864f23ecce18368aca897744c10e4777c02bb172d81296c258f6e3610de71e"
  }
 },
 "nbformat": 4,
 "nbformat_minor": 2
}