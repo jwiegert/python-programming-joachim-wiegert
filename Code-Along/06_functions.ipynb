{
 "cells": [
  {
   "cell_type": "markdown",
   "source": [
    "# Function-syntax\n",
    "\n",
    "and basic functions"
   ],
   "metadata": {}
  },
  {
   "cell_type": "code",
   "execution_count": 1,
   "source": [
    "# Simple code for a function finding largest value of two.\n",
    "#\n",
    "# Start function, keyword for function is def, as in define.\n",
    "# Functionblock is within indentation under def.\n",
    "# return gives what the function returns.\n",
    "#\n",
    "def biggest(num1,num2):\n",
    "    if num1 > num2 :\n",
    "        return num1\n",
    "    else:\n",
    "        return num2\n",
    "#\n",
    "# Using a function. Input into function is called argument.\n",
    "#\n",
    "import random as rnd\n",
    "num1,num2 = rnd.randint(1,10),rnd.randint(1,10)\n",
    "print(biggest(num1,num2))\n"
   ],
   "outputs": [
    {
     "output_type": "stream",
     "name": "stdout",
     "text": [
      "8\n"
     ]
    }
   ],
   "metadata": {}
  },
  {
   "cell_type": "code",
   "execution_count": 6,
   "source": [
    "def cube(number):\n",
    "    return number**3\n",
    "#\n",
    "# Simple useage\n",
    "#\n",
    "print(f\"cube(3): {cube(3)}\")\n",
    "#\n",
    "# Useage with parameter\n",
    "#\n",
    "cube5 = cube(5)\n",
    "print(f\"cube5: cube(5): {cube(5)}\")\n",
    "#\n",
    "# Repeated usage with list comprehension\n",
    "#\n",
    "cubes = [cube(x) for x in range(10)]\n",
    "print(f\"cubes 0 to 9: {cubes}\")\n"
   ],
   "outputs": [
    {
     "output_type": "stream",
     "name": "stdout",
     "text": [
      "cube(3): 27\n",
      "cube5: cube(5): 125\n",
      "cubes 0 to 9: [0, 1, 8, 27, 64, 125, 216, 343, 512, 729]\n"
     ]
    }
   ],
   "metadata": {}
  },
  {
   "cell_type": "code",
   "execution_count": 9,
   "source": [
    "def mean1(num1, num2, num3):\n",
    "    meannumber = (num1 + num2 + num3)/3.\n",
    "    return meannumber\n",
    "\n",
    "print(f\"mean1(1,3,5): {mean1(1,3,5)}\")\n",
    "#print(meannumber) # Doesn't exist outside function"
   ],
   "outputs": [
    {
     "output_type": "stream",
     "name": "stdout",
     "text": [
      "3.0\n",
      "mean1(1,3,5): 3.0\n"
     ]
    }
   ],
   "metadata": {}
  },
  {
   "cell_type": "markdown",
   "source": [
    "## Function without return  value"
   ],
   "metadata": {}
  },
  {
   "cell_type": "code",
   "execution_count": 14,
   "source": [
    "#def sayhi(name, age): # without default values\n",
    "def sayhi(name=\"friend\", age=0): # with default values\n",
    "    print(f\"Hi {name}, you are {age} years old\")\n",
    "\n",
    "sayhi(\"joachim\",36) # works fine, overwrites default values\n",
    "sayhi() # crashes, it misses 2 variables. If you don't use default variables!\n",
    "sayhi(age=30) # to only use one value and default for the other!\n",
    "# \"age\" is a keyword argument here.\n"
   ],
   "outputs": [
    {
     "output_type": "stream",
     "name": "stdout",
     "text": [
      "Hi joachim, you are 36 years old\n",
      "Hi friend, you are 0 years old\n",
      "Hi friend, you are 30 years old\n"
     ]
    }
   ],
   "metadata": {}
  },
  {
   "cell_type": "markdown",
   "source": [
    "## Keyword arguments\n",
    "\n",
    "- key = value syntax"
   ],
   "metadata": {}
  },
  {
   "cell_type": "code",
   "execution_count": 16,
   "source": [
    "def countwords(text = \"\"):\n",
    "    words = text.split()\n",
    "    return len(words)\n",
    "print(countwords(\"I stand on the shoulders of giant - Isaac Newton\"))\n",
    "print(countwords()) # gives 0\n"
   ],
   "outputs": [
    {
     "output_type": "stream",
     "name": "stdout",
     "text": [
      "10\n",
      "0\n"
     ]
    }
   ],
   "metadata": {}
  },
  {
   "cell_type": "markdown",
   "source": [
    "## Arbitrary arguments, *args"
   ],
   "metadata": {}
  },
  {
   "cell_type": "code",
   "execution_count": 17,
   "source": [
    "#\n",
    "# This function doesn't know how many arguments are inputed. Så with *numbers it is inputed as a tuple.\n",
    "#\n",
    "def mean2(*numbers):\n",
    "    sum_ = 0\n",
    "    for number in numbers:\n",
    "        sum_ += number\n",
    "    return sum_/len(numbers)\n",
    "\n",
    "print(f\"mean2(2,3,4): {mean2(2,3,4)}\")\n",
    "print(f\"mean2(2,3,4,5): {mean2(2,3,4,5)}\")\n"
   ],
   "outputs": [
    {
     "output_type": "stream",
     "name": "stdout",
     "text": [
      "mean2(2,3,4): 3.0\n",
      "mean2(2,3,4,5): 3.5\n"
     ]
    }
   ],
   "metadata": {}
  },
  {
   "cell_type": "markdown",
   "source": [
    "## Lambda function\n",
    "\n",
    "- anomynous function"
   ],
   "metadata": {}
  },
  {
   "cell_type": "code",
   "execution_count": 18,
   "source": [
    "# Doesn't need to define any function.\n",
    "cuber = lambda x: x**3\n",
    "print(cuber(3))"
   ],
   "outputs": [
    {
     "output_type": "stream",
     "name": "stdout",
     "text": [
      "27\n"
     ]
    }
   ],
   "metadata": {}
  },
  {
   "cell_type": "code",
   "execution_count": 19,
   "source": [
    "# lambda function in a function. Functionception\n",
    "def npower(n):\n",
    "    return lambda x: x**n\n",
    "#\n",
    "# npower(3) is a function that gives x**3\n",
    "# thirdpower(3) then inputs our x > 3**3\n",
    "#\n",
    "thirdpower = npower(5)\n",
    "print(thirdpower(2))\n"
   ],
   "outputs": [
    {
     "output_type": "stream",
     "name": "stdout",
     "text": [
      "32\n"
     ]
    }
   ],
   "metadata": {}
  },
  {
   "cell_type": "markdown",
   "source": [
    "## Draw lines\n",
    "\n",
    "Using functions to simplify plotting.\n",
    "\n",
    "Very useful for machine learning when we need to visualise what's happening."
   ],
   "metadata": {}
  },
  {
   "cell_type": "code",
   "execution_count": 24,
   "source": [
    "import matplotlib.pyplot as plt\n",
    "# function that creates a simple line\n",
    "#\n",
    "def drawlines (x, k=1, m=1,title=\"\"):\n",
    "    y = [k*x_+m for x_ in x]\n",
    "    plt.plot(x,y)\n",
    "    plt.xlabel(r\"$x$\")\n",
    "    plt.ylabel(r\"$y$\")\n",
    "    plt.title(title)\n",
    "\n",
    "x = list(range(-5,6))\n",
    "\n",
    "drawlines(x,title=\"lines\")\n",
    "drawlines(x,k=-2,m=5,title=\"lines\")\n"
   ],
   "outputs": [
    {
     "output_type": "display_data",
     "data": {
      "image/png": "[encoded data removed]",
      "text/plain": [
       "<Figure size 432x288 with 1 Axes>"
      ]
     },
     "metadata": {
      "needs_background": "light"
     }
    }
   ],
   "metadata": {}
  },
  {
   "cell_type": "code",
   "execution_count": null,
   "source": [],
   "outputs": [],
   "metadata": {}
  }
 ],
 "metadata": {
  "orig_nbformat": 4,
  "language_info": {
   "name": "python",
   "version": "3.8.10",
   "mimetype": "text/x-python",
   "codemirror_mode": {
    "name": "ipython",
    "version": 3
   },
   "pygments_lexer": "ipython3",
   "nbconvert_exporter": "python",
   "file_extension": ".py"
  },
  "kernelspec": {
   "name": "python3",
   "display_name": "Python 3.8.10 64-bit ('python-programming-joachim-wiegert-fZjbk6tr': pipenv)"
  },
  "interpreter": {
   "hash": "de864f23ecce18368aca897744c10e4777c02bb172d81296c258f6e3610de71e"
  }
 },
 "nbformat": 4,
 "nbformat_minor": 2
}