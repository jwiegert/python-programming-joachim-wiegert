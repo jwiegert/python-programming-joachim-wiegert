{
 "cells": [
  {
   "cell_type": "markdown",
   "source": [
    "# Private attributes\n",
    "\n",
    "- Designated with a dunder, double underscore.\n",
    "- Convention with simple _ is \"semi private\"\n"
   ],
   "metadata": {}
  },
  {
   "cell_type": "code",
   "execution_count": 5,
   "source": [
    "class Patient:\n",
    "    def __init__(self, name, diagnosis) -> None:\n",
    "        self._name = name\n",
    "        self.__diagnosis = diagnosis\n",
    "    \n",
    "    def __repr__(self) -> str:\n",
    "        return f\"Patient({self._name}), {self.__diagnosis}\"\n",
    "\n",
    "# Create patient p1\n",
    "p1 = Patient(\"Gore Bord\", \"Migraine\")\n",
    "print(p1)\n",
    "\n",
    "# Change attributes: name WORKS!\n",
    "p1.name = \"Goran Brod\"\n",
    "print(p1)\n",
    "\n",
    "# change diagnosis instead, doesn't work!\n",
    "# With simple _ this would have changed, that is semi-private.\n",
    "p1.__diagnosis = \"cold\"\n",
    "print(p1)\n",
    "\n",
    "# Check what is inserted in p1:\n",
    "print(p1.__dict__)\n",
    "# There is a new attribute containing cold, while the private real attribute\n",
    "# for diagnosis is migraine.\n",
    "# Python makes a \"name mangling\", diagnosis is changed to _patient__diagnosis\n",
    "# So IT IS possible to change this\n",
    "p1._Patient__diagnosis = \"fever\"\n",
    "print(p1)\n",
    "\n",
    "\n"
   ],
   "outputs": [
    {
     "output_type": "stream",
     "name": "stdout",
     "text": [
      "Patient(Gore Bord), Migraine\n",
      "Patient(Gore Bord), Migraine\n",
      "Patient(Gore Bord), Migraine\n",
      "{'_name': 'Gore Bord', '_Patient__diagnosis': 'Migraine', 'name': 'Goran Brod', '__diagnosis': 'cold'}\n",
      "Patient(Gore Bord), fever\n"
     ]
    }
   ],
   "metadata": {}
  },
  {
   "cell_type": "code",
   "execution_count": null,
   "source": [],
   "outputs": [],
   "metadata": {}
  }
 ],
 "metadata": {
  "orig_nbformat": 4,
  "language_info": {
   "name": "python",
   "version": "3.8.10",
   "mimetype": "text/x-python",
   "codemirror_mode": {
    "name": "ipython",
    "version": 3
   },
   "pygments_lexer": "ipython3",
   "nbconvert_exporter": "python",
   "file_extension": ".py"
  },
  "kernelspec": {
   "name": "python3",
   "display_name": "Python 3.8.10 64-bit ('python-programming-joachim-wiegert-fZjbk6tr': pipenv)"
  },
  "interpreter": {
   "hash": "de864f23ecce18368aca897744c10e4777c02bb172d81296c258f6e3610de71e"
  }
 },
 "nbformat": 4,
 "nbformat_minor": 2
}