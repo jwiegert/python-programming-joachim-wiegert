{
 "cells": [
  {
   "cell_type": "markdown",
   "source": [
    "# for loops"
   ],
   "metadata": {}
  },
  {
   "cell_type": "code",
   "execution_count": 8,
   "source": [
    "#\n",
    "print(\"Range goes up to number-1:\")\n",
    "for i in range(10):\n",
    "    print(i,end=\",\")\n",
    "print()\n",
    "\n",
    "print(\"Every third number\")\n",
    "for i in range(1,20,3):\n",
    "    print(i,end=\",\")\n",
    "print()\n",
    "\n",
    "# List of range (since range is not a list)\n",
    "print(f\"A list of range(10): {list(range(10))}\")\n",
    "\n"
   ],
   "outputs": [
    {
     "output_type": "stream",
     "name": "stdout",
     "text": [
      "Range goes up to number-1:\n",
      "0,1,2,3,4,5,6,7,8,9,\n",
      "Every third number\n",
      "1,4,7,10,13,16,19,\n",
      "A list of range(10): [0, 1, 2, 3, 4, 5, 6, 7, 8, 9]\n"
     ]
    }
   ],
   "metadata": {}
  },
  {
   "cell_type": "code",
   "execution_count": 13,
   "source": [
    "# Sum with for loops, sum all integers 0 to 5:\n",
    "sum1 = 0\n",
    "\n",
    "for i in range(6):\n",
    "    #\n",
    "    # Do the sum\n",
    "    #\n",
    "    sum1 += i\n",
    "    #\n",
    "    # This if statement will skip the rest of the fifth loop. So that our output looks nicer :)\n",
    "    #\n",
    "    if i == 5:\n",
    "        continue\n",
    "    print(f\"{i}+\",end=\"\")\n",
    "    \n",
    "print(f\"{i} = {sum1}\")\n",
    "\n",
    "# Though, python includes a sum function :)\n",
    "print(sum(range(6)))\n"
   ],
   "outputs": [
    {
     "output_type": "stream",
     "name": "stdout",
     "text": [
      "0+1+2+3+4+5 = 15\n",
      "15\n"
     ]
    }
   ],
   "metadata": {}
  },
  {
   "cell_type": "markdown",
   "source": [
    "## Dice simulations\n",
    "\n",
    "- Calculate probability of dice roll 6\n",
    "\n",
    "$$\n",
    "P(\\text{roll 6}) = \\frac{\\text{Number of six}}{\\text{Total number of rolls}}\n",
    "$$"
   ],
   "metadata": {}
  },
  {
   "cell_type": "code",
   "execution_count": 26,
   "source": [
    "import random as rnd\n",
    "\n",
    "numsix, dicerolls = 0, 1000\n",
    "\n",
    "# Count number of six\n",
    "\n",
    "for i in range(dicerolls):\n",
    "    dice = rnd.randint(1,6)\n",
    "    if dice == 6:\n",
    "        numsix += 1\n",
    "print(f\"Number of six, {numsix}, in {dicerolls} dice rolls\")\n",
    "print(f\"Probability of six: {numsix/dicerolls}\")\n",
    "print(f\"Theoretical probability is {1/6}\")"
   ],
   "outputs": [
    {
     "output_type": "stream",
     "name": "stdout",
     "text": [
      "Number of six, 167, in 1000 dice rolls\n",
      "Probability of six: 0.167\n",
      "Theoretical probability is 0.16666666666666666\n"
     ]
    }
   ],
   "metadata": {}
  },
  {
   "cell_type": "markdown",
   "source": [
    "## Loop through a list"
   ],
   "metadata": {}
  },
  {
   "cell_type": "code",
   "execution_count": 29,
   "source": [
    "fruits = (\"apple\", \"orange\", \"strawberry\", \"grape\") # Created a list of fruits\n",
    "print(\"I love to eat: \")\n",
    "#\n",
    "# Loop within fruits\n",
    "#\n",
    "for fruit in fruits:\n",
    "    print(fruit)\n",
    "#\n",
    "# Alternatively, loop through indeces\n",
    "#\n",
    "print(\"Shopping list:\")\n",
    "for i, fruit in enumerate(fruits):\n",
    "    print(f\"{i+1}. {fruit}\")\n"
   ],
   "outputs": [
    {
     "output_type": "stream",
     "name": "stdout",
     "text": [
      "I love to eat: \n",
      "apple\n",
      "orange\n",
      "strawberry\n",
      "grape\n",
      "Shopping list:\n"
     ]
    }
   ],
   "metadata": {}
  },
  {
   "cell_type": "code",
   "execution_count": null,
   "source": [],
   "outputs": [],
   "metadata": {}
  }
 ],
 "metadata": {
  "orig_nbformat": 4,
  "language_info": {
   "name": "python",
   "version": "3.8.10",
   "mimetype": "text/x-python",
   "codemirror_mode": {
    "name": "ipython",
    "version": 3
   },
   "pygments_lexer": "ipython3",
   "nbconvert_exporter": "python",
   "file_extension": ".py"
  },
  "kernelspec": {
   "name": "python3",
   "display_name": "Python 3.8.10 64-bit ('python-programming-joachim-wiegert-fZjbk6tr': pipenv)"
  },
  "interpreter": {
   "hash": "de864f23ecce18368aca897744c10e4777c02bb172d81296c258f6e3610de71e"
  }
 },
 "nbformat": 4,
 "nbformat_minor": 2
}