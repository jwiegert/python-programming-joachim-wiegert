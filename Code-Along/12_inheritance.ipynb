{
 "cells": [
  {
   "cell_type": "code",
   "execution_count": 6,
   "source": [
    "# See UML figure of planning\n",
    "import oldcoins as oldcoins\n",
    "\n",
    "class Person:\n",
    "    def __init__(self, name, age) -> None:\n",
    "        self.age = age\n",
    "        self.name = name\n",
    "    \n",
    "    @property\n",
    "    def age(self):\n",
    "        return self._age\n",
    "    \n",
    "    @age.setter\n",
    "    def age(self, value):\n",
    "        if not isinstance(value, int):\n",
    "            raise TypeError(\"Age must be int\")\n",
    "        \n",
    "    # TODO: make a property for name and use eg regex to check that we have a valid name\n",
    "\n",
    "    def say_hi(self):\n",
    "        print(f\"Person {self.name} says hi.\")\n",
    "\n",
    "class Student(Person): # Student inherits from person, ie student is a person\n",
    "                       # Student has a sayhi so this overwrites Person's sayhi.\n",
    "    def __init__(self, name, age, language) -> None: # Gets name and age from Person.\n",
    "        super().__init__(name, age) # super calls the parent class so we don't have to coypaste\n",
    "                                    # name and age and the errorhandlings in agesetter\n",
    "        self.language = language\n",
    "\n",
    "    # TODO: make language into property\n",
    "\n",
    "    def say_hi(self):\n",
    "        print(f\"Student {self.name} says yo in language {self.language}\")\n",
    "\n",
    "# Has no say_hi, uses Person's sayhi\n",
    "class Viking(Person):\n",
    "    def __init__(self, name, age) -> None:\n",
    "        super().__init__(name, age)\n",
    "        self.stash = oldcoins.OldCoinstash(name)\n",
    "\n",
    "# Tests:\n",
    "p1 = Person(\"Anita\", 45)\n",
    "try:\n",
    "    s1 = Student(\"Göran\", \"femtio\", \"Python\")\n",
    "except TypeError as err:\n",
    "    print(err)\n",
    "s2 = Student(\"Göran\", 50, \"Java\")\n",
    "v1 = Viking(\"Ragnar\", 60)\n",
    "\n",
    "# Loop through our two correct objects (s1 is incorrect)\n",
    "for person in (p1, s2, v1):\n",
    "    person.say_hi()\n"
   ],
   "outputs": [
    {
     "output_type": "stream",
     "name": "stdout",
     "text": [
      "Age must be int\n",
      "Person Anita says hi.\n",
      "Student Göran says yo in language Java\n",
      "Person Ragnar says hi.\n"
     ]
    }
   ],
   "metadata": {}
  },
  {
   "cell_type": "code",
   "execution_count": null,
   "source": [],
   "outputs": [],
   "metadata": {}
  }
 ],
 "metadata": {
  "orig_nbformat": 4,
  "language_info": {
   "name": "python",
   "version": "3.8.10",
   "mimetype": "text/x-python",
   "codemirror_mode": {
    "name": "ipython",
    "version": 3
   },
   "pygments_lexer": "ipython3",
   "nbconvert_exporter": "python",
   "file_extension": ".py"
  },
  "kernelspec": {
   "name": "python3",
   "display_name": "Python 3.8.10 64-bit ('python-programming-joachim-wiegert-fZjbk6tr': pipenv)"
  },
  "interpreter": {
   "hash": "de864f23ecce18368aca897744c10e4777c02bb172d81296c258f6e3610de71e"
  }
 },
 "nbformat": 4,
 "nbformat_minor": 2
}