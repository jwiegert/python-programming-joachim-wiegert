{
 "cells": [
  {
   "cell_type": "markdown",
   "source": [
    "# File management\n",
    "\n",
    "Test files are in Code-Along/8_files/\n",
    "\n",
    "## Strategy for cleaning the quotes file:\n",
    "\n",
    "- Inspect quotes.txt\n",
    "\n",
    "- Remove leading and trailing whitespaces (including \\n)\n",
    "\n",
    "- Remove excessive white space between words\n",
    "\n",
    "- Add numbers to quotes\n",
    "\n",
    "- Extract authors"
   ],
   "metadata": {}
  },
  {
   "cell_type": "code",
   "execution_count": 3,
   "source": [
    "# Cleaning a textfile with quotes etc\n",
    "#\n",
    "# \"With BLABLA\" takes of error handling (no need for try-except) and auto-closes file afterwards.\n",
    "# 'r' = read\n",
    "# 'w' = write\n",
    "# 'a' = append (add to existing files)\n",
    "# 'x' = create file (gives error if file already exists, so that you don't accidently overwrite a file)\n",
    "#\n",
    "# Open and read quotes-file\n",
    "with open('8_files/quotes.txt', 'r') as f:\n",
    "    text = f.read()\n",
    "print(repr(text)) # Use this to inspect file\n",
    "\n",
    "\n",
    "\n"
   ],
   "outputs": [
    {
     "output_type": "stream",
     "name": "stdout",
     "text": [
      "'  If     we     knew what it was      we were doing, it would not be called research,          would it?     - Albert Einstein\\n\\nTime is a drug. Too       much of it kills you.  -  Terry Pratchett\\n\\n\\n An expert is a person who       has made all the mistakes that           can be made in a          very narrow field - Niels Bohr\\n\\n   Everything must be made as simple as possible. But not simpler. - Albert Einstein     \\n\\n\\n  Nothing in life                is to be feared, it is only to be understood. Now is the time to understand more, so that we may fear less. - Marie  Curie  \\n\\nIf I have seen further     it is by standing on the shoulders of Giants. - Isaac Newton'\n"
     ]
    }
   ],
   "metadata": {}
  },
  {
   "cell_type": "code",
   "execution_count": 11,
   "source": [
    "# Open and read quotes-file\n",
    "path = '8_files/quotes.txt' # In case you want to return to the path later\n",
    "with open(path, 'r') as f1:\n",
    "    # Use readlines() to read the file as a list. EVery \\n creates a new list.\n",
    "    #quotes = f1.readlines()\n",
    "    # But also remove all \\n, it still creates an element for each line\n",
    "    quotes = [quotes.strip(\"\\n\") for quotes in f1.readlines()]\n",
    "print(quotes)\n"
   ],
   "outputs": [
    {
     "output_type": "stream",
     "name": "stdout",
     "text": [
      "['  If     we     knew what it was      we were doing, it would not be called research,          would it?     - Albert Einstein', '', 'Time is a drug. Too       much of it kills you.  -  Terry Pratchett', '', '', ' An expert is a person who       has made all the mistakes that           can be made in a          very narrow field - Niels Bohr', '', '   Everything must be made as simple as possible. But not simpler. - Albert Einstein     ', '', '', '  Nothing in life                is to be feared, it is only to be understood. Now is the time to understand more, so that we may fear less. - Marie  Curie  ', '', 'If I have seen further     it is by standing on the shoulders of Giants. - Isaac Newton']\n"
     ]
    }
   ],
   "metadata": {}
  },
  {
   "cell_type": "code",
   "execution_count": 13,
   "source": [
    "# Open and read quotes-file\n",
    "path = '8_files/quotes.txt' # In case you want to return to the path later\n",
    "with open(path, 'r') as f1:\n",
    "    for quote in f1.readlines():\n",
    "        quote = quote.strip('\\n')\n",
    "\n",
    "print(quotes)"
   ],
   "outputs": [
    {
     "output_type": "stream",
     "name": "stdout",
     "text": [
      "['  If     we     knew what it was      we were doing, it would not be called research,          would it?     - Albert Einstein', '', 'Time is a drug. Too       much of it kills you.  -  Terry Pratchett', '', '', ' An expert is a person who       has made all the mistakes that           can be made in a          very narrow field - Niels Bohr', '', '   Everything must be made as simple as possible. But not simpler. - Albert Einstein     ', '', '', '  Nothing in life                is to be feared, it is only to be understood. Now is the time to understand more, so that we may fear less. - Marie  Curie  ', '', 'If I have seen further     it is by standing on the shoulders of Giants. - Isaac Newton']\n"
     ]
    }
   ],
   "metadata": {}
  },
  {
   "cell_type": "code",
   "execution_count": null,
   "source": [],
   "outputs": [],
   "metadata": {}
  }
 ],
 "metadata": {
  "orig_nbformat": 4,
  "language_info": {
   "name": "python",
   "version": "3.8.10",
   "mimetype": "text/x-python",
   "codemirror_mode": {
    "name": "ipython",
    "version": 3
   },
   "pygments_lexer": "ipython3",
   "nbconvert_exporter": "python",
   "file_extension": ".py"
  },
  "kernelspec": {
   "name": "python3",
   "display_name": "Python 3.8.10 64-bit ('python-programming-joachim-wiegert-fZjbk6tr': pipenv)"
  },
  "interpreter": {
   "hash": "de864f23ecce18368aca897744c10e4777c02bb172d81296c258f6e3610de71e"
  }
 },
 "nbformat": 4,
 "nbformat_minor": 2
}