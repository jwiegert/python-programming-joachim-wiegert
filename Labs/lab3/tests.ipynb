{
 "cells": [
  {
   "cell_type": "code",
   "execution_count": null,
   "source": [
    "import geometryclasses as gc\n",
    "c1 = gc.Circle(3,2,1)\n",
    "c2 = gc.Circle(2,0,0)\n",
    "\n",
    "print(f\"print c1: {c1}\")\n",
    "print(f\"area of c1: {c1.comparea()}\")\n",
    "print(f\"area of c2: {c2.comparea()}\")\n",
    "print(f\"circumferance of c1: {c1.circumferance()}\")\n",
    "print(f\"c1 == c2: {c1 == c2}\")\n",
    "\n",
    "print(f\"c1.checkcoords(0,0): {c1.checkcoords(0,0)}\")\n",
    "#c1.plotpoint(0,0)\n",
    "print(f\"c1.checkcoords(5,0): {c1.checkcoords(5,0)}\")\n",
    "#c1.plotpoint(5,0)\n",
    "print(c2)\n",
    "c2.moveobj(-1,-1)\n",
    "print(c2)\n",
    "\n",
    "# Test rectangle\n",
    "r1 = gc.Rectangle(2,1,-1,-1)\n",
    "r2 = gc.Rectangle(1,2,1,1)\n",
    "\n",
    "print(f\"print r1: {r1}\")\n",
    "print(f\"print r2: {r2}\")\n",
    "print(f\"area of r1: {r1.comparea()}\")\n",
    "print(f\"area of r2: {r2.comparea()}\")\n",
    "print(f\"circumferance of r1: {r1.circumferance()}\")\n",
    "print(f\"circumferance of r1: {r1.circumferance()}\")\n",
    "print(f\"r1 == r2: {r1 == r2}\")\n",
    "r1.moveobj(-1,-1)\n",
    "r2.moveobj(1,1)\n",
    "print(f\"print r1: {r1}\")\n",
    "print(f\"print r2: {r2}\")\n",
    "print(f\"r1.checkcoords: {r1.checkcoords(-4,-2)}\")\n",
    "\n",
    "\n"
   ],
   "outputs": [],
   "metadata": {}
  },
  {
   "cell_type": "code",
   "execution_count": 8,
   "source": [
    "import geometryclasses as gc\n",
    "\n",
    "c1 = gc.Circle(3,2,1)\n",
    "c2 = gc.Circle(2,0,0)\n",
    "r1 = gc.Rectangle(3,2,1,1)\n",
    "\n",
    "c1.plotobject()\n",
    "c1.plotpoint(1,1)\n",
    "c2.plotobject()\n",
    "r1.plotobject()\n",
    "\n",
    "\n",
    "\n",
    "\n",
    "\n"
   ],
   "outputs": [],
   "metadata": {}
  },
  {
   "cell_type": "code",
   "execution_count": 5,
   "source": [
    "import geometryclasses as gc\n",
    "\n",
    "c1 = gc.Cube(1.1,2,3,4)\n",
    "c2 = gc.Cube(1,-2,-3,-4)\n",
    "print(c1)\n",
    "print(f\"Cube volume: {c1.compvolume()}\")\n",
    "print(f\"Cube surface area: {c1.comparea()}\")\n",
    "print(f\"Point 2,3,4 inside: {c1.checkcoords(2,3,4)}\")\n",
    "print(f\"Point 0,0,0 inside: {c1.checkcoords(0,0,0)}\")\n",
    "c1.moveobj_3d(-1,-1,-1)\n",
    "print(c1==c2)\n",
    "\n"
   ],
   "outputs": [
    {
     "output_type": "stream",
     "name": "stdout",
     "text": [
      "A cube with side=1.1 and origin at x,y,z=2,3,4.\n",
      "Cube volume: 1.3310000000000004\n",
      "Cube surface area: 7.260000000000002\n",
      "Point 2,3,4 inside: True\n",
      "Point 0,0,0 inside: False\n",
      "(False, 'Objects have different surface areas')\n"
     ]
    }
   ],
   "metadata": {}
  },
  {
   "cell_type": "code",
   "execution_count": null,
   "source": [
    "import geometryclasses as gc\n",
    "\n",
    "c1 = gc.Sphere(1.1,2,3,4)\n",
    "c2 = gc.Sphere(1,-2,-3,-4)\n",
    "print(c1)\n",
    "print(f\"Sphere volume: {c1.compvolume()}\")\n",
    "print(f\"Sphere surface area: {c1.comparea()}\")\n",
    "print(f\"Point 2,3,4 inside: {c1.checkcoords(2,3,4)}\")\n",
    "print(f\"Point 0,0,0 inside: {c1.checkcoords(0,0,0)}\")\n",
    "c1.moveobj_3d(-1,-1,-1)\n",
    "print(c1==c2)\n"
   ],
   "outputs": [],
   "metadata": {}
  }
 ],
 "metadata": {
  "orig_nbformat": 4,
  "language_info": {
   "name": "python",
   "version": "3.8.10",
   "mimetype": "text/x-python",
   "codemirror_mode": {
    "name": "ipython",
    "version": 3
   },
   "pygments_lexer": "ipython3",
   "nbconvert_exporter": "python",
   "file_extension": ".py"
  },
  "kernelspec": {
   "name": "python3",
   "display_name": "Python 3.8.10 64-bit ('python-programming-joachim-wiegert-fZjbk6tr': pipenv)"
  },
  "interpreter": {
   "hash": "de864f23ecce18368aca897744c10e4777c02bb172d81296c258f6e3610de71e"
  }
 },
 "nbformat": 4,
 "nbformat_minor": 2
}