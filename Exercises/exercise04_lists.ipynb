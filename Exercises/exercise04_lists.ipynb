{
 "cells": [
  {
   "cell_type": "markdown",
   "source": [
    "# 1. Dice rolls\n",
    "\n",
    "Simulate 10 dice rolls and append the rolls to a list or use list comprehension.\n",
    "\n",
    "  a)   sort the list in ascending order (*)\n",
    "\n",
    "  b)   sort the list in descending order (*)\n",
    "\n",
    "  c)   find the maximum and minimum value in the list (*)"
   ],
   "metadata": {}
  },
  {
   "cell_type": "code",
   "execution_count": 1,
   "source": [
    "import random as rnd\n",
    "\n",
    "# Results contains 10 random numbers between 1 and 6.\n",
    "results = [rnd.randint(1,6) for _ in range(10)]\n",
    "\n",
    "print(f\"Unsorted results: {results}\")\n",
    "results.sort()\n",
    "print(f\"a) Ascending order: {results}\")\n",
    "results.sort(reverse = True)\n",
    "print(f\"b) Descending order: {results}\")\n",
    "print(f\"c) Maximum: {max(results)}. Minimum: {min(results)}\")\n"
   ],
   "outputs": [
    {
     "output_type": "stream",
     "name": "stdout",
     "text": [
      "Unsorted results: [2, 3, 5, 3, 6, 4, 4, 4, 3, 1]\n",
      "a) Ascending order: [1, 2, 3, 3, 3, 4, 4, 4, 5, 6]\n",
      "b) Descending order: [6, 5, 4, 4, 4, 3, 3, 3, 2, 1]\n",
      "c) Maximum: 6. Minimum: 1\n"
     ]
    }
   ],
   "metadata": {}
  },
  {
   "cell_type": "markdown",
   "source": [
    "# 2. Food menu\n",
    "\n",
    "Create a:\n",
    "\n",
    "  a)   list with the following elements: \"vegetarisk lasagne\", \"spaghetti\", \"fisk\", \"grönsakssoppa\", \"pannkakor\". (*)\n",
    "\n",
    "  b)   list with the weekdays (*)\n",
    "\n",
    "  c)   create a food menu with each day corresponding to each food item and print it out. (*)\n",
    "  "
   ],
   "metadata": {}
  },
  {
   "cell_type": "code",
   "execution_count": 11,
   "source": [
    "import random as rnd\n",
    "\n",
    "foodlist   = ['vegetarisk lasagne','spaghetti','fisk','grönsakssoppa','pannkakor']\n",
    "weekdays   = ['monday','tuesday','wednesday','thursday','friday']\n",
    "Ndays      = len(weekdays)\n",
    "\n",
    "print(\"This week's food menu:\")\n",
    "# Random food item from list per day to vary the weeks.\n",
    "menu = [f\"{weekdays[i]}: {foodlist[rnd.randint(0,Ndays-1)]}\" for i in range(Ndays)]\n",
    "# Loop to make the output look nicer\n",
    "for i in range(Ndays):\n",
    "    print(menu[i])\n"
   ],
   "outputs": [
    {
     "output_type": "stream",
     "name": "stdout",
     "text": [
      "This week's food menu:\n",
      "monday: grönsakssoppa\n",
      "tuesday: spaghetti\n",
      "wednesday: vegetarisk lasagne\n",
      "thursday: vegetarisk lasagne\n",
      "friday: fisk\n"
     ]
    }
   ],
   "metadata": {}
  },
  {
   "cell_type": "markdown",
   "source": [
    "# 3. Squares (*)\n",
    "\n",
    "  a)   Use list comprehension to create a list of squares from -10 to 10 (*)\n",
    "\n",
    "  b)   Plot this list using matplotlib. (*)"
   ],
   "metadata": {}
  },
  {
   "cell_type": "code",
   "execution_count": 15,
   "source": [
    "import matplotlib.pyplot as plt\n",
    "\n",
    "squares = [x*x for x in range(-10,11)]\n",
    "print(f\"a) Squares from -10 to 10: {squares}\")\n",
    "\n",
    "print(\"b) plot\")\n",
    "plt.plot(range(-10,11),squares)\n",
    "plt.xlabel(r\"$x$\")\n",
    "plt.ylabel(r\"$y = x^2$\")\n"
   ],
   "outputs": [
    {
     "output_type": "stream",
     "name": "stdout",
     "text": [
      "a) Squares from -10 to 10: [100, 81, 64, 49, 36, 25, 16, 9, 4, 1, 0, 1, 4, 9, 16, 25, 36, 49, 64, 81, 100]\n",
      "b) plot\n"
     ]
    },
    {
     "output_type": "execute_result",
     "data": {
      "text/plain": [
       "Text(0, 0.5, '$y = x^2$')"
      ]
     },
     "metadata": {},
     "execution_count": 15
    },
    {
     "output_type": "display_data",
     "data": {
      "image/png": "[encoded data removed]",
      "text/plain": [
       "<Figure size 432x288 with 1 Axes>"
      ]
     },
     "metadata": {
      "needs_background": "light"
     }
    }
   ],
   "metadata": {}
  },
  {
   "cell_type": "markdown",
   "source": [
    "# 4. Chessboard (**)\n",
    "\n",
    "  a)   Create this list using list comprehension: (*)\n",
    "\n",
    "['A1', 'B1', 'C1', 'D1', 'E1', 'F1', 'G1', 'H1']\n",
    "\n",
    "  b)   Create a 2D list to hold the coordinates in a chessboard. (**)"
   ],
   "metadata": {}
  },
  {
   "cell_type": "code",
   "execution_count": 7,
   "source": [
    "chessletters = list(\"ABCDEFGH\")\n",
    "Nchesssquare = len(chessletters)\n",
    "# a)\n",
    "coords = [chessletters[i]+\"1\" for i in range(Nchesssquare)]\n",
    "print(f\"a) {coords}\")\n",
    "\n",
    "# b)\n",
    "\n",
    "#\n",
    "# Solution with for loops.\n",
    "#\n",
    "#chessboard = [chessletters for _ in range(Nchesssquare)]\n",
    "#for i in range(Nchesssquare):\n",
    "#    for n in range(Nchesssquare):\n",
    "#        chessboard[n][i] = [chessboard[n][i] + str(n+1)]\n",
    "\n",
    "#\n",
    "# Solution with list comprehensions.\n",
    "#\n",
    "# The for _ in list... creates a matrix where each row is the list of letters A to H\n",
    "# list(str ... n+1) creates a list with one element of one number, as strings, 1 to 8\n",
    "# *8 on that list lengthens it to a list with 8 elements with one number\n",
    "# then I add these numbers to all the matrix elements with a for loop.\n",
    "#\n",
    "chessboard = [[[chessletters for _ in chessletters][n][i] \\\n",
    "    + (list(str(n+1))*Nchesssquare)[i] for i in range(Nchesssquare)]\\\n",
    "    for n in range(Nchesssquare)]\n",
    "\n",
    "print(\"b) Chess board coordinates\")\n",
    "for i in range(Nchesssquare):\n",
    "    print(chessboard[:][i])\n"
   ],
   "outputs": [
    {
     "output_type": "stream",
     "name": "stdout",
     "text": [
      "a) ['A1', 'B1', 'C1', 'D1', 'E1', 'F1', 'G1', 'H1']\n",
      "b) Chess board coordinates\n",
      "['A1', 'B1', 'C1', 'D1', 'E1', 'F1', 'G1', 'H1']\n",
      "['A2', 'B2', 'C2', 'D2', 'E2', 'F2', 'G2', 'H2']\n",
      "['A3', 'B3', 'C3', 'D3', 'E3', 'F3', 'G3', 'H3']\n",
      "['A4', 'B4', 'C4', 'D4', 'E4', 'F4', 'G4', 'H4']\n",
      "['A5', 'B5', 'C5', 'D5', 'E5', 'F5', 'G5', 'H5']\n",
      "['A6', 'B6', 'C6', 'D6', 'E6', 'F6', 'G6', 'H6']\n",
      "['A7', 'B7', 'C7', 'D7', 'E7', 'F7', 'G7', 'H7']\n",
      "['A8', 'B8', 'C8', 'D8', 'E8', 'F8', 'G8', 'H8']\n"
     ]
    }
   ],
   "metadata": {}
  },
  {
   "cell_type": "markdown",
   "source": [
    "# 5. Dice rolls convergence (**)\n",
    "\n",
    "Simulate:\n",
    "\n",
    "  a)   100 dice rolls and count the number of outcome six. (*)\n",
    "\n",
    "  b)   10, 100, 1000, 10000, 100000, 1000000 dice rolls. Count the number of outcome six in each simulation and store it in a list. Compute the probability of outcome six in each simulation. (**)\n",
    "\n",
    "  c)   Use matplotlib to plot this list. (*)"
   ],
   "metadata": {}
  },
  {
   "cell_type": "code",
   "execution_count": 17,
   "source": [
    "import random as rnd\n",
    "import matplotlib.pyplot as plt\n",
    "\n",
    "# a) 100 dice rolls and compute number of sixes\n",
    "\n",
    "Nrolls  = 100\n",
    "counter =   0\n",
    "\n",
    "for nrolls in range(Nrolls):\n",
    "    if rnd.randint(1,6) == 6:\n",
    "        counter += 1\n",
    "print(f\"a) Number of six out of 100 dice rolls: {counter}\")\n",
    "\n",
    "# b)\n",
    "\n",
    "Nrolls  = [10**i for i in range(1,7)]\n",
    "Ntries  = len(Nrolls)\n",
    "Nsix    = []\n",
    "#\n",
    "# First loop over the different number of rolls.\n",
    "#\n",
    "for i in range(Ntries):\n",
    "    #\n",
    "    # Reset counter\n",
    "    #\n",
    "    counter = 0\n",
    "    #\n",
    "    # Loop over each dice roll\n",
    "    #\n",
    "    for nrolls in range(Nrolls[i]):\n",
    "        #\n",
    "        # Count number of sixes\n",
    "        #\n",
    "        if rnd.randint(1,6) == 6:\n",
    "            counter += 1\n",
    "    #\n",
    "    # Save number of sixes for the differen number of rolls.\n",
    "    #\n",
    "    Nsix.append(counter)\n",
    "#\n",
    "# Save a list of probabilities\n",
    "#\n",
    "probability = [Nsix[i]/Nrolls[i] for i in range(Ntries)]\n",
    "#\n",
    "# Output\n",
    "#\n",
    "print(\"b)\")\n",
    "print(f\"Number dice rolls: {Nrolls}\") \n",
    "print(f\"Respective dice rolls: {Nsix}\")\n",
    "print(f\"Probability of six, theoretical: {1/6:.3f}\")\n",
    "print(f\"Probability of six: {probability}\")\n",
    "#\n",
    "# c) plot\n",
    "#\n",
    "print(\"c)\")\n",
    "plt.plot(Nrolls,probability,'b.-')\n",
    "plt.xscale('log')\n",
    "plt.ylim(0,max(probability)+0.1)\n",
    "plt.xlabel(\"Number of d6-rolls\")\n",
    "plt.ylabel(\"Probability of 6\")\n"
   ],
   "outputs": [
    {
     "output_type": "stream",
     "name": "stdout",
     "text": [
      "a) Number of six out of 100 dice rolls: 13\n",
      "b)\n",
      "Number dice rolls: [10, 100, 1000, 10000, 100000, 1000000]\n",
      "Respective dice rolls: [3, 16, 156, 1612, 16649, 166075]\n",
      "Probability of six, theoretical: 0.167\n",
      "Probability of six: [0.3, 0.16, 0.156, 0.1612, 0.16649, 0.166075]\n",
      "c)\n"
     ]
    },
    {
     "output_type": "execute_result",
     "data": {
      "text/plain": [
       "Text(0, 0.5, 'Probability of 6')"
      ]
     },
     "metadata": {},
     "execution_count": 17
    },
    {
     "output_type": "display_data",
     "data": {
      "image/png": "[encoded data removed]",
      "text/plain": [
       "<Figure size 432x288 with 1 Axes>"
      ]
     },
     "metadata": {
      "needs_background": "light"
     }
    }
   ],
   "metadata": {}
  },
  {
   "cell_type": "code",
   "execution_count": 18,
   "source": [
    "#\n",
    "# 5 b) with list comprehension\n",
    "#\n",
    "import random as rnd\n",
    "Nrolls  = [10**i for i in range(1,7)]\n",
    "Ntries  = len(Nrolls)\n",
    "#\n",
    "# Inner parts gives list of True and False, True is a roll of 6. Each True = 1, False = 0\n",
    "# Sum over this sums all Trues, i.e. every time it's a six.\n",
    "# Outer part loops over all the different number of die rolls. 10, 100 etc.\n",
    "#\n",
    "Nsix = [sum(rnd.randint(1,6) == 6 for _ in range(Nrolls[i])) for i in range(Ntries)]\n",
    "print(f\"Number of six {Nsix}\")\n"
   ],
   "outputs": [
    {
     "output_type": "stream",
     "name": "stdout",
     "text": [
      "Number of six [3, 19, 168, 1686, 16826, 166988]\n"
     ]
    }
   ],
   "metadata": {}
  },
  {
   "cell_type": "markdown",
   "source": [
    "# Extra problem\n",
    "\n",
    "Create this matrix with list comprehension and with a for loop\n",
    "\n",
    "x x x x x\n",
    "\n",
    "0 x x x x\n",
    "\n",
    "0 0 x x x\n",
    "\n",
    "0 0 0 x x\n",
    "\n",
    "0 0 0 0 x"
   ],
   "metadata": {}
  },
  {
   "cell_type": "code",
   "execution_count": 14,
   "source": [
    "Nelements = 5\n",
    "matrix    = [['0' for _ in range(Nelements)] for _ in range(Nelements)]\n",
    "\n",
    "print(\"With for loops\")\n",
    "for n in range(Nelements):\n",
    "    for i in range(Nelements):\n",
    "        if i >= n:\n",
    "            matrix[n][i] = 'x'\n",
    "        else:\n",
    "            matrix[n][i] = '0'\n",
    "    print(matrix[n][:])\n",
    "\n",
    "print(\"With for list comprehension\")\n",
    "# Create 5x5 list with 0s\n",
    "matrix2 = [['0' for i in range(Nelements)] for n in range(Nelements)]\n",
    "# Change upper triangle to 1s\n",
    "matrix2 = [['x' for i in range(Nelements)] for n in range(Nelements) if i>= n]\n",
    "for n in range(Nelements):\n",
    "    print(matrix[n][:])\n"
   ],
   "outputs": [
    {
     "output_type": "error",
     "ename": "SyntaxError",
     "evalue": "invalid syntax (4019235690.py, line 15)",
     "traceback": [
      "\u001b[0;36m  File \u001b[0;32m\"/tmp/ipykernel_17490/4019235690.py\"\u001b[0;36m, line \u001b[0;32m15\u001b[0m\n\u001b[0;31m    matrix2 = [['0' for i in range(Nelements)] for n in range(Nelements) if i<n else 'x']\u001b[0m\n\u001b[0m                                                                                ^\u001b[0m\n\u001b[0;31mSyntaxError\u001b[0m\u001b[0;31m:\u001b[0m invalid syntax\n"
     ]
    }
   ],
   "metadata": {}
  },
  {
   "cell_type": "code",
   "execution_count": null,
   "source": [],
   "outputs": [],
   "metadata": {}
  }
 ],
 "metadata": {
  "orig_nbformat": 4,
  "language_info": {
   "name": "python",
   "version": "3.8.10",
   "mimetype": "text/x-python",
   "codemirror_mode": {
    "name": "ipython",
    "version": 3
   },
   "pygments_lexer": "ipython3",
   "nbconvert_exporter": "python",
   "file_extension": ".py"
  },
  "kernelspec": {
   "name": "python3",
   "display_name": "Python 3.8.10 64-bit ('python-programming-joachim-wiegert-fZjbk6tr': pipenv)"
  },
  "interpreter": {
   "hash": "de864f23ecce18368aca897744c10e4777c02bb172d81296c258f6e3610de71e"
  }
 },
 "nbformat": 4,
 "nbformat_minor": 2
}