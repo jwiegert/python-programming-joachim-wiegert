{
 "cells": [
  {
   "cell_type": "markdown",
   "source": [
    "# 1. Count numbers\n",
    "\n",
    "Use a for statement to count from:\n",
    "\n",
    "  a)   -10 to 10 with one increment (*)\n",
    "\n",
    "  b)   -10 to 10 with two increment (*)\n"
   ],
   "metadata": {}
  },
  {
   "cell_type": "code",
   "execution_count": 3,
   "source": [
    "#\n",
    "# -10 to 10 in one increment\n",
    "#\n",
    "print(\"a)\",end=\" \")\n",
    "for i in range(-10,11):\n",
    "    print(i,end=\",\")\n",
    "print()\n",
    "#\n",
    "# -10 to 10 with 2 increment\n",
    "#\n",
    "print(\"b)\",end=\" \")\n",
    "for i in range(-10,11,2):\n",
    "    print(i,end=\",\")\n"
   ],
   "outputs": [
    {
     "output_type": "stream",
     "name": "stdout",
     "text": [
      "a) -10,-9,-8,-7,-6,-5,-4,-3,-2,-1,0,1,2,3,4,5,6,7,8,9,10,\n",
      "b) -10,-8,-6,-4,-2,0,2,4,6,8,10,"
     ]
    }
   ],
   "metadata": {}
  },
  {
   "cell_type": "markdown",
   "source": [
    "# 2. Arithmetic sum\n",
    "\n",
    "Use a for statement to compute the following sums:\n",
    "\n",
    "  a)    sum = 1 + 2 + … + 99 +100  (*)\n",
    "\n",
    "  b)    sum = 1 + 3 + 5 + … + 97 +99  (*)\n"
   ],
   "metadata": {}
  },
  {
   "cell_type": "code",
   "execution_count": 5,
   "source": [
    "# a), sum of 1 to 100\n",
    "sum1 = 0\n",
    "sum2 = 0\n",
    "for i in range(101):\n",
    "    #\n",
    "    # Sum over all integers 1 to 100\n",
    "    #\n",
    "    sum1 += i\n",
    "    if i%2 != 0:\n",
    "        #\n",
    "        # Sum over all odd integers between 1 and 100\n",
    "        #\n",
    "        sum2 += i\n",
    "print(f\"1+2+...+99+100 = {sum1}\")\n",
    "print(f\"1+3+...+97+99  = {sum2}\")"
   ],
   "outputs": [
    {
     "output_type": "stream",
     "name": "stdout",
     "text": [
      "1+2+...+99+100 = 5050\n",
      "1+3+...+97+99  = 2500\n"
     ]
    }
   ],
   "metadata": {}
  },
  {
   "cell_type": "markdown",
   "source": [
    "# 3. Multiplication table\n",
    "Use for statement(s) to:\n",
    "\n",
    "  a)   print out the 6th multiplication table from 0 to 10 (*)\n",
    "\n",
    "  b)   let the user input the table, start and end of the table. (*)\n",
    "\n",
    "  c)   print out a full multiplication table from 0 to 10. (**)\n",
    "  "
   ],
   "metadata": {}
  },
  {
   "cell_type": "code",
   "execution_count": 16,
   "source": [
    "# a)\n",
    "print(\"a) Multiplication table 6:\")\n",
    "for i in range(11):\n",
    "    print(f\"6*{i} = {6*i}\")\n",
    "print()\n",
    "#\n",
    "# b)\n",
    "#\n",
    "number = int(input(\"Write multiplication number:\"))\n",
    "start  = int(input(\"Write multiplication range, from:\"))\n",
    "end    = int(input(\"Write multiplication range, to:\"))\n",
    "\n",
    "print(f\"b) Multiplication table of {number}:\")\n",
    "for i in range(start,end+1):\n",
    "    print(f\"{number}*{i} = {number*i}\")\n",
    "print()\n",
    "#\n",
    "# c)\n",
    "#\n",
    "print(\"c) Multiplication tables, 0 to 10.\")\n",
    "for i in range(11):\n",
    "    for n in range(11):\n",
    "        print(f\"{n}*{i} = {n*i}\",end=\"  \")\n",
    "    print()\n",
    "\n",
    "\n",
    "\n"
   ],
   "outputs": [
    {
     "output_type": "stream",
     "name": "stdout",
     "text": [
      "a) Multiplication table 6:\n",
      "6*0 = 0\n",
      "6*1 = 6\n",
      "6*2 = 12\n",
      "6*3 = 18\n",
      "6*4 = 24\n",
      "6*5 = 30\n",
      "6*6 = 36\n",
      "6*7 = 42\n",
      "6*8 = 48\n",
      "6*9 = 54\n",
      "6*10 = 60\n",
      "\n",
      "b) Multiplication table of 13:\n",
      "13*2 = 26\n",
      "13*3 = 39\n",
      "13*4 = 52\n",
      "13*5 = 65\n",
      "13*6 = 78\n",
      "13*7 = 91\n",
      "\n",
      "c) Multiplication tables, 0 to 10.\n",
      "0*0 = 0  1*0 = 0  2*0 = 0  3*0 = 0  4*0 = 0  5*0 = 0  6*0 = 0  7*0 = 0  8*0 = 0  9*0 = 0  10*0 = 0  \n",
      "0*1 = 0  1*1 = 1  2*1 = 2  3*1 = 3  4*1 = 4  5*1 = 5  6*1 = 6  7*1 = 7  8*1 = 8  9*1 = 9  10*1 = 10  \n",
      "0*2 = 0  1*2 = 2  2*2 = 4  3*2 = 6  4*2 = 8  5*2 = 10  6*2 = 12  7*2 = 14  8*2 = 16  9*2 = 18  10*2 = 20  \n",
      "0*3 = 0  1*3 = 3  2*3 = 6  3*3 = 9  4*3 = 12  5*3 = 15  6*3 = 18  7*3 = 21  8*3 = 24  9*3 = 27  10*3 = 30  \n",
      "0*4 = 0  1*4 = 4  2*4 = 8  3*4 = 12  4*4 = 16  5*4 = 20  6*4 = 24  7*4 = 28  8*4 = 32  9*4 = 36  10*4 = 40  \n",
      "0*5 = 0  1*5 = 5  2*5 = 10  3*5 = 15  4*5 = 20  5*5 = 25  6*5 = 30  7*5 = 35  8*5 = 40  9*5 = 45  10*5 = 50  \n",
      "0*6 = 0  1*6 = 6  2*6 = 12  3*6 = 18  4*6 = 24  5*6 = 30  6*6 = 36  7*6 = 42  8*6 = 48  9*6 = 54  10*6 = 60  \n",
      "0*7 = 0  1*7 = 7  2*7 = 14  3*7 = 21  4*7 = 28  5*7 = 35  6*7 = 42  7*7 = 49  8*7 = 56  9*7 = 63  10*7 = 70  \n",
      "0*8 = 0  1*8 = 8  2*8 = 16  3*8 = 24  4*8 = 32  5*8 = 40  6*8 = 48  7*8 = 56  8*8 = 64  9*8 = 72  10*8 = 80  \n",
      "0*9 = 0  1*9 = 9  2*9 = 18  3*9 = 27  4*9 = 36  5*9 = 45  6*9 = 54  7*9 = 63  8*9 = 72  9*9 = 81  10*9 = 90  \n",
      "0*10 = 0  1*10 = 10  2*10 = 20  3*10 = 30  4*10 = 40  5*10 = 50  6*10 = 60  7*10 = 70  8*10 = 80  9*10 = 90  10*10 = 100  \n"
     ]
    }
   ],
   "metadata": {}
  },
  {
   "cell_type": "markdown",
   "source": [
    "# 4. Faculty\n",
    "Use a for statement to compute  n! .\n",
    "\n",
    "n!=1 x 2 x 3 x … x (n−1) x n \n",
    "\n",
    "Let the user input  n ."
   ],
   "metadata": {}
  },
  {
   "cell_type": "code",
   "execution_count": 18,
   "source": [
    "endnumber  = int(input(\"Calculates n!, what is your number n?: \"))\n",
    "multiplets = 1\n",
    "\n",
    "for i in range(1,endnumber+1):\n",
    "    multiplets *= i\n",
    "print(f\"Faculty: {endnumber}! = {multiplets}\")\n"
   ],
   "outputs": [
    {
     "output_type": "stream",
     "name": "stdout",
     "text": [
      "Faculty: 5! = 120\n"
     ]
    }
   ],
   "metadata": {}
  },
  {
   "cell_type": "markdown",
   "source": [
    "# 5. Guess the number\n",
    "\n",
    "The computer thinks of a four-digit number. Start by creating a random four-digit number. Use for statement to figure out a correct guess"
   ],
   "metadata": {}
  },
  {
   "cell_type": "code",
   "execution_count": 24,
   "source": [
    "import random as rnd\n",
    "# Create 4 digit random number\n",
    "number = rnd.randint(1000,9999)\n",
    "\n",
    "print(f\"Computer number is {number}\")\n",
    "\n",
    "for i in range(10000):\n",
    "    if i == number:\n",
    "        print(f\"Correct guess number is {i}\")\n",
    "        break\n",
    "# Is it really this simple? Should I use a more effective algorithm?\n"
   ],
   "outputs": [
    {
     "output_type": "stream",
     "name": "stdout",
     "text": [
      "Computer number is 9999\n",
      "Correct guess number is 9999\n"
     ]
    }
   ],
   "metadata": {}
  },
  {
   "cell_type": "markdown",
   "source": [
    "# 6. Rice on chessboard\n",
    "\n",
    "In first square of the chessboard there is one grain of rice, in the second square there is two grains, in the third square there is four grains and so on. How many grains are there in the whole chessboard when all squares are filled using this pattern?"
   ],
   "metadata": {}
  },
  {
   "cell_type": "code",
   "execution_count": 27,
   "source": [
    "# In chess square n there are 2**(n-1) grains of rice, where n = {1,2,... 64}\n",
    "# N = 64 since there are 8*8 squares on a chess board.\n",
    "\n",
    "Ngrains = 0 # Total number of grains.\n",
    "\n",
    "for nsquares in range(65):\n",
    "    Ngrains += 2**nsquares\n",
    "print(f\"Total number of grains on the board is {Ngrains}, which is approximately {Ngrains:.2E}\")\n"
   ],
   "outputs": [
    {
     "output_type": "stream",
     "name": "stdout",
     "text": [
      "The total number of grains on the chess board is 36893488147419103231, which is approximately 3.69E+19\n"
     ]
    }
   ],
   "metadata": {}
  },
  {
   "cell_type": "code",
   "execution_count": null,
   "source": [],
   "outputs": [],
   "metadata": {}
  }
 ],
 "metadata": {
  "orig_nbformat": 4,
  "language_info": {
   "name": "python",
   "version": "3.8.10",
   "mimetype": "text/x-python",
   "codemirror_mode": {
    "name": "ipython",
    "version": 3
   },
   "pygments_lexer": "ipython3",
   "nbconvert_exporter": "python",
   "file_extension": ".py"
  },
  "kernelspec": {
   "name": "python3",
   "display_name": "Python 3.8.10 64-bit ('python-programming-joachim-wiegert-fZjbk6tr': pipenv)"
  },
  "interpreter": {
   "hash": "de864f23ecce18368aca897744c10e4777c02bb172d81296c258f6e3610de71e"
  }
 },
 "nbformat": 4,
 "nbformat_minor": 2
}