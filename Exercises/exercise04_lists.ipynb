{
 "cells": [
  {
   "cell_type": "markdown",
   "source": [
    "# 1. Dice rolls\n",
    "\n",
    "Simulate 10 dice rolls and append the rolls to a list or use list comprehension.\n",
    "\n",
    "  a)   sort the list in ascending order (*)\n",
    "\n",
    "  b)   sort the list in descending order (*)\n",
    "\n",
    "  c)   find the maximum and minimum value in the list (*)"
   ],
   "metadata": {}
  },
  {
   "cell_type": "code",
   "execution_count": 13,
   "source": [
    "import random as rnd\n",
    "\n",
    "Ndice   = 10 # number of dice rolls\n",
    "results = []\n",
    "\n",
    "for i in range(Ndice):\n",
    "    results.append(rnd.randint(1,6))\n",
    "\n",
    "print(f\"Unsorted results: {results}\")\n",
    "results.sort()\n",
    "print(f\"a) Ascending order: {results}\")\n",
    "results.sort(reverse = True)\n",
    "print(f\"b) Descending order: {results}\")\n",
    "print(f\"c) Maximum: {max(results)}. Minimum: {min(results)}\")\n"
   ],
   "outputs": [
    {
     "output_type": "stream",
     "name": "stdout",
     "text": [
      "Unsorted results: [1, 5, 4, 1, 1, 1, 2, 2, 1, 3]\n",
      "a) Ascending order: [1, 1, 1, 1, 1, 2, 2, 3, 4, 5]\n",
      "b) Descending order: [5, 4, 3, 2, 2, 1, 1, 1, 1, 1]\n",
      "c) Maximum: 5. Minimum: 1\n"
     ]
    }
   ],
   "metadata": {}
  },
  {
   "cell_type": "markdown",
   "source": [
    "# 2. Food menu\n",
    "\n",
    "Create a:\n",
    "\n",
    "  a)   list with the following elements: \"vegetarisk lasagne\", \"spaghetti\", \"fisk\", \"grönsakssoppa\", \"pannkakor\". (*)\n",
    "\n",
    "  b)   list with the weekdays (*)\n",
    "\n",
    "  c)   create a food menu with each day corresponding to each food item and print it out. (*)\n",
    "  "
   ],
   "metadata": {}
  },
  {
   "cell_type": "code",
   "execution_count": 22,
   "source": [
    "foodlist   = ['vegetarisk lasagne','spaghetti','fisk','grönsakssoppa','pannkakor']\n",
    "weekdays   = ['monday','tuesday','wednesday','thursday','friday','saturday','sunday']\n",
    "menu       = []\n",
    "Ndays      = 7\n",
    "Nfooditems = 5\n",
    "\n",
    "print(\"This week's food menu:\")\n",
    "for i in range(Ndays):\n",
    "    # Save the menu in a list for possible later usage.\n",
    "    # Random food item from list per day to vary the weeks.\n",
    "    menu.append(weekdays[i]+\": \"+foodlist[rnd.randint(0,4)])\n",
    "    print(menu[i])\n"
   ],
   "outputs": [
    {
     "output_type": "stream",
     "name": "stdout",
     "text": [
      "This week's food menu:\n",
      "monday: pannkakor\n",
      "tuesday: fisk\n",
      "wednesday: spaghetti\n",
      "thursday: fisk\n",
      "friday: pannkakor\n",
      "saturday: pannkakor\n",
      "sunday: fisk\n"
     ]
    }
   ],
   "metadata": {}
  },
  {
   "cell_type": "markdown",
   "source": [
    "# 3. Squares (*)\n",
    "\n",
    "  a)   Use list comprehension to create a list of squares from -10 to 10 (*)\n",
    "\n",
    "  a)   Plot this list using matplotlib. (*)"
   ],
   "metadata": {}
  },
  {
   "cell_type": "markdown",
   "source": [
    "# 4. Chessboard (**)\n",
    "\n",
    "  a)   Create this list using list comprehension: (*)\n",
    "\n",
    "['A1', 'B1', 'C1', 'D1', 'E1', 'F1', 'G1', 'H1']\n",
    "\n",
    "  b)   Create a 2D list to hold the coordinates in a chessboard. (**)"
   ],
   "metadata": {}
  },
  {
   "cell_type": "markdown",
   "source": [
    "# 5. Dice rolls convergence (**)\n",
    "\n",
    "Simulate:\n",
    "\n",
    "  a)   100 dice rolls and count the number of outcome six. (*)\n",
    "\n",
    "  b)   10, 100, 1000, 10000, 100000, 1000000 dice rolls. Count the number of outcome six in each simulation and store it in a list. Compute the probability of outcome six in each simulation. (**)\n",
    "\n",
    "  c)   Use matplotlib to plot this list. (*)"
   ],
   "metadata": {}
  },
  {
   "cell_type": "markdown",
   "source": [],
   "metadata": {}
  }
 ],
 "metadata": {
  "orig_nbformat": 4,
  "language_info": {
   "name": "python",
   "version": "3.8.10",
   "mimetype": "text/x-python",
   "codemirror_mode": {
    "name": "ipython",
    "version": 3
   },
   "pygments_lexer": "ipython3",
   "nbconvert_exporter": "python",
   "file_extension": ".py"
  },
  "kernelspec": {
   "name": "python3",
   "display_name": "Python 3.8.10 64-bit ('python-programming-joachim-wiegert-fZjbk6tr': pipenv)"
  },
  "interpreter": {
   "hash": "de864f23ecce18368aca897744c10e4777c02bb172d81296c258f6e3610de71e"
  }
 },
 "nbformat": 4,
 "nbformat_minor": 2
}