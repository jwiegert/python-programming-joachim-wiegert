{
 "cells": [
  {
   "cell_type": "markdown",
   "source": [
    "# 1. Check sign\n",
    "Ask the user to input a number and check if this number is positive, negative or zero and print it out."
   ],
   "metadata": {}
  },
  {
   "cell_type": "code",
   "execution_count": 4,
   "source": [
    "number = float(input(\"Please write any number:\" ))\n",
    "if number >  0:\n",
    "    print(f\"Number {number} is positive\")\n",
    "if number <  0:\n",
    "    print(f\"Number {number} is negative\")\n",
    "if number == 0:\n",
    "    print(f\"Number {number} is zero\")\n"
   ],
   "outputs": [
    {
     "output_type": "stream",
     "name": "stdout",
     "text": [
      "Number 0.0 is zero\n"
     ]
    }
   ],
   "metadata": {}
  },
  {
   "cell_type": "markdown",
   "source": [
    "# 2. Smallest\n",
    "Ask the user to input two numbers and check which one is the smallest and print it out."
   ],
   "metadata": {}
  },
  {
   "cell_type": "code",
   "execution_count": 10,
   "source": [
    "number1 = float(input(\"Please write any number:\" ))\n",
    "number2 = float(input(\"Thank you, now write another number:\" ))\n",
    "if number1 < number2:\n",
    "    print(f\"{number2:.1f} is larger than {number1:.1f}.\")\n",
    "if number1 > number2:\n",
    "    print(f\"{number1:.1f} is larger than {number2:.1f}.\")\n",
    "if number1 == number2:\n",
    "    print(f\"Your two numbers are equal.\")\n"
   ],
   "outputs": [
    {
     "output_type": "stream",
     "name": "stdout",
     "text": [
      "3.0 is larger than 1.0.\n"
     ]
    }
   ],
   "metadata": {}
  },
  {
   "cell_type": "markdown",
   "source": [
    "# 3. Right angle\n",
    "Ask the user to input three angles and check if the triangle has a right angle. Your code should make sure that all three angles are valid and make up a triangle."
   ],
   "metadata": {}
  },
  {
   "cell_type": "code",
   "execution_count": 27,
   "source": [
    "# Ask for three angles:\n",
    "angle = [0,0,0]\n",
    "print(\"Please give me three angles of a triangle\")\n",
    "angle[0] = float(input(\"Angle 1: \"))\n",
    "angle[1] = float(input(\"Angle 2: \"))\n",
    "angle[2] = float(input(\"Angle 3: \"))\n",
    "\n",
    "if sum(angle) == 180:\n",
    "    if angle[0] < 0 or angle[1] < 0 or angle[2] < 0:\n",
    "        print(\"Error: one or more angle is negative!\")\n",
    "    elif max(angle) == 90:\n",
    "        print(\"Your triangle has a right angle.\")\n",
    "    else:\n",
    "        print(\"Your triangle does not have a right angle.\")\n",
    "elif angle[0] < 0 or angle[1] < 0 or angle[2] < 0:\n",
    "    print(\"Error: one or more angle is negative!\")\n",
    "else:\n",
    "    print(\"Error: your angles do not make up a triangle!\")\n",
    "\n"
   ],
   "outputs": [
    {
     "output_type": "stream",
     "name": "stdout",
     "text": [
      "Please give me three angles of a triangle\n",
      "Error: your angles do not make up a triangle!\n"
     ]
    }
   ],
   "metadata": {}
  },
  {
   "cell_type": "markdown",
   "source": [
    "# 4. Medicine\n",
    "The information in the following table is stated in a medicine package. Let the user input an age and a weight, the program should recommend the number of pills for the user."
   ],
   "metadata": {}
  },
  {
   "cell_type": "code",
   "execution_count": 49,
   "source": [
    "# Info from medicine package on number of pills:\n",
    "# Adults and adolescent: age > 12yrs  : 1   - 2 pills\n",
    "# Children 26-40kg: age 7-12yrs       : 0.5 - 1 pills\n",
    "# Children 15-25kg: age 3-7yrs        : 0.5\n",
    "# Age is approximate, weight is important!\n",
    "\n",
    "age    = float(input(\"Please write age (in years): \"))\n",
    "weight = float(input(\"and write weight (in kg): \"))\n",
    "\n",
    "if weight >  40 and age > 3:\n",
    "    print(\"I recommend 1 to 2 pills\")\n",
    "if weight >= 26 and weight <= 40 and age > 3:\n",
    "    print(\"I recommend 1/2 to 1 pills\")\n",
    "if weight >= 15 and weight <  26 and age > 3:\n",
    "    print(\"I recommend 1/2 pills\")\n",
    "if weight < 15 or age < 3:\n",
    "    print(\"This medicine is not appropiate for this child.\")\n"
   ],
   "outputs": [
    {
     "output_type": "stream",
     "name": "stdout",
     "text": [
      "This medicine is not appropiate for this child.\n"
     ]
    }
   ],
   "metadata": {}
  },
  {
   "cell_type": "markdown",
   "source": [
    "# 5. Divisible\n",
    "Let the user input a number. Check if the number is\n",
    "- even or odd\n",
    "- is divisible by 5\n",
    "- is divisble by 5 and odd"
   ],
   "metadata": {}
  },
  {
   "cell_type": "code",
   "execution_count": 60,
   "source": [
    "number = float(input(\"Please write a number: \"))\n",
    "if number%2 == 0:\n",
    "    print(\"Number is even.\")\n",
    "else:\n",
    "    print(\"Number is odd\")\n",
    "if number%5 == 0:\n",
    "    print(\"Number is divisable with 5\")\n",
    "\n",
    "# I can also write but it seems redundant.\n",
    "# if number%5 == 0 and number%2 != 0:\n",
    "#    print(\"Number is divisable with 5 and odd\")"
   ],
   "outputs": [
    {
     "output_type": "stream",
     "name": "stdout",
     "text": [
      "Number is odd\n"
     ]
    }
   ],
   "metadata": {}
  },
  {
   "cell_type": "markdown",
   "source": [
    "# 6. Luggage size\n",
    "The maximum allowed luggage size for boarding an airplane is:\n",
    "- weight: 8kg\n",
    "- dimensions: 55x40x23cm (length x width x height)\n",
    "Let the user input weight, length, width and height of the luggage. The program should check if the luggage is allowed or not."
   ],
   "metadata": {}
  },
  {
   "cell_type": "code",
   "execution_count": 65,
   "source": [
    "weight = float(input(\"Please write the following for your bag...\\n weight in kg: \"))\n",
    "length = float(input(\"length in cm: \"))\n",
    "width  = float(input(\" width in cm: \"))\n",
    "height = float(input(\"length in cm: \"))\n",
    "\n",
    "if weight > 8:\n",
    "    print(\"Sorry, your bag is too heavy\")\n",
    "elif length > 55:\n",
    "    print(\"Sorry, your bag is too long\")\n",
    "elif width  > 40:\n",
    "    print(\"Sorry, your bag is too wide\")\n",
    "elif height > 23:\n",
    "    print(\"Sorry, your bag is too high\")\n",
    "else:\n",
    "    print(\"Your bag is allowed onboard!\")\n",
    "\n"
   ],
   "outputs": [
    {
     "output_type": "stream",
     "name": "stdout",
     "text": [
      "Sorry, your bag is too long\n"
     ]
    }
   ],
   "metadata": {}
  }
 ],
 "metadata": {
  "orig_nbformat": 4,
  "language_info": {
   "name": "python",
   "version": "3.8.10",
   "mimetype": "text/x-python",
   "codemirror_mode": {
    "name": "ipython",
    "version": 3
   },
   "pygments_lexer": "ipython3",
   "nbconvert_exporter": "python",
   "file_extension": ".py"
  },
  "kernelspec": {
   "name": "python3",
   "display_name": "Python 3.8.10 64-bit"
  },
  "interpreter": {
   "hash": "916dbcbb3f70747c44a77c7bcd40155683ae19c65e1c03b4aa3499c5328201f1"
  }
 },
 "nbformat": 4,
 "nbformat_minor": 2
}