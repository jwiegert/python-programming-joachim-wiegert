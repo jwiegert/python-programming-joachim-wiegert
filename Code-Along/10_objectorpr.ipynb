{
 "cells": [
  {
   "cell_type": "markdown",
   "source": [
    "# OOP Basics\n",
    "\n",
    "Object oriented programming basics"
   ],
   "metadata": {}
  },
  {
   "cell_type": "code",
   "execution_count": 1,
   "source": [
    "class Antagning: # Creates a class, this is out blueprint\n",
    "    # Start a dunder init, double underscore, is a \"special init\"\n",
    "    # special methods in python, more of this later\n",
    "    def __init__(self):\n",
    "        pass # pass does nothing here\n",
    "\n",
    "a1 = Antagning() # instantiated an object from the class Antagning\n",
    "print(a1) # Gives <__main__.Antagning object at 0x7f5ccc1e2640>, 0x... is a position in the memory"
   ],
   "outputs": [
    {
     "output_type": "stream",
     "name": "stdout",
     "text": [
      "<__main__.Antagning object at 0x7f5ccc1e2640>\n"
     ]
    }
   ],
   "metadata": {}
  },
  {
   "cell_type": "code",
   "execution_count": 6,
   "source": [
    "# Example from lecture notes (Antagningsformulär)\n",
    "# 1. Create a class\n",
    "class Antagning:\n",
    "    # Self refers to the object that is created, refers to itself...\n",
    "    # Here we also list attributes to the object\n",
    "    #\n",
    "    # There are positional arguments (listed first, school --- name), MUST be filled\n",
    "    # Then Default parameter(\"accept=False\" which here accepts a boolian True/False)\n",
    "    # If I only write \"accept\" then it's a positional argument.\n",
    "    # Default parameters does NOT have to be filled\n",
    "    # and keyword arguments, then you write \"name = \"Goran\"\" later\n",
    "    def __init__(self, school, program, name, accept=False) -> None: # returns none.\n",
    "        # The following assigns arguments to the object attributes\n",
    "        self.school  = school\n",
    "        self.program = program\n",
    "        self.name    = name\n",
    "        self.accept  = accept\n",
    "#\n",
    "# 2. Create a few objects from this class\n",
    "#\n",
    "person1 = Antagning(\"Cool School\", \"AI\", \"Goran Bord\", False) # This is a constructor\n",
    "print(f\"person1: {person1}\") # Only gives the memory position\n",
    "print(f\"person1.name: {person1.name}\")\n",
    "print(f\"person1.school: {person1.school}\")\n",
    "print(f\"person1.__dict__: {person1.__dict__}\") # Prints all values with dunder dict\n",
    "# Nothing in keyword argument\n",
    "person2 = Antagning(\"ITHS\", \"UX\", \"Borat Gord\")\n",
    "print(f\"person2.accept: {person2.accept}\")\n",
    "\n"
   ],
   "outputs": [
    {
     "output_type": "stream",
     "name": "stdout",
     "text": [
      "person1: <__main__.Antagning object at 0x7f5cc80d6940>\n",
      "person1.name: Goran Bord\n",
      "person1.school: Cool School\n",
      "person1.__dict__: {'school': 'Cool School', 'program': 'AI', 'name': 'Goran Bord', 'accept': False}\n",
      "person2.accept: False\n"
     ]
    }
   ],
   "metadata": {}
  },
  {
   "cell_type": "code",
   "execution_count": null,
   "source": [],
   "outputs": [],
   "metadata": {}
  }
 ],
 "metadata": {
  "orig_nbformat": 4,
  "language_info": {
   "name": "python",
   "version": "3.8.10",
   "mimetype": "text/x-python",
   "codemirror_mode": {
    "name": "ipython",
    "version": 3
   },
   "pygments_lexer": "ipython3",
   "nbconvert_exporter": "python",
   "file_extension": ".py"
  },
  "kernelspec": {
   "name": "python3",
   "display_name": "Python 3.8.10 64-bit ('python-programming-joachim-wiegert-fZjbk6tr': pipenv)"
  },
  "interpreter": {
   "hash": "de864f23ecce18368aca897744c10e4777c02bb172d81296c258f6e3610de71e"
  }
 },
 "nbformat": 4,
 "nbformat_minor": 2
}