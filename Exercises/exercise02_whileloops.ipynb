{
 "cells": [
  {
   "cell_type": "markdown",
   "source": [
    "# 1. Count numbers\n",
    "\n",
    "Use a while statement to count from -10 to 10 with one increment."
   ],
   "metadata": {}
  },
  {
   "cell_type": "code",
   "execution_count": 1,
   "source": [
    "number = -10\n",
    "while number <= 10:\n",
    "    print(number, end=\", \")\n",
    "    number += 1\n"
   ],
   "outputs": [
    {
     "output_type": "stream",
     "name": "stdout",
     "text": [
      "-10, -9, -8, -7, -6, -5, -4, -3, -2, -1, 0, 1, 2, 3, 4, 5, 6, 7, 8, 9, 10, "
     ]
    }
   ],
   "metadata": {}
  },
  {
   "cell_type": "markdown",
   "source": [
    "# 2. Arithmetic sum\n",
    "Use a while statement to compute the following sums:\n",
    "  \n",
    "  a)    sum=1+2+…+99+100 \n",
    "  \n",
    "  b)    sum=1+3+5+…+97+99"
   ],
   "metadata": {}
  },
  {
   "cell_type": "code",
   "execution_count": 6,
   "source": [
    "number = 1\n",
    "sum1 = 0 # Sum of all integers, 1 to 100\n",
    "sum2 = 0 # Sum of all odd integers, 1 to 100\n",
    "while number <= 100:\n",
    "    sum1 += number\n",
    "    if number%2 != 0: # Only look at odd numbers\n",
    "        sum2 += number\n",
    "    number += 1 # Increase number\n",
    "#\n",
    "# Print sums\n",
    "#\n",
    "print(f\"Sum of all integers 1 to 100: {sum1}\")\n",
    "print(f\"Sum of all odd integers 1 to 100: {sum2}\")\n"
   ],
   "outputs": [
    {
     "output_type": "stream",
     "name": "stdout",
     "text": [
      "Sum of all integers 1 to 100: 5050\n",
      "Sum of all odd integers 1 to 100: 2500\n"
     ]
    }
   ],
   "metadata": {}
  },
  {
   "cell_type": "markdown",
   "source": [
    "# 3. Guess number game\n",
    "\n",
    "a)   Create a guessing number game following a flow chart (online)"
   ],
   "metadata": {}
  },
  {
   "cell_type": "code",
   "execution_count": 40,
   "source": [
    "# Flow:\n",
    "# 1. Randomize an integer 1-100\n",
    "# 2. Let user guess.\n",
    "# 3. Correct answer?\n",
    "# No : Let user guess again.\n",
    "# Yes: Congratulation and end.\n",
    "#\n",
    "import random as rnd\n",
    "number     = rnd.randint(1,100)\n",
    "usernumber = int(input(\"Guess an integer between 1 to 100:\"))\n",
    "counter    = 0\n",
    "#\n",
    "# Start the game\n",
    "#\n",
    "while number != usernumber:\n",
    "    counter += 1 # Increase number of guesses\n",
    "    if usernumber > 100 or usernumber < 1:\n",
    "        usernumber = int(input(\"Your number was not between 1 to 100. Guess another 1 to 100:\"))\n",
    "    else:\n",
    "        if usernumber > number:\n",
    "            print(\"Your number is too large.\")\n",
    "        else:\n",
    "            print(\"Your number is too small.\")\n",
    "        usernumber = int(input(\"Guess another between 1 to 100:\"))\n",
    "print(f\"Congratulations! You found the correct number, {number} (in {counter} guesses)! Game over.\")\n"
   ],
   "outputs": [
    {
     "output_type": "stream",
     "name": "stdout",
     "text": [
      "Your number is too large.\n",
      "Your number is too small.\n",
      "Your number is too small.\n",
      "Your number is too small.\n",
      "Your number is too small.\n",
      "Congratulations! You found the correct number, 47 (in 5 guesses)! Game over.\n"
     ]
    }
   ],
   "metadata": {}
  },
  {
   "cell_type": "markdown",
   "source": [
    "b)   Make an algorithm to automatically guess the correct number. Can you optimize to get as few guesses as possible?"
   ],
   "metadata": {}
  },
  {
   "cell_type": "code",
   "execution_count": 39,
   "source": [
    "# Flow:\n",
    "# 1. Randomize an integer 1-100\n",
    "# 2. Let computer find the random number\n",
    "# 3. Correct answer?\n",
    "# No : Let user guess again.\n",
    "# Yes: Congratulation and end.\n",
    "#\n",
    "import random as rnd\n",
    "number        = rnd.randint(0,100)\n",
    "guesses       = [rnd.randint(0,100),0,0,0]\n",
    "counter       =  0\n",
    "smallcounter  =  0\n",
    "largecounter  =  0\n",
    "#\n",
    "# Start the game\n",
    "#\n",
    "print(f\"The correct answer is {number}\")\n",
    "print(f\"First guess is {guesses[0]}.\")\n",
    "#\n",
    "# 1. Loop while the number is incorrect.\n",
    "#\n",
    "while number != guesses[0]:\n",
    "    #\n",
    "    # Increase guess counter and save first previous guess\n",
    "    #\n",
    "    counter   += 1\n",
    "    guesses[1] = guesses[0]\n",
    "    #\n",
    "    # Check if the guess is larger or smaller.\n",
    "    #\n",
    "    if guesses[0] > number:\n",
    "        #\n",
    "        # Guess is too large, find a smaller\n",
    "        # Run counter of how many downward guess we do, reset upward counter\n",
    "        #\n",
    "        smallcounter += 1\n",
    "        largecounter  = 0\n",
    "        #\n",
    "        # If we go down more than once in a row, set prevprev to prevprevprev\n",
    "        #\n",
    "        if smallcounter > 1:\n",
    "            guesses[2] = guesses[3]\n",
    "        guesses[0] = guesses[2] + int(round((guesses[1]-guesses[2])/2))\n",
    "        print(f\"Guess was too large, need smaller, guess number {counter} is {guesses[0]}\")\n",
    "    else:\n",
    "        #\n",
    "        # Guess is too small, find a larger\n",
    "        # Run counter of how many upward guess we do, reset downward counter\n",
    "        #\n",
    "        smallcounter  = 0\n",
    "        largecounter += 1\n",
    "        #\n",
    "        # Set prevprev to 100 if we start by going up\n",
    "        # or to prevprevprev if we go up more than once in a row.\n",
    "        #\n",
    "        if counter == 1:\n",
    "            guesses[2] = 100\n",
    "        if largecounter > 1:\n",
    "            guesses[2] = guesses[3]\n",
    "        guesses[0] = guesses[1] + int(round((guesses[2]-guesses[1])/2))\n",
    "        print(f\"Guess was too small, need larger,  guess number {counter} is {guesses[0]}\")\n",
    "    #\n",
    "    # Update 2nd and 3rd previous guesses.\n",
    "    #\n",
    "    guesses[3] = guesses[2]\n",
    "    guesses[2] = guesses[1]\n",
    "    #\n",
    "    # Emergency breaks for debugging!\n",
    "    #\n",
    "    if counter > 1e3:\n",
    "        print(\"Too many guesses! BREAK.\")\n",
    "        break\n",
    "    if guesses[0] > 100:\n",
    "        print(\"usernumber > 100\")\n",
    "        break\n",
    "    elif guesses[0] < 0:\n",
    "        print(\"usernumber < 0\")\n",
    "        break\n",
    "print(f\"Guess number {counter}, was {guesses[0]}. Correct is {number}\")\n"
   ],
   "outputs": [
    {
     "output_type": "stream",
     "name": "stdout",
     "text": [
      "The correct answer is 60\n",
      "First guess is 25.\n",
      "Guess was too small, need larger,  guess number 1 is 63\n",
      "Guess was too large, need smaller, guess number 2 is 44\n",
      "Guess was too small, need larger,  guess number 3 is 54\n",
      "Guess was too small, need larger,  guess number 4 is 58\n",
      "Guess was too small, need larger,  guess number 5 is 60\n",
      "Guess number 5, was 60. Correct is 60\n"
     ]
    }
   ],
   "metadata": {}
  },
  {
   "cell_type": "markdown",
   "source": [
    "# 4. Multiplication game\n",
    "\n",
    "a)   Create a multiplication game following a flow chat (see comments)\n",
    "\n",
    "b)   Add a menu for choosing difficulty level of the game\n",
    "\n",
    "c)   Feel free to extend this program with features of your choice."
   ],
   "metadata": {}
  },
  {
   "cell_type": "code",
   "execution_count": 50,
   "source": [
    "# Flow chart\n",
    "# 1) Randomize and show two numbers, x and y (1to10)\n",
    "# Ask user for x times y.\n",
    "# Is it correct?\n",
    "#  No > Write correct answer (decrease score?)\n",
    "# Yes > Congratulations and increase score\n",
    "# Play again?\n",
    "# Yes, restart at 1)\n",
    "#  No, End and write out score.\n",
    "#\n",
    "import random as rnd\n",
    "\n",
    "contingame = 'y'\n",
    "score      = 0\n",
    "\n",
    "print(\"Welcome. This is a multiplication game! Multiply numbers and collect scores. You lose points if you answer incorrectly.\")\n",
    "\n",
    "while contingame == 'y' or contingame == 'Y' or contingame == 'yes' or contingame == 'Yes':\n",
    "    #\n",
    "    # Choose difficulty\n",
    "    #\n",
    "    print(\"Choose difficulty: easy, medium, or hard?\")\n",
    "    difficulty = input(\"Difficulty? (easy/medium/hard or e/m/h): \")\n",
    "    print(\"Choose operator, +, -, *, /.\")\n",
    "    operator = input(\"Write operator,  +, -, *, /\")\n",
    "    #\n",
    "    # Give numbers (depending on difficulty)\n",
    "    #\n",
    "    if difficulty == 'easy'   or difficulty == 'e':\n",
    "        numbers = [rnd.randint(0,10)  ,rnd.randint(0,10)]\n",
    "    elif difficulty == 'medium' or difficulty == 'm':\n",
    "        numbers = [rnd.randint(0,20)  ,rnd.randint(0,10)]\n",
    "    elif difficulty == 'hard'   or difficulty == 'h':\n",
    "        numbers = [rnd.randint(-10,30),rnd.randint(-10,10)]\n",
    "    else:\n",
    "        print(\"ERROR! You did not give a correct difficulty.\")\n",
    "        break\n",
    "    #\n",
    "    # Compute answer and ask for answer.\n",
    "    #\n",
    "    if   operator == '*':\n",
    "        correct = numbers[0] * numbers[1]\n",
    "        print(f\"What is {numbers[0]} times {numbers[1]}\")\n",
    "    elif operator == '/':\n",
    "        correct = round(numbers[0] / numbers[1])\n",
    "        print(f\"Approximate {numbers[0]} divided by {numbers[1]} to zero decimals\")\n",
    "    elif operator == '+':\n",
    "        correct = numbers[0] + numbers[1]\n",
    "        print(f\"What is {numbers[0]} plus {numbers[1]}\")\n",
    "    elif operator == '-':\n",
    "        correct = numbers[0] - numbers[1]\n",
    "        print(f\"What is {numbers[0]} minus {numbers[1]}\")\n",
    "    else:\n",
    "        print(\"ERROR: You did not give a correct operator.\")\n",
    "        break\n",
    "    answer  = float(input(\"Write your answer here: \"))\n",
    "    #\n",
    "    # Check answer\n",
    "    #\n",
    "    if answer != correct:\n",
    "        score -= 1\n",
    "        print(f\"That was incorrect. Correct was {correct:.0f}. You have {score} points\")\n",
    "    else:\n",
    "        score += 1\n",
    "        print(f\"Correct! You have {score} points\")\n",
    "    #\n",
    "    # Ask for continuation.\n",
    "    #\n",
    "    print(\"Would you like to play again? (y/n)\")\n",
    "    contingame = input(\"Play again? (y/n): \")\n",
    "\n",
    "print(f\"Thank you for playing. Your final score was {score}\")\n"
   ],
   "outputs": [
    {
     "output_type": "stream",
     "name": "stdout",
     "text": [
      "Welcome. This is a multiplication game! Multiply numbers and collect scores. You lose points if you answer incorrectly.\n",
      "Choose difficulty: easy, medium, or hard?\n",
      "Choose operator, +, -, *, /.\n",
      "Approximate 2 divided by 9 to zero decimals\n",
      "Correct! You have 1 points\n",
      "Choose difficulty: easy, medium, or hard?\n",
      "Choose operator, +, -, *, /.\n",
      "Approximate 1 divided by 4 to zero decimals\n",
      "Correct! You have 2 points\n",
      "Choose difficulty: easy, medium, or hard?\n",
      "Choose operator, +, -, *, /.\n",
      "Approximate 0 divided by 9 to zero decimals\n",
      "Correct! You have 3 points\n",
      "Choose difficulty: easy, medium, or hard?\n",
      "Choose operator, +, -, *, /.\n",
      "Approximate 5 divided by 5 to zero decimals\n",
      "Correct! You have 4 points\n",
      "Thank you for playing. Your final score was 4\n"
     ]
    }
   ],
   "metadata": {}
  },
  {
   "cell_type": "markdown",
   "source": [
    "# 5. Check convergence\n",
    "\n",
    "Use a while statement to compute the following sums:\n",
    "\n",
    "  a)    sum = 1 + 1/2 + 1/4 + 1/8 + ... +  1/2^n \n",
    "  \n",
    "  b)    sum = 1 - 1/3 + 1/5 - 1/7 + ... + (-1)^n / (2n+1)\n",
    "\n",
    "Try different values on  n  to see which value it converges to."
   ],
   "metadata": {}
  },
  {
   "cell_type": "code",
   "execution_count": 25,
   "source": [
    "# Find convergence of geometric(?) sums.\n",
    "#\n",
    "# sum1 = 1 + 1/2 + 1/4 + ... + 1/2^n\n",
    "#\n",
    "sum1     = 0\n",
    "deltasum = 1\n",
    "epsilon  = 1e-4 # Some small number, this is our tolerance factor.\n",
    "counter  = 0    # Counter to keep track of number of summations (is also 'n' in the sums)\n",
    "\n",
    "while deltasum > epsilon:\n",
    "    #\n",
    "    # Do summation and check difference with previous.\n",
    "    #\n",
    "    newsum   = sum1 + 1./2.**counter\n",
    "    deltasum = newsum - sum1\n",
    "    counter += 1\n",
    "    #\n",
    "    # Update sum\n",
    "    #\n",
    "    sum1     = newsum\n",
    "    if counter > 1e3:\n",
    "        print(\"Counter too large. Break!\")\n",
    "        break\n",
    "print(f\"1 + 1/2 + 1/4 + ... + 1/2**n = {sum1:.4f}\")\n",
    "print(f\"Theoretical result (n > inf): 2\")\n",
    "print(f\"Number of iterations, n = {counter}\")\n",
    "print()\n",
    "#\n",
    "# Second sum\n",
    "# sum1 = 1 - 1/3 + 1/5 + ... + -1^n / (2n+1)\n",
    "#\n",
    "import math\n",
    "sum1     = 0\n",
    "deltasum = 1\n",
    "epsilon  = 1e-5 # Some small number, this is our tolerance factor.\n",
    "counter  = 0    # Counter to keep track of number of summations (is also 'n' in the sums)\n",
    "\n",
    "while abs(deltasum) > abs(epsilon):\n",
    "    #\n",
    "    # Do summation and check difference with previous.\n",
    "    #\n",
    "    newsum   = sum1 + (-1)**counter / (2*counter + 1)\n",
    "    deltasum = newsum - sum1\n",
    "    counter += 1\n",
    "    #\n",
    "    # Update sum\n",
    "    #\n",
    "    sum1     = newsum\n",
    "    if counter > 1e5:\n",
    "        print(\"Counter too large. Break!\")\n",
    "        break\n",
    "print(f\"1 - 1/3 + 1/5 + ... + -1^n / (2n+1) = {sum1:.5f}\")\n",
    "print(f\"Theoretical result (n > inf): pi/4 = {math.pi/4.:.5f}\")\n",
    "print(f\"Number of iterations, n = {counter}\")\n",
    "print(deltasum)\n",
    "\n"
   ],
   "outputs": [
    {
     "output_type": "stream",
     "name": "stdout",
     "text": [
      "1 + 1/2 + 1/4 + ... + 1/2**n = 1.999\n",
      "Theoretical result (n > inf): 2\n",
      "Number of iterations, n = 11\n",
      "\n",
      "1 - 1/3 + 1/5 + ... + -1^n / (2n+1) = 0.78540\n",
      "Theoretical result (n > inf): pi/4 = 0.78540\n",
      "Number of iterations, n = 50001\n",
      "9.999900000945416e-06\n"
     ]
    }
   ],
   "metadata": {}
  },
  {
   "cell_type": "code",
   "execution_count": null,
   "source": [],
   "outputs": [],
   "metadata": {}
  }
 ],
 "metadata": {
  "orig_nbformat": 4,
  "language_info": {
   "name": "python",
   "version": "3.8.10",
   "mimetype": "text/x-python",
   "codemirror_mode": {
    "name": "ipython",
    "version": 3
   },
   "pygments_lexer": "ipython3",
   "nbconvert_exporter": "python",
   "file_extension": ".py"
  },
  "kernelspec": {
   "name": "python3",
   "display_name": "Python 3.8.10 64-bit ('python-programming-joachim-wiegert-fZjbk6tr': pipenv)"
  },
  "interpreter": {
   "hash": "de864f23ecce18368aca897744c10e4777c02bb172d81296c258f6e3610de71e"
  }
 },
 "nbformat": 4,
 "nbformat_minor": 2
}