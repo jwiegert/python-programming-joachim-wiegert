{
 "cells": [
  {
   "cell_type": "markdown",
   "source": [
    "# 1. Count numbers\n",
    "\n",
    "Use a while statement to count from -10 to 10 with one increment."
   ],
   "metadata": {}
  },
  {
   "cell_type": "code",
   "execution_count": 1,
   "source": [
    "number = -10\n",
    "while number <= 10:\n",
    "    print(number, end=\", \")\n",
    "    number += 1\n"
   ],
   "outputs": [
    {
     "output_type": "stream",
     "name": "stdout",
     "text": [
      "-10, -9, -8, -7, -6, -5, -4, -3, -2, -1, 0, 1, 2, 3, 4, 5, 6, 7, 8, 9, 10, "
     ]
    }
   ],
   "metadata": {}
  },
  {
   "cell_type": "markdown",
   "source": [
    "# 2. Arithmetic sum\n",
    "Use a while statement to compute the following sums:\n",
    "  \n",
    "  a)    sum=1+2+…+99+100 \n",
    "  \n",
    "  b)    sum=1+3+5+…+97+99"
   ],
   "metadata": {}
  },
  {
   "cell_type": "code",
   "execution_count": 6,
   "source": [
    "number = 1\n",
    "sum1 = 0 # Sum of all integers, 1 to 100\n",
    "sum2 = 0 # Sum of all odd integers, 1 to 100\n",
    "while number <= 100:\n",
    "    sum1 += number\n",
    "    if number%2 != 0: # Only look at odd numbers\n",
    "        sum2 += number\n",
    "    number += 1 # Increase number\n",
    "#\n",
    "# Print sums\n",
    "#\n",
    "print(f\"Sum of all integers 1 to 100: {sum1}\")\n",
    "print(f\"Sum of all odd integers 1 to 100: {sum2}\")\n"
   ],
   "outputs": [
    {
     "output_type": "stream",
     "name": "stdout",
     "text": [
      "Sum of all integers 1 to 100: 5050\n",
      "Sum of all odd integers 1 to 100: 2500\n"
     ]
    }
   ],
   "metadata": {}
  },
  {
   "cell_type": "markdown",
   "source": [
    "# 3. Guess number game\n",
    "\n",
    "a)   Create a guessing number game following a flow chart (online)\n",
    "\n",
    "b)   Make an algorithm to automatically guess the correct number. Can you optimize to get as few guesses as possible?"
   ],
   "metadata": {}
  },
  {
   "cell_type": "code",
   "execution_count": 18,
   "source": [
    "# Flow:\n",
    "# 1. Randomize an integer 1-100\n",
    "# 2. Let user guess.\n",
    "# 3. Correct answer?\n",
    "# No : Let user guess again.\n",
    "# Yes: Congratulation and end.\n",
    "#\n",
    "import random as rnd\n",
    "number     = rnd.randint(1,100)\n",
    "usernumber = int(input(\"Guess an integer between 1 to 100:\"))\n",
    "#\n",
    "# Start the game\n",
    "#\n",
    "while number != usernumber:\n",
    "    if usernumber > 100 or usernumber < 1:\n",
    "        usernumber = int(input(\"Your number was not between 1 to 100. Guess another 1 to 100:\"))\n",
    "    else:\n",
    "        usernumber = int(input(\"Wrong number. Guess another between 1 to 100:\"))\n",
    "print(f\"Congratulations! You found the correct number, {number}! Game over.\")\n"
   ],
   "outputs": [
    {
     "output_type": "stream",
     "name": "stdout",
     "text": [
      "Congratulations! You found the correct number, 4! Game over.\n"
     ]
    }
   ],
   "metadata": {}
  },
  {
   "cell_type": "code",
   "execution_count": null,
   "source": [],
   "outputs": [],
   "metadata": {}
  }
 ],
 "metadata": {
  "orig_nbformat": 4,
  "language_info": {
   "name": "python",
   "version": "3.8.10",
   "mimetype": "text/x-python",
   "codemirror_mode": {
    "name": "ipython",
    "version": 3
   },
   "pygments_lexer": "ipython3",
   "nbconvert_exporter": "python",
   "file_extension": ".py"
  },
  "kernelspec": {
   "name": "python3",
   "display_name": "Python 3.8.10 64-bit ('python-programming-joachim-wiegert-fZjbk6tr': pipenv)"
  },
  "interpreter": {
   "hash": "de864f23ecce18368aca897744c10e4777c02bb172d81296c258f6e3610de71e"
  }
 },
 "nbformat": 4,
 "nbformat_minor": 2
}