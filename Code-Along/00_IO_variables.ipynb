{
 "cells": [
  {
   "cell_type": "markdown",
   "source": [
    "# Input/output and variables"
   ],
   "metadata": {}
  },
  {
   "cell_type": "code",
   "execution_count": 8,
   "source": [
    "name = \"Joachim\"       # An input into a variable\n",
    "age  = 36              # My age, input as an integer.\n",
    "\n",
    "print(\"Hello!\")        # Simple print command\n",
    "print(\"Hi\", name, \"!\") # An old way to combine variable and strings in print\n",
    "print(f\"Hi {name}! You are {age} years old.\") # A newer (better) way of coding strings and variables\n",
    "\n",
    "name  = 35             # Possible to change class of variables on the go - but variable names should be descriptions\n",
    "print(f\"Hi {name}!\")   # Here we switched from string to integer\n",
    "\n",
    "age   = 36.3           # And here, int to float\n",
    "print(f\"More precisely, you are {age} years old.\")"
   ],
   "outputs": [
    {
     "output_type": "stream",
     "name": "stdout",
     "text": [
      "Hello!\n",
      "Hi Joachim !\n",
      "Hi Joachim! You are 36 years old.\n",
      "Hi 35!\n",
      "More precisely, you are 36.3 years old.\n"
     ]
    }
   ],
   "metadata": {}
  },
  {
   "cell_type": "markdown",
   "source": [
    "# Input from users"
   ],
   "metadata": {}
  },
  {
   "cell_type": "code",
   "execution_count": 12,
   "source": [
    "name = input(\"What is your name? \") # Inputs are strings!\n",
    "age  = input(\"How old are you? \")   # Even this one is a string.\n",
    "\n",
    "print(f\"Your name is {name}. You are {age} years old.\")\n",
    "\n",
    "age = age*2 # This is a string, will not become twice the age!\n",
    "print(age)"
   ],
   "outputs": [
    {
     "output_type": "stream",
     "name": "stdout",
     "text": [
      "Your name is Joachim. You are 36 years old.\n",
      "3636\n"
     ]
    }
   ],
   "metadata": {}
  },
  {
   "cell_type": "code",
   "execution_count": 13,
   "source": [
    "# Another test of how strings behave.\n",
    "gravity = 9.82\n",
    "mass = input(\"What is your weight? \")\n",
    "force = gravity * mass # gravity is a float while mass is a string here.\n",
    "print(f\"Your gravitation pull down is {force}\") # This won't work!"
   ],
   "outputs": [
    {
     "output_type": "error",
     "ename": "TypeError",
     "evalue": "can't multiply sequence by non-int of type 'float'",
     "traceback": [
      "\u001b[0;31m---------------------------------------------------------------------------\u001b[0m",
      "\u001b[0;31mTypeError\u001b[0m                                 Traceback (most recent call last)",
      "\u001b[0;32m/tmp/ipykernel_14952/3424137474.py\u001b[0m in \u001b[0;36m<module>\u001b[0;34m\u001b[0m\n\u001b[1;32m      2\u001b[0m \u001b[0mgravity\u001b[0m \u001b[0;34m=\u001b[0m \u001b[0;36m9.82\u001b[0m\u001b[0;34m\u001b[0m\u001b[0;34m\u001b[0m\u001b[0m\n\u001b[1;32m      3\u001b[0m \u001b[0mmass\u001b[0m \u001b[0;34m=\u001b[0m \u001b[0minput\u001b[0m\u001b[0;34m(\u001b[0m\u001b[0;34m\"What is your weight? \"\u001b[0m\u001b[0;34m)\u001b[0m\u001b[0;34m\u001b[0m\u001b[0;34m\u001b[0m\u001b[0m\n\u001b[0;32m----> 4\u001b[0;31m \u001b[0mforce\u001b[0m \u001b[0;34m=\u001b[0m \u001b[0mgravity\u001b[0m \u001b[0;34m*\u001b[0m \u001b[0mmass\u001b[0m\u001b[0;34m\u001b[0m\u001b[0;34m\u001b[0m\u001b[0m\n\u001b[0m\u001b[1;32m      5\u001b[0m \u001b[0mprint\u001b[0m\u001b[0;34m(\u001b[0m\u001b[0;34mf\"Your gravitation pull down is {force}\"\u001b[0m\u001b[0;34m)\u001b[0m \u001b[0;31m# This won't work!\u001b[0m\u001b[0;34m\u001b[0m\u001b[0;34m\u001b[0m\u001b[0m\n",
      "\u001b[0;31mTypeError\u001b[0m: can't multiply sequence by non-int of type 'float'"
     ]
    }
   ],
   "metadata": {}
  },
  {
   "cell_type": "code",
   "execution_count": 15,
   "source": [
    "# Let's make the gravity experiment functional\n",
    "gravity = 9.82\n",
    "mass = float(input(\"What is your weight (in kg)? \")) # Now we change the variable from string to float.\n",
    "force = gravity * mass # Now we have float * float.\n",
    "print(f\"Your gravitation pull down is {force} Newton\") # Now this works.\n",
    "print(f\"Your gravitation pull down is {force:.1f} Newton\") # Rounds to one decimal."
   ],
   "outputs": [
    {
     "output_type": "stream",
     "name": "stdout",
     "text": [
      "Your gravitation pull down is 638.3000000000001 Newton\n",
      "Your gravitation pull down is 638.3 Newton\n"
     ]
    }
   ],
   "metadata": {}
  }
 ],
 "metadata": {
  "orig_nbformat": 4,
  "language_info": {
   "name": "python",
   "version": "3.8.10",
   "mimetype": "text/x-python",
   "codemirror_mode": {
    "name": "ipython",
    "version": 3
   },
   "pygments_lexer": "ipython3",
   "nbconvert_exporter": "python",
   "file_extension": ".py"
  },
  "kernelspec": {
   "name": "python3",
   "display_name": "Python 3.8.10 64-bit"
  },
  "interpreter": {
   "hash": "916dbcbb3f70747c44a77c7bcd40155683ae19c65e1c03b4aa3499c5328201f1"
  }
 },
 "nbformat": 4,
 "nbformat_minor": 2
}