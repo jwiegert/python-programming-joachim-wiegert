{
 "cells": [
  {
   "cell_type": "code",
   "execution_count": 10,
   "source": [
    "import geometryclasses as gc\n",
    "c1 = gc.Circle(3,2,1)\n",
    "c2 = gc.Circle(2,0,0)\n",
    "\"\"\"\n",
    "print(f\"print c1: {c1}\")\n",
    "print(f\"area of c1: {c1.comparea()}\")\n",
    "print(f\"area of c2: {c2.comparea()}\")\n",
    "print(f\"circumferance of c1: {c1.circumferance()}\")\n",
    "print(f\"c1 == c2: {c1 == c2}\")\n",
    "\n",
    "# plots\n",
    "c1.setplotsettings()\n",
    "c1.plotcircle()\n",
    "c1.movecircle(-1,1)\n",
    "c1.plotcircle()\n",
    "print(f\"c1.checkcoords(0,0): {c1.checkcoords(0,0)}\")\n",
    "c1.plotpoint(0,0)\n",
    "print(f\"c1.checkcoords(5,0): {c1.checkcoords(5,0)}\")\n",
    "c1.plotpoint(5,0)\n",
    "\"\"\"\n",
    "\n",
    "\n",
    "\n",
    "print(c2)\n",
    "#c2.movecircle(-1,-1)\n",
    "#print(c2)\n",
    "#c2.setplotsettings()\n",
    "#c2.plotcircle()\n",
    "\n",
    "\n"
   ],
   "outputs": [
    {
     "output_type": "error",
     "ename": "AttributeError",
     "evalue": "'Circle' object has no attribute '_origin'",
     "traceback": [
      "\u001b[0;31m---------------------------------------------------------------------------\u001b[0m",
      "\u001b[0;31mAttributeError\u001b[0m                            Traceback (most recent call last)",
      "\u001b[0;32m/tmp/ipykernel_50613/3051167264.py\u001b[0m in \u001b[0;36m<module>\u001b[0;34m\u001b[0m\n\u001b[1;32m     20\u001b[0m \"\"\"\n\u001b[1;32m     21\u001b[0m \u001b[0;34m\u001b[0m\u001b[0m\n\u001b[0;32m---> 22\u001b[0;31m \u001b[0mprint\u001b[0m\u001b[0;34m(\u001b[0m\u001b[0mc2\u001b[0m\u001b[0;34m)\u001b[0m\u001b[0;34m\u001b[0m\u001b[0;34m\u001b[0m\u001b[0m\n\u001b[0m\u001b[1;32m     23\u001b[0m \u001b[0;31m#c2.movecircle(-1,-1)\u001b[0m\u001b[0;34m\u001b[0m\u001b[0;34m\u001b[0m\u001b[0;34m\u001b[0m\u001b[0m\n\u001b[1;32m     24\u001b[0m \u001b[0;31m#print(c2)\u001b[0m\u001b[0;34m\u001b[0m\u001b[0;34m\u001b[0m\u001b[0;34m\u001b[0m\u001b[0m\n",
      "\u001b[0;32m~/kurser/iths/pythonprogrammering/python-programming-joachim-wiegert/Labs/lab3/geometryclasses.py\u001b[0m in \u001b[0;36m__repr__\u001b[0;34m(self)\u001b[0m\n\u001b[1;32m    151\u001b[0m \u001b[0;34m\u001b[0m\u001b[0m\n\u001b[1;32m    152\u001b[0m \u001b[0;34m\u001b[0m\u001b[0m\n\u001b[0;32m--> 153\u001b[0;31m     \u001b[0;32mdef\u001b[0m \u001b[0m__repr__\u001b[0m\u001b[0;34m(\u001b[0m\u001b[0mself\u001b[0m\u001b[0;34m)\u001b[0m \u001b[0;34m->\u001b[0m \u001b[0mstr\u001b[0m\u001b[0;34m:\u001b[0m\u001b[0;34m\u001b[0m\u001b[0;34m\u001b[0m\u001b[0m\n\u001b[0m\u001b[1;32m    154\u001b[0m         \u001b[0;32mreturn\u001b[0m \u001b[0;34mf\"A circle with radius {self._radius} and middle at x={self.origin[0]} and y={self.origin[1]}\"\u001b[0m\u001b[0;34m\u001b[0m\u001b[0;34m\u001b[0m\u001b[0m\n\u001b[1;32m    155\u001b[0m \u001b[0;34m\u001b[0m\u001b[0m\n",
      "\u001b[0;32m~/kurser/iths/pythonprogrammering/python-programming-joachim-wiegert/Labs/lab3/geometryclasses.py\u001b[0m in \u001b[0;36morigin\u001b[0;34m(self)\u001b[0m\n\u001b[1;32m     85\u001b[0m         \u001b[0;32mreturn\u001b[0m \u001b[0mself\u001b[0m\u001b[0;34m.\u001b[0m\u001b[0m_radius\u001b[0m\u001b[0;34m\u001b[0m\u001b[0;34m\u001b[0m\u001b[0m\n\u001b[1;32m     86\u001b[0m     \u001b[0;34m@\u001b[0m\u001b[0mproperty\u001b[0m\u001b[0;34m\u001b[0m\u001b[0;34m\u001b[0m\u001b[0m\n\u001b[0;32m---> 87\u001b[0;31m     \u001b[0;32mdef\u001b[0m \u001b[0morigin\u001b[0m\u001b[0;34m(\u001b[0m\u001b[0mself\u001b[0m\u001b[0;34m)\u001b[0m \u001b[0;34m->\u001b[0m \u001b[0mfloat\u001b[0m\u001b[0;34m:\u001b[0m\u001b[0;34m\u001b[0m\u001b[0;34m\u001b[0m\u001b[0m\n\u001b[0m\u001b[1;32m     88\u001b[0m         \u001b[0;32mreturn\u001b[0m \u001b[0mself\u001b[0m\u001b[0;34m.\u001b[0m\u001b[0m_origin\u001b[0m\u001b[0;34m\u001b[0m\u001b[0;34m\u001b[0m\u001b[0m\n\u001b[1;32m     89\u001b[0m \u001b[0;34m\u001b[0m\u001b[0m\n",
      "\u001b[0;31mAttributeError\u001b[0m: 'Circle' object has no attribute '_origin'"
     ]
    }
   ],
   "metadata": {}
  },
  {
   "cell_type": "code",
   "execution_count": 2,
   "source": [
    "import matplotlib.pyplot as plt\n",
    "c1 = plt.Circle( (2,3), 3, alpha=0.7)\n",
    "c2 = plt.Circle( (1,-1), 3, alpha=0.7)\n",
    "\n",
    "fig,ax = plt.figure(dpi=100),plt.axes()\n",
    "ax.grid()\n",
    "ax.set(xlabel=\"x coordinates\", ylabel=\"y coordinates\",\n",
    "    title=\"Plot of your 2D geometry\",\n",
    "    xlim=[-10,10], ylim=[-10,10])\n",
    "ax.set_aspect(1)\n",
    "ax.add_artist(c1)\n",
    "\n",
    "ax.add_artist(c2)\n"
   ],
   "outputs": [
    {
     "output_type": "execute_result",
     "data": {
      "text/plain": [
       "<matplotlib.patches.Circle at 0x7f25f120abe0>"
      ]
     },
     "metadata": {},
     "execution_count": 2
    },
    {
     "output_type": "display_data",
     "data": {
      "image/png": "[encoded data removed]",
      "text/plain": [
       "<Figure size 600x400 with 1 Axes>"
      ]
     },
     "metadata": {
      "needs_background": "light"
     }
    }
   ],
   "metadata": {}
  },
  {
   "cell_type": "code",
   "execution_count": 13,
   "source": [
    "import matplotlib.pyplot as plt\n",
    "import numpy as np\n",
    "print(plt.cm.get_cmap('Spectral')(np.random.random(1)))\n"
   ],
   "outputs": [
    {
     "output_type": "stream",
     "name": "stdout",
     "text": [
      "[[0.81122645 0.92387543 0.61453287 1.        ]]\n"
     ]
    }
   ],
   "metadata": {}
  },
  {
   "cell_type": "code",
   "execution_count": null,
   "source": [],
   "outputs": [],
   "metadata": {}
  }
 ],
 "metadata": {
  "orig_nbformat": 4,
  "language_info": {
   "name": "python",
   "version": "3.8.10",
   "mimetype": "text/x-python",
   "codemirror_mode": {
    "name": "ipython",
    "version": 3
   },
   "pygments_lexer": "ipython3",
   "nbconvert_exporter": "python",
   "file_extension": ".py"
  },
  "kernelspec": {
   "name": "python3",
   "display_name": "Python 3.8.10 64-bit ('python-programming-joachim-wiegert-fZjbk6tr': pipenv)"
  },
  "interpreter": {
   "hash": "de864f23ecce18368aca897744c10e4777c02bb172d81296c258f6e3610de71e"
  }
 },
 "nbformat": 4,
 "nbformat_minor": 2
}