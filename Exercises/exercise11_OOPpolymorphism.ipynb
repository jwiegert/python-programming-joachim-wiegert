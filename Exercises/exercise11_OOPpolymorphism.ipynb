{
 "cells": [
  {
   "cell_type": "markdown",
   "source": [
    "# 2. Fraction (**)\n",
    "\n",
    "Create a class called Frac to represent mathematical fractions. The class is instantiated with two instance variables: nominator and denominator. Objects instantiated from this class should have methods for addition, subtraction, multiplication, division using the operators +,-,*,/. Note that these implemented methods must be mathematically correct. Also implement the following methods:\n",
    "\n",
    "```py\n",
    "simplify(self, value = None) # simplifies to most simple form unless value is given \n",
    "__str__(self) # represent the fraction in a neat way for printing\n",
    "mixed(self) # represent the fraction in mixed terms \n",
    "__eq__(self, other) # checks equality by overloading ==\n",
    "```\n",
    "\n",
    "Also remember to handle errors and validations.\n",
    "\n",
    "Example of tests that it should handled:\n",
    "\n",
    "- 1/2 + 1/3 = 5/6\n",
    "- 1/2 - 1/3 = 1/6\n",
    "- 7/6 --> 1 1/6 (mixed)\n",
    "- 3*1/2 = 3/2\n",
    "- 1/2 * 3 = 3/2\n",
    "- 1/4 + 2 = 9/4\n",
    "- 1/4 / 1/2 = 1/2\n",
    "- 2/4 == 1/2 --> True\n",
    "- 3/4 += 2 = 11/4"
   ],
   "metadata": {}
  },
  {
   "cell_type": "code",
   "execution_count": 102,
   "source": [
    "class Frac:\n",
    "    def __init__(self, nominator: int, denominator: int) -> None:\n",
    "        self.nominator   = nominator\n",
    "        self.denominator = denominator\n",
    "    \n",
    "    @property\n",
    "    def nominator(self) -> int:\n",
    "        return self._nominator\n",
    "    @property\n",
    "    def denominator(self) -> int:\n",
    "        return self._denominator\n",
    "\n",
    "    @nominator.setter\n",
    "    def nominator(self, value: int) -> None:\n",
    "        if Frac.validateinput(value):\n",
    "            self._nominator = value\n",
    "    @denominator.setter\n",
    "    def denominator(self, value: int) -> None:\n",
    "        if Frac.validateinput(value):\n",
    "            self._denominator = value\n",
    "\n",
    "    # TODO: my addition and subtr overwrites f1!\n",
    "\n",
    "    # addition\n",
    "    def __add__(self ,other: \"Frac\") -> str:\n",
    "        \"\"\"Adds together two fractions\"\"\"\n",
    "        # Find least fitting denominator\n",
    "        value1   = self._nominator*other.denominator + other.nominator*self._denominator\n",
    "        value2 = self._denominator * other.denominator\n",
    "        # Shorten the fraction\n",
    "        value1,value2 = self.simplifyfrac(value1,value2)\n",
    "        return self.__str__()\n",
    "    \n",
    "    \"\"\"\n",
    "    # subtraction\n",
    "    def __sub__(self, other: \"Frac\") -> str:\n",
    "        #Subtracts two fractions, self and other\n",
    "        # Find least fitting denominator\n",
    "        self._nominator    = self._nominator*other.denominator - other.nominator*self._denominator\n",
    "        self._denominator *= other.denominator\n",
    "        # Shorten the fraction\n",
    "        self = self.simplifyfrac()\n",
    "        return self.__str__()\n",
    "    \"\"\"\n",
    "    # multiplication\n",
    "    # def __mul__\n",
    "    # def __rmul__\n",
    "    \n",
    "    # division\n",
    "    # def __div__\n",
    "\n",
    "\n",
    "    # Simplify method\n",
    "    def simplifyfrac(value1,value2) -> int:\n",
    "        \"\"\"To shorten fraction to least denominator\"\"\"\n",
    "        # From https://stackoverflow.com/questions/64931411/how-to-simplify-a-fraction-in-python\n",
    "        nn = 2\n",
    "        while nn < min(value1, value2) + 1:\n",
    "            if value1 % nn == 0 and value2 % nn == 0:\n",
    "                value1 = value1 // nn\n",
    "                value2 = value2 // nn\n",
    "            else:\n",
    "                nn += 1\n",
    "        return value1,value2\n",
    "\n",
    "    # Error handling\n",
    "    @staticmethod\n",
    "    def validateinput(value:int) -> int:\n",
    "        \"\"\"Method to check input values\"\"\"\n",
    "        if not isinstance(value, int):\n",
    "            raise TypeError(f\"Value {value} must be an int, not {type(value)}\")\n",
    "        return value\n",
    "\n",
    "    # Print nicely-function\n",
    "    def __str__(self, newnom, newdenom) -> str:\n",
    "        if newdenom == 1:\n",
    "            return f\"{newnom}\"\n",
    "        else:\n",
    "            return f\"{newnom}/{newdenom}\"\n",
    "\n",
    "    # Main return of this class\n",
    "    def __repr__(self) -> str:\n",
    "        return f\"{self._nominator}/{self._denominator}\"\n",
    "        \n",
    "\n",
    "# Tests\n",
    "f1 = Frac(10, 2)\n",
    "print(f1)\n",
    "print(f1.simplifyfrac())\n",
    "#f2 = Frac(1,2.1)\n",
    "f2 = Frac(5,3)\n",
    "f3 = Frac(82,36)\n",
    "try:\n",
    "    print(f2)\n",
    "except TypeError as err:\n",
    "    print(err)\n",
    "print(f\"{f1} + {f2} = {f1 + f2}\")\n",
    "print(f3.simplifyfrac())\n",
    "\n",
    "print(f\"{f1} - {f2} = {f1 - f2}\")\n",
    "print(f1)\n"
   ],
   "outputs": [
    {
     "output_type": "error",
     "ename": "TypeError",
     "evalue": "__str__() missing 2 required positional arguments: 'newnom' and 'newdenom'",
     "traceback": [
      "\u001b[0;31m---------------------------------------------------------------------------\u001b[0m",
      "\u001b[0;31mTypeError\u001b[0m                                 Traceback (most recent call last)",
      "\u001b[0;32m/tmp/ipykernel_16776/3294170540.py\u001b[0m in \u001b[0;36m<module>\u001b[0;34m\u001b[0m\n\u001b[1;32m     86\u001b[0m \u001b[0;31m# Tests\u001b[0m\u001b[0;34m\u001b[0m\u001b[0;34m\u001b[0m\u001b[0;34m\u001b[0m\u001b[0m\n\u001b[1;32m     87\u001b[0m \u001b[0mf1\u001b[0m \u001b[0;34m=\u001b[0m \u001b[0mFrac\u001b[0m\u001b[0;34m(\u001b[0m\u001b[0;36m10\u001b[0m\u001b[0;34m,\u001b[0m \u001b[0;36m2\u001b[0m\u001b[0;34m)\u001b[0m\u001b[0;34m\u001b[0m\u001b[0;34m\u001b[0m\u001b[0m\n\u001b[0;32m---> 88\u001b[0;31m \u001b[0mprint\u001b[0m\u001b[0;34m(\u001b[0m\u001b[0mf1\u001b[0m\u001b[0;34m)\u001b[0m\u001b[0;34m\u001b[0m\u001b[0;34m\u001b[0m\u001b[0m\n\u001b[0m\u001b[1;32m     89\u001b[0m \u001b[0mprint\u001b[0m\u001b[0;34m(\u001b[0m\u001b[0mf1\u001b[0m\u001b[0;34m.\u001b[0m\u001b[0msimplifyfrac\u001b[0m\u001b[0;34m(\u001b[0m\u001b[0;34m)\u001b[0m\u001b[0;34m)\u001b[0m\u001b[0;34m\u001b[0m\u001b[0;34m\u001b[0m\u001b[0m\n\u001b[1;32m     90\u001b[0m \u001b[0;31m#f2 = Frac(1,2.1)\u001b[0m\u001b[0;34m\u001b[0m\u001b[0;34m\u001b[0m\u001b[0;34m\u001b[0m\u001b[0m\n",
      "\u001b[0;31mTypeError\u001b[0m: __str__() missing 2 required positional arguments: 'newnom' and 'newdenom'"
     ]
    }
   ],
   "metadata": {}
  },
  {
   "cell_type": "code",
   "execution_count": 25,
   "source": [
    "print(3/4 + 1/2)\n",
    "print(10/8)\n",
    "print(10%8)\n",
    "\n"
   ],
   "outputs": [
    {
     "output_type": "stream",
     "name": "stdout",
     "text": [
      "1.25\n",
      "1.25\n",
      "2\n"
     ]
    }
   ],
   "metadata": {}
  },
  {
   "cell_type": "code",
   "execution_count": null,
   "source": [],
   "outputs": [],
   "metadata": {}
  }
 ],
 "metadata": {
  "orig_nbformat": 4,
  "language_info": {
   "name": "python",
   "version": "3.8.10",
   "mimetype": "text/x-python",
   "codemirror_mode": {
    "name": "ipython",
    "version": 3
   },
   "pygments_lexer": "ipython3",
   "nbconvert_exporter": "python",
   "file_extension": ".py"
  },
  "kernelspec": {
   "name": "python3",
   "display_name": "Python 3.8.10 64-bit ('python-programming-joachim-wiegert-fZjbk6tr': pipenv)"
  },
  "interpreter": {
   "hash": "de864f23ecce18368aca897744c10e4777c02bb172d81296c258f6e3610de71e"
  }
 },
 "nbformat": 4,
 "nbformat_minor": 2
}