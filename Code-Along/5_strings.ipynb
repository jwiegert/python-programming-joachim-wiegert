{
 "cells": [
  {
   "cell_type": "markdown",
   "source": [
    "# Strings\n",
    "\n",
    "Concaternating strings"
   ],
   "metadata": {}
  },
  {
   "cell_type": "code",
   "execution_count": 2,
   "source": [
    "firstname = \"Kokchun\"\n",
    "lastname  = \"Giang\"\n",
    "\n",
    "# Concatenating strings\n",
    "fullname = firstname + \" \" + lastname\n",
    "print(fullname)\n",
    "\n",
    "# Multiline fstring\n",
    "school  = \"IT-högskolan\"\n",
    "adress = \"Ebbe Lierbathsgatan 18c\"\n",
    "phone   = \"112\"\n",
    "\n",
    "contactdetails = f\"\"\"\n",
    "Name: {fullname}\n",
    "School: {school}\n",
    "Adress: {adress}\n",
    "Phone: {phone}\n",
    "\"\"\"\n",
    "print(contactdetails)\n",
    "\n"
   ],
   "outputs": [
    {
     "output_type": "stream",
     "name": "stdout",
     "text": [
      "Kokchun Giang\n",
      "\n",
      "Name: Kokchun Giang\n",
      "School: IT-högskolan\n",
      "Adress: Ebbe Lierbathsgatan 18c\n",
      "Phone: 112\n",
      "\n"
     ]
    }
   ],
   "metadata": {}
  },
  {
   "cell_type": "markdown",
   "source": [
    "# Concatenate with loop"
   ],
   "metadata": {}
  },
  {
   "cell_type": "code",
   "execution_count": 9,
   "source": [
    "# Split\n",
    "bamba = \"chili sin carne, köttbullar, fisk, pannkakor, taco\".split(\", \")\n",
    "print(bamba)\n",
    "days = \"mån tis ons tor fre\".split()\n",
    "print(days)\n",
    "\n",
    "# Concatenate these two\n",
    "menu = \"Veckomenu\\n\"\n",
    "\n",
    "# Loop through both lists\n",
    "# day will get all elements of days, and food will get the elements of bamba\n",
    "for day, food in zip(days, bamba):\n",
    "    menu += f\"{day}: {food}\\n\"\n",
    "print(menu)\n"
   ],
   "outputs": [
    {
     "output_type": "stream",
     "name": "stdout",
     "text": [
      "['chili sin carne', 'köttbullar', 'fisk', 'pannkakor', 'taco']\n",
      "['mån', 'tis', 'ons', 'tor', 'fre']\n",
      "Veckomenu\n",
      "mån: chili sin carne\n",
      "tis: köttbullar\n",
      "ons: fisk\n",
      "tor: pannkakor\n",
      "fre: taco\n",
      "\n"
     ]
    }
   ],
   "metadata": {}
  },
  {
   "cell_type": "markdown",
   "source": [
    "# Indexing (indexering)"
   ],
   "metadata": {}
  },
  {
   "cell_type": "code",
   "execution_count": 19,
   "source": [
    "# !False = not false (ie True)\n",
    "\n",
    "# WHy it's better to sometimes use \"\" for strings.\n",
    "quote = \"!False - it's funny because it's true\" # Works!\n",
    "#quote = '!False - it's funny because it's true' # Doesn't work! Because of ' in the text ends the string.\n",
    "\n",
    "# quote[0] gives the first sign!\n",
    "print(f\"quote[0]: {quote[0]}\")\n",
    "print(f\"quote[5]: {quote[5]}\")\n",
    "\n",
    "print(f\"quote[-4:]: {quote[-4:]}\")\n",
    "print(f\"quote[1:6]: {quote[1:6]}\") # end must be one extra number since it's omitted\n",
    "\n",
    "print(f\"Backwards quote[::-1]: {quote[::-1]}\")\n",
    "\n",
    "indexword = quote.find(\"because\")\n",
    "print(indexword)\n",
    "print(quote[indexword:indexword+7])\n",
    "\n"
   ],
   "outputs": [
    {
     "output_type": "stream",
     "name": "stdout",
     "text": [
      "quote[0]: !\n",
      "quote[5]: e\n",
      "quote[-4:]: true\n",
      "quote[1:6]: False\n",
      "Backwards quote[::-1]: eurt s'ti esuaceb ynnuf s'ti - eslaF!\n",
      "20\n",
      "because\n"
     ]
    }
   ],
   "metadata": {}
  },
  {
   "cell_type": "code",
   "execution_count": null,
   "source": [],
   "outputs": [],
   "metadata": {}
  }
 ],
 "metadata": {
  "orig_nbformat": 4,
  "language_info": {
   "name": "python",
   "version": "3.8.10",
   "mimetype": "text/x-python",
   "codemirror_mode": {
    "name": "ipython",
    "version": 3
   },
   "pygments_lexer": "ipython3",
   "nbconvert_exporter": "python",
   "file_extension": ".py"
  },
  "kernelspec": {
   "name": "python3",
   "display_name": "Python 3.8.10 64-bit ('python-programming-joachim-wiegert-fZjbk6tr': pipenv)"
  },
  "interpreter": {
   "hash": "de864f23ecce18368aca897744c10e4777c02bb172d81296c258f6e3610de71e"
  }
 },
 "nbformat": 4,
 "nbformat_minor": 2
}