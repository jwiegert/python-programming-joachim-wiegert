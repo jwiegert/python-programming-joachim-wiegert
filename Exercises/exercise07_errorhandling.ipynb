{
 "cells": [
  {
   "cell_type": "markdown",
   "source": [
    "# 1. Find errors (*)\n",
    "\n",
    "Find the errors in this code to compute the distance between the point  (x,y)  and the origin in a cartesian coordinate system."
   ],
   "metadata": {}
  },
  {
   "cell_type": "code",
   "execution_count": 3,
   "source": [
    "import numpy as np\n",
    " \n",
    "def distance(x,y):\n",
    "    return np.sqrt(x*x + y*y)\n",
    " \n",
    "print(distance(0.5, 0.5))"
   ],
   "outputs": [
    {
     "output_type": "stream",
     "name": "stdout",
     "text": [
      "0.7071067811865476\n"
     ]
    }
   ],
   "metadata": {}
  },
  {
   "cell_type": "markdown",
   "source": [
    "# 2. Find errors (*)\n",
    "\n",
    "Find the errors in this code. Just change the function, don't touch the test program."
   ],
   "metadata": {}
  },
  {
   "cell_type": "code",
   "execution_count": 33,
   "source": [
    "def is_fourdigit(number):\n",
    "    if abs(number/1000) < 10 and abs(number/1000) >= 1:\n",
    "        return True\n",
    "    else:\n",
    "        return False\n",
    "\n",
    "# test program\n",
    "test_numbers = [231, 3124, -4124, -1000,-999, 1001, 10000, -10000, 999]\n",
    " \n",
    "for number in test_numbers:\n",
    "    if is_fourdigit(number):\n",
    "        print(f\"{number} is four-digit\")\n",
    "    else:\n",
    "        print(f\"{number} is not four-digit\")"
   ],
   "outputs": [
    {
     "output_type": "stream",
     "name": "stdout",
     "text": [
      "231 is not four-digit\n",
      "3124 is four-digit\n",
      "-4124 is four-digit\n",
      "-1000 is four-digit\n",
      "-999 is not four-digit\n",
      "1001 is four-digit\n",
      "10000 is not four-digit\n",
      "-10000 is not four-digit\n",
      "999 is not four-digit\n"
     ]
    }
   ],
   "metadata": {}
  },
  {
   "cell_type": "markdown",
   "source": [
    "# 3. Tram (*)\n",
    "\n",
    "Kokchun is a clumpsy computer user that doesn't take trams too often. Write a program to prompt the user for:\n",
    "\n",
    "- number of times he/she wants to take tram in one month\n",
    "- cost for one ticket\n",
    "- cost for monthly card\n",
    "\n",
    "The program should calculate if it's worth for him to buy monthly card or not. Make the program user friendly with clear error messages and ask again in case of input errors."
   ],
   "metadata": {}
  },
  {
   "cell_type": "code",
   "execution_count": 1,
   "source": [
    "#\n",
    "# Define function that tests the input from the user.\n",
    "#\n",
    "def askforvalue(default):\n",
    "    inputdata = input(\"\" or default)\n",
    "    while True:\n",
    "        try:\n",
    "            inputdata = float(inputdata)\n",
    "            if inputdata < 0:\n",
    "                raise ValueError(\"number must be larger than 0\")\n",
    "            break\n",
    "        except ValueError as err:\n",
    "            print(\"Error;\", err, \"\\b:\\nYour input must be a postitive number with digits (use . (point) for decimals, not , (comma)). Please try again: \")\n",
    "    return inputdata\n",
    "#\n",
    "# Ask for number of tram rides\n",
    "#\n",
    "print(\"Hi Kokchun! Approximately how many times do you ride a tram per month? Give input in digits 'x.x' (default is 0, biking ftw)): \")\n",
    "default    = 0\n",
    "Ntramrides = askforvalue(default)\n",
    "print(f\"You ride the tram {Ntramrides} time(s) per month.\")\n",
    "#\n",
    "# Ask for single ticket price\n",
    "#\n",
    "print(\"Please state the price of one ticket (default value is 34sek): (in sek)\")\n",
    "default   = 34\n",
    "#oneticket = askforvalue(default)\n",
    "oneticket = default\n",
    "#\n",
    "# Ask for month-ticket price\n",
    "#\n",
    "print(\"and the price of a monthly ticket (default value is 795sek): (in sek) \")\n",
    "default = 795\n",
    "#monthticket = askforvalue(default)\n",
    "monthticket = default\n",
    "#\n",
    "# Check which is the cheapest\n",
    "#\n",
    "totalprice = oneticket*Ntramrides\n",
    "if totalprice < monthticket:\n",
    "    print(\"You should use single tickets.\")\n",
    "else:\n",
    "    print(\"You should buy a month-card.\")\n",
    "print(\"This assumes that you don't ride during night time.\")\n",
    "#\n",
    "# Reset all inputs (to reduce risk of bugs when re-running code)\n",
    "#\n",
    "del Ntramrides,oneticket,monthticket\n"
   ],
   "outputs": [
    {
     "output_type": "stream",
     "name": "stdout",
     "text": [
      "Hi Kokchun! Approximately how many times do you ride a tram per month? Give input in digits 'x.x' (default is 0, biking ftw)): \n",
      "You ride the tram 5.0 per month.\n",
      "Please state the price of one ticket (default value is 34sek): (in sek)\n",
      "and the price of a monthly ticket (default value is 795sek): (in sek) \n",
      "You should use single tickets.\n",
      "This assumes that you don't ride during night time.\n"
     ]
    }
   ],
   "metadata": {}
  },
  {
   "cell_type": "code",
   "execution_count": null,
   "source": [],
   "outputs": [],
   "metadata": {}
  }
 ],
 "metadata": {
  "orig_nbformat": 4,
  "language_info": {
   "name": "python",
   "version": "3.8.10",
   "mimetype": "text/x-python",
   "codemirror_mode": {
    "name": "ipython",
    "version": 3
   },
   "pygments_lexer": "ipython3",
   "nbconvert_exporter": "python",
   "file_extension": ".py"
  },
  "kernelspec": {
   "name": "python3",
   "display_name": "Python 3.8.10 64-bit ('python-programming-joachim-wiegert-fZjbk6tr': pipenv)"
  },
  "interpreter": {
   "hash": "de864f23ecce18368aca897744c10e4777c02bb172d81296c258f6e3610de71e"
  }
 },
 "nbformat": 4,
 "nbformat_minor": 2
}