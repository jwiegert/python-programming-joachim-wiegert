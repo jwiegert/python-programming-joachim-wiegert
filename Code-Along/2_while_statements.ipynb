{
 "cells": [
  {
   "cell_type": "code",
   "execution_count": 3,
   "source": [
    "# Write out all numbers between -10 and 10\n",
    "n = -10\n",
    "while n <= 10:\n",
    "    print(n, end = \", \") # Nicer printouts, changes end of line.\n",
    "    n += 1               # assigment operator, this : n = n+1, or n++\n",
    "# While STATEMENT is true it repeats what happens inside the while."
   ],
   "outputs": [
    {
     "output_type": "stream",
     "name": "stdout",
     "text": [
      "-10, -9, -8, -7, -6, -5, -4, -3, -2, -1, 0, 1, 2, 3, 4, 5, 6, 7, 8, 9, 10, "
     ]
    }
   ],
   "metadata": {}
  },
  {
   "cell_type": "code",
   "execution_count": 9,
   "source": [
    "# Print all even numbers between -10 and 10\n",
    "n = -10\n",
    "while n <= 10:\n",
    "    print(n, end = \", \")\n",
    "    n += 2               # Only takes every second number\n",
    "#\n",
    "# Alternatively\n",
    "#\n",
    "print(\"\")\n",
    "n = -10\n",
    "while n <= 10:\n",
    "    if n % 2 == 0:\n",
    "        print(n, end = \", \")\n",
    "    n += 1\n"
   ],
   "outputs": [
    {
     "output_type": "stream",
     "name": "stdout",
     "text": [
      "-10, -8, -6, -4, -2, 0, 2, 4, 6, 8, 10, \n",
      "-10, -8, -6, -4, -2, 0, 2, 4, 6, 8, 10, "
     ]
    }
   ],
   "metadata": {}
  },
  {
   "cell_type": "code",
   "execution_count": 17,
   "source": [
    "# Summera alla udda tal mellan 0 och 10\n",
    "n     = 1\n",
    "summa = 0\n",
    "while n <= 10:\n",
    "    if n%2 != 0:\n",
    "        print(f\"{n}\", end=\"+\")\n",
    "        summa += n\n",
    "    n += 1\n",
    "print(f\"={summa}\")"
   ],
   "outputs": [
    {
     "output_type": "stream",
     "name": "stdout",
     "text": [
      "1+3+5+7+9+=25\n"
     ]
    }
   ],
   "metadata": {}
  },
  {
   "cell_type": "markdown",
   "source": [
    "## Fåglar och oljeutsläpp\n",
    "\n",
    "There are  8000 birds from the beginning.\n",
    "- Oil halves the population every year.\n",
    "- how many years until the population reaches 1/10 of the initial?"
   ],
   "metadata": {}
  },
  {
   "cell_type": "code",
   "execution_count": 18,
   "source": [
    "# Another way of creating many variables.\n",
    "birds, year = 8000, 0\n",
    "\n",
    "while birds >= 800:\n",
    "    birds /= 2.\n",
    "    year += 1\n",
    "    print(f\"Year: {year}, Bird population: {birds:.1f}\")\n"
   ],
   "outputs": [
    {
     "output_type": "stream",
     "name": "stdout",
     "text": [
      "Year: 1, Bird population: 4000.0\n",
      "Year: 2, Bird population: 2000.0\n",
      "Year: 3, Bird population: 1000.0\n",
      "Year: 4, Bird population: 500.0\n",
      "Bird population is 1/10 after 4 years.\n"
     ]
    }
   ],
   "metadata": {}
  },
  {
   "cell_type": "code",
   "execution_count": null,
   "source": [],
   "outputs": [],
   "metadata": {}
  },
  {
   "cell_type": "markdown",
   "source": [
    "## Mjölkuppgift\n",
    "\n",
    "- 1 liter mjölk har 1.5e6 bakterier i rumstemperatur\n",
    "- Bakterier ökar med 50% per timme i rumstemperatur\n",
    "- Mjölk surnar när det är mer än 10e6 bakterier.\n",
    "- Hur många timmar tar det (hela timmar) innan den surnar?"
   ],
   "metadata": {}
  },
  {
   "cell_type": "code",
   "execution_count": 24,
   "source": [
    "nbacteria = 1.5e6 # Initial number of bacteria\n",
    "hours     = 0     # Initial time\n",
    "\n",
    "while nbacteria <= 1e7: # Sours at 10 million bacteria\n",
    "    nbacteria *= 1.5    # Increases by 50% per  hour\n",
    "    hours     += 1      # Increase hour by one\n",
    "    # Print out results!\n",
    "    print(f\"Time: {hours} hours. Bacteria count: {nbacteria/1e6:.1f} millions\")\n"
   ],
   "outputs": [],
   "metadata": {}
  },
  {
   "cell_type": "code",
   "execution_count": null,
   "source": [],
   "outputs": [],
   "metadata": {}
  }
 ],
 "metadata": {
  "orig_nbformat": 4,
  "language_info": {
   "name": "python",
   "version": "3.8.10",
   "mimetype": "text/x-python",
   "codemirror_mode": {
    "name": "ipython",
    "version": 3
   },
   "pygments_lexer": "ipython3",
   "nbconvert_exporter": "python",
   "file_extension": ".py"
  },
  "kernelspec": {
   "name": "python3",
   "display_name": "Python 3.8.10 64-bit"
  },
  "interpreter": {
   "hash": "916dbcbb3f70747c44a77c7bcd40155683ae19c65e1c03b4aa3499c5328201f1"
  }
 },
 "nbformat": 4,
 "nbformat_minor": 2
}