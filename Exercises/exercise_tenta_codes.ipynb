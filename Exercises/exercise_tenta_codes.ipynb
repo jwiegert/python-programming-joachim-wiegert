{
 "cells": [
  {
   "cell_type": "markdown",
   "source": [
    "### Uppgift 1"
   ],
   "metadata": {}
  },
  {
   "cell_type": "code",
   "execution_count": 1,
   "source": [
    "print(list(range(10)))"
   ],
   "outputs": [
    {
     "output_type": "stream",
     "name": "stdout",
     "text": [
      "[0, 1, 2, 3, 4, 5, 6, 7, 8, 9]\n"
     ]
    }
   ],
   "metadata": {}
  },
  {
   "cell_type": "code",
   "execution_count": 10,
   "source": [
    "import random as rnd\n",
    "\n",
    "Ndice = int(1e6)\n",
    "result = list(range(1,7))\n",
    "Nresults = [0 for _ in range(6)]\n",
    "\n",
    "for _ in range(Ndice):\n",
    "    for i,die in enumerate(result):\n",
    "        if rnd.randint(1,6) == die:\n",
    "            Nresults[i] += 1\n",
    "print(Nresults)"
   ],
   "outputs": [
    {
     "output_type": "stream",
     "name": "stdout",
     "text": [
      "[167034, 166939, 167013, 167040, 166495, 166929]\n"
     ]
    }
   ],
   "metadata": {}
  },
  {
   "cell_type": "code",
   "execution_count": 15,
   "source": [
    "import numpy as np\n",
    "\n",
    "def volume_sphere(radius:float) -> float:\n",
    "    if not isinstance(radius,(int,float)):\n",
    "        raise TypeError(f\"Radius must be float or int, not {type(radius)}\")\n",
    "    elif radius <= 0:\n",
    "        raise ValueError(\"Radius can not be equal or smaller than zero\")\n",
    "    # Compute volume\n",
    "    volume = 4/3 * np.pi * radius**3\n",
    "    return volume\n",
    "\n",
    "print(volume_sphere(2))\n"
   ],
   "outputs": [
    {
     "output_type": "stream",
     "name": "stdout",
     "text": [
      "33.510321638291124\n"
     ]
    }
   ],
   "metadata": {}
  },
  {
   "cell_type": "code",
   "execution_count": 1,
   "source": [
    "# Upg 4\n",
    "with open('bamba.txt') as bambafile:\n",
    "    bambalist = bambafile.readlines()\n",
    "for line in bambalist:\n",
    "    print(line)\n",
    "\n"
   ],
   "outputs": [
    {
     "output_type": "stream",
     "name": "stdout",
     "text": [
      "v42\n",
      "\n",
      "Chili sin carne\n",
      "\n",
      "Pannkakor\n",
      "\n",
      "Ärtsoppa\n",
      "\n",
      "Kebab\n",
      "\n",
      "Vegetarisk lasagne\n",
      "\n"
     ]
    }
   ],
   "metadata": {}
  },
  {
   "cell_type": "code",
   "execution_count": 17,
   "source": [
    "# Upg 5\n",
    "\n",
    "import numpy as np\n",
    "\n",
    "def comp_distance(coord1,coord2):\n",
    "    x1,y1 = coord1[0],coord1[1]\n",
    "    x2,y2 = coord2[0],coord2[1]\n",
    "    distance = np.sqrt((x1-x2)**2 + (y1-y2)**2)\n",
    "    return distance\n",
    "\n",
    "\n",
    "with open('testpunkter.txt', 'r') as testpunktfile:\n",
    "    testpoint = testpunktfile.readlines()[1:]\n",
    "\n",
    "print(testpoint)\n",
    "testdata = []\n",
    "\n",
    "for line in testpoint:\n",
    "    line = line.replace(\"(\",\"\").replace(\")\",\"\").replace(\"\\n\",\"\").split(\",\")\n",
    "    for i in range(0,len(line)-1,2):\n",
    "        testdata.append([int(line[i]),int(line[i+1])])\n",
    "print(testdata)\n",
    "\n",
    "\n",
    "distances = []\n",
    "\n",
    "for i in range(0,len(testdata),2):\n",
    "    distances.append(comp_distance(testdata[i],testdata[i+1]))\n",
    "print(distances)\n",
    "\n"
   ],
   "outputs": [
    {
     "output_type": "stream",
     "name": "stdout",
     "text": [
      "['(1,2), (0,0)\\n', '(2,0), (3,5)\\n', '(-2,-2), (9,2)\\n']\n",
      "[[1, 2], [0, 0], [2, 0], [3, 5], [-2, -2], [9, 2]]\n",
      "[2.23606797749979, 5.0990195135927845, 11.704699910719626]\n"
     ]
    }
   ],
   "metadata": {}
  },
  {
   "cell_type": "code",
   "execution_count": 63,
   "source": [
    "# Upg 6\n",
    "\n",
    "import random as rnd\n",
    "\n",
    "# Cards: [2,3,4,5,6,7,8,9,10,J,Q,K,A]\n",
    "# 52 cards, max four of each.\n",
    "\n",
    "\n",
    "cards  = [\"A\",\"2\",\"3\",\"4\",\"5\",\"6\",\"7\",\"8\",\"9\",\"10\",\"J\",\"Q\",\"K\"]\n",
    "values = [ 1 , 2, 3, 4, 5, 6, 7, 8, 9, 10, 10, 10, 10]\n",
    "Ncards = len(cards)\n",
    "cardcounter = [0 for _ in range(Ncards)]\n",
    "\n",
    "# Give cards\n",
    "dealcards = [rnd.randint(0,Ncards-1),rnd.randint(0,Ncards-1)]\n",
    "playcards = [rnd.randint(0,Ncards-1),rnd.randint(0,Ncards-1)]\n",
    "\n",
    "# Save the number of each value\n",
    "for n in dealcards:\n",
    "    cardcounter[n] += 1\n",
    "for n in playcards:\n",
    "    cardcounter[n] += 1\n",
    "\n",
    "dealvalue = values[dealcards[0]] + values[dealcards[1]]\n",
    "playvalue = values[playcards[0]] + values[playcards[1]]\n",
    "\n",
    "# Present cards (dealer shows 1...)\n",
    "print(f\"Dealer's farst card: {cards[dealcards[0]]}.\")\n",
    "print(f\"Player cards: {cards[playcards[0]]} and {cards[playcards[1]]}. Value: {playvalue}\")\n",
    "\n",
    "print(\"Temporary prints\")\n",
    "print(f\"Dealer cards: {cards[dealcards[0]]} and {cards[dealcards[1]]}. Value: {dealvalue}\")\n",
    "print(\"\")\n",
    "\n",
    "# Ask player for continuation\n",
    "response = input(\"Do you want a card? y/n: \")\n",
    "while response == \"y\":\n",
    "    print(\"Card is given\")\n",
    "    number = rnd.randint(0,Ncards-1)\n",
    "    \n",
    "    # Check number of cards per colour, max 4.\n",
    "    cardcounter[number] += 1\n",
    "    while cardcounter[number] > 4:\n",
    "        number = rnd.randint(0,Ncards-1)\n",
    "        cardcounter[number] += 1\n",
    "\n",
    "    playcards.append(number)\n",
    "    playvalue += values[number]\n",
    "\n",
    "    print(\"Player cards:\")\n",
    "    for card in playcards:\n",
    "        print(cards[card])\n",
    "        \n",
    "    print(f\"Player value: {playvalue}\")\n",
    "\n",
    "    if playvalue <= 21:\n",
    "        response = input(\"Do you want a card? y/n: \")\n",
    "    else:\n",
    "        print(\"Your points are 21 or more.\")\n",
    "        break\n",
    "\n",
    "# Present final points\n",
    "\n",
    "print(f\"Player cards: {cards[playcards[0]]} and {cards[playcards[1]]}. Value: {playvalue}\")\n",
    "print(f\"Dealer cards: {cards[dealcards[0]]} and {cards[dealcards[1]]}. Value: {dealvalue}\")\n",
    "\n",
    "if playvalue <= 21:\n",
    "    if playvalue > dealvalue:\n",
    "        print(\"Player wins!\")\n",
    "    else:\n",
    "        print(\"Dealer wins!\")\n",
    "else:\n",
    "    print(\"Dealer wins!\")\n",
    "\n",
    "\n"
   ],
   "outputs": [
    {
     "output_type": "stream",
     "name": "stdout",
     "text": [
      "Dealer's farst card: 3.\n",
      "Player cards: 5 and 3. Value: 8\n",
      "Temporary prints\n",
      "Dealer cards: 3 and 2. Value: 5\n",
      "\n",
      "Card is given\n",
      "Player cards:\n",
      "5\n",
      "3\n",
      "A\n",
      "Player value: 9\n",
      "Card is given\n",
      "Player cards:\n",
      "5\n",
      "3\n",
      "A\n",
      "3\n",
      "Player value: 12\n",
      "Card is given\n",
      "Player cards:\n",
      "5\n",
      "3\n",
      "A\n",
      "3\n",
      "Q\n",
      "Player value: 22\n",
      "Your points are 21 or more.\n",
      "Player cards: 5 and 3. Value: 22\n",
      "Dealer cards: 3 and 2. Value: 5\n",
      "Dealer wins!\n"
     ]
    }
   ],
   "metadata": {}
  },
  {
   "cell_type": "code",
   "execution_count": 50,
   "source": [
    "# upg 7\n",
    "\n",
    "\n"
   ],
   "outputs": [
    {
     "output_type": "execute_result",
     "data": {
      "text/plain": [
       "0"
      ]
     },
     "metadata": {},
     "execution_count": 50
    }
   ],
   "metadata": {}
  },
  {
   "cell_type": "code",
   "execution_count": null,
   "source": [],
   "outputs": [],
   "metadata": {}
  }
 ],
 "metadata": {
  "orig_nbformat": 4,
  "language_info": {
   "name": "python",
   "version": "3.8.10",
   "mimetype": "text/x-python",
   "codemirror_mode": {
    "name": "ipython",
    "version": 3
   },
   "pygments_lexer": "ipython3",
   "nbconvert_exporter": "python",
   "file_extension": ".py"
  },
  "kernelspec": {
   "name": "python3",
   "display_name": "Python 3.8.10 64-bit ('python-programming-joachim-wiegert-fZjbk6tr': pipenv)"
  },
  "interpreter": {
   "hash": "de864f23ecce18368aca897744c10e4777c02bb172d81296c258f6e3610de71e"
  }
 },
 "nbformat": 4,
 "nbformat_minor": 2
}