{
 "cells": [
  {
   "cell_type": "markdown",
   "source": [
    "# 1. Dice rolls (*)\n",
    "\n",
    "Create a textfile called dice_rolls.txt using Python. Also for each subtask, write adequate headers.\n",
    "\n",
    "  a)   Simulate 20 dice rolls and write them to your textfile. (*)\n",
    "\n",
    "  b)   Sort the dice rolls from a) and write them to a separate row in the same textfile. (*)\n",
    "\n",
    "  c)   Count the number of fours in the dice rolls and write them to a separate row in the same textfile. (*)"
   ],
   "metadata": {}
  },
  {
   "cell_type": "code",
   "execution_count": 15,
   "source": [
    "import random as rnd\n",
    "\n",
    "#path = '../Code-Along/8_files/'\n",
    "exercpath = 'exercisefiles/'\n",
    "\n",
    "# Create list of dice rolls\n",
    "Nrolls = 20\n",
    "rolls = [rnd.randint(1,6) for _ in range(Nrolls)]\n",
    "\n",
    "# a) Save these rolls (in a row)\n",
    "with open(exercpath+'dice_rolls.txt', 'w') as f1:\n",
    "    for roll in rolls:\n",
    "        f1.write(f\"{roll},\")\n",
    "\n",
    "# b) sort dice rolls and save them on a new row\n",
    "rolls.sort()\n",
    "with open(exercpath+'dice_rolls.txt', 'a') as f1:\n",
    "    # Add a new line\n",
    "    f1.write(\"\\n\")\n",
    "    # Write sorted rolls on a new line\n",
    "    for roll in rolls:\n",
    "        f1.write(f\"{roll},\")\n",
    "    #\n",
    "    # c) count number of fours and write on a new line\n",
    "    #\n",
    "    Nfours = len([roll for roll in rolls if roll == 4])\n",
    "    f1.write(f\"\\n{Nfours}\")\n"
   ],
   "outputs": [],
   "metadata": {}
  },
  {
   "cell_type": "markdown",
   "source": [
    "# 2. Test results (*)\n",
    "\n",
    "Read in the file test_result.txt in Python.\n",
    "\n",
    "  a)   Print out the text in the terminal (*)\n",
    "\n",
    "  b)   Create new rows in the same file and write the people and their corresponding scores in alphabetical order. (*)\n",
    "\n",
    "  c)   Create additional rows in the same file and sort the people after their grades. The grade limits are: (**)\n",
    "\n",
    "F < 20\n",
    "\n",
    "E: 20-29\n",
    "\n",
    "D: 30-39\n",
    "\n",
    "C: 40-49\n",
    "\n",
    "B: 50-59\n",
    "\n",
    "A: 60-70"
   ],
   "metadata": {}
  },
  {
   "cell_type": "code",
   "execution_count": 61,
   "source": [
    "# Save paths\n",
    "path = '../Code-Along/8_files/'\n",
    "exercpath = 'exercisefiles/'\n",
    "\n",
    "scores = []\n",
    "\n",
    "# a) load testreults and print, and make a new copy that I work with\n",
    "with open(path+'test_result.txt', 'r') as f1, open(exercpath+'test_result.txt', 'w') as f2:\n",
    "    #print(repr(f1.readlines()))\n",
    "    # Append scores and names in a list and remove \\n\n",
    "    # And copy original file to a work-file\n",
    "    for score in f1.readlines():\n",
    "        scores.append(score.strip(\"\\n\"))\n",
    "        f2.write(f\"{score}\")\n",
    "# b) Sort scores in alphabetic order and append\n",
    "scores.sort()\n",
    "with open(exercpath+'test_result.txt', 'a') as f1:\n",
    "    f1.write(\"\\n\\nb) Sorted alphabetically:\\n\")\n",
    "    for score in scores:\n",
    "        f1.write(f\"{score}\\n\")\n",
    "    #\n",
    "    # c) sort in order of score and add in file\n",
    "    #\n",
    "    gradeslimits = [ 20, 30, 40, 50, 60, 70]\n",
    "    grades       = [\"F\",\"E\",\"D\",\"C\",\"B\",\"A\"]\n",
    "    f1.write(\"\\nc) Sorted by grades:\\n\")\n",
    "    for nn in range(len(gradeslimits)):\n",
    "        f1.write(\"\\n\")\n",
    "        # With this solution I need to loop all for every loop...\n",
    "        for ii,score in enumerate(scores):\n",
    "            # First line for each loop states the grade\n",
    "            if ii == 0:\n",
    "                f1.write(f\"Grade: {grades[nn]}\\n\")\n",
    "            # Then extract points and check the grade\n",
    "            points = int(score.split()[-1])\n",
    "            if nn == 0:\n",
    "                if points < gradeslimits[nn]:\n",
    "                    f1.write(f\"{score}\\n\")\n",
    "            else:\n",
    "                if points < gradeslimits[nn] and points >= gradeslimits[nn-1]:\n",
    "                    f1.write(f\"{score}\\n\")\n"
   ],
   "outputs": [],
   "metadata": {}
  },
  {
   "cell_type": "markdown",
   "source": [
    "# 3. National test (*)\n",
    "\n",
    "Read in the file NPvt19Ma2A.txt and NPvt19Ma2C.txt in Python. Use matplotlib to plot pie charts for each grade categories in each file. (*)"
   ],
   "metadata": {}
  },
  {
   "cell_type": "code",
   "execution_count": 57,
   "source": [
    "import os\n",
    "\n",
    "# Save paths\n",
    "path = '../Code-Along/8_files/'\n",
    "exercpath = 'exercisefiles/'\n",
    "\n",
    "# Copy original files to work directory (only works with Bash though :) )\n",
    "os.system(f'cp {path}NPvt19Ma2A.txt {exercpath}')\n",
    "os.system(f'cp {path}NPvt19Ma2C.txt {exercpath}')\n",
    "\n",
    "\n",
    "\n"
   ],
   "outputs": [
    {
     "output_type": "execute_result",
     "data": {
      "text/plain": [
       "0"
      ]
     },
     "metadata": {},
     "execution_count": 57
    }
   ],
   "metadata": {}
  },
  {
   "cell_type": "code",
   "execution_count": null,
   "source": [],
   "outputs": [],
   "metadata": {}
  }
 ],
 "metadata": {
  "orig_nbformat": 4,
  "language_info": {
   "name": "python",
   "version": "3.8.10",
   "mimetype": "text/x-python",
   "codemirror_mode": {
    "name": "ipython",
    "version": 3
   },
   "pygments_lexer": "ipython3",
   "nbconvert_exporter": "python",
   "file_extension": ".py"
  },
  "kernelspec": {
   "name": "python3",
   "display_name": "Python 3.8.10 64-bit ('python-programming-joachim-wiegert-fZjbk6tr': pipenv)"
  },
  "interpreter": {
   "hash": "de864f23ecce18368aca897744c10e4777c02bb172d81296c258f6e3610de71e"
  }
 },
 "nbformat": 4,
 "nbformat_minor": 2
}