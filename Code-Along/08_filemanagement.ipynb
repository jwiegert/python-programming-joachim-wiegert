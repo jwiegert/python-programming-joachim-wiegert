{
 "cells": [
  {
   "cell_type": "markdown",
   "source": [
    "# File management\n",
    "\n",
    "Test files are in Code-Along/8_files/\n",
    "\n",
    "## Strategy for cleaning the quotes file:\n",
    "\n",
    "- Inspect quotes.txt\n",
    "\n",
    "- Remove leading and trailing whitespaces (including \\n)\n",
    "\n",
    "- Remove excessive white space between words\n",
    "\n",
    "- Add numbers to quotes\n",
    "\n",
    "- Extract authors"
   ],
   "metadata": {}
  },
  {
   "cell_type": "code",
   "execution_count": 3,
   "source": [
    "# Cleaning a textfile with quotes etc\n",
    "#\n",
    "# \"With BLABLA\" takes of error handling (no need for try-except) and auto-closes file afterwards.\n",
    "# 'r' = read\n",
    "# 'w' = write\n",
    "# 'a' = append (add to existing files)\n",
    "# 'x' = create file (gives error if file already exists, so that you don't accidently overwrite a file)\n",
    "#\n",
    "# Open and read quotes-file\n",
    "with open('8_files/quotes.txt', 'r') as f:\n",
    "    text = f.read()\n",
    "print(repr(text)) # Use this to inspect file\n",
    "\n",
    "\n",
    "\n"
   ],
   "outputs": [
    {
     "output_type": "stream",
     "name": "stdout",
     "text": [
      "'  If     we     knew what it was      we were doing, it would not be called research,          would it?     - Albert Einstein\\n\\nTime is a drug. Too       much of it kills you.  -  Terry Pratchett\\n\\n\\n An expert is a person who       has made all the mistakes that           can be made in a          very narrow field - Niels Bohr\\n\\n   Everything must be made as simple as possible. But not simpler. - Albert Einstein     \\n\\n\\n  Nothing in life                is to be feared, it is only to be understood. Now is the time to understand more, so that we may fear less. - Marie  Curie  \\n\\nIf I have seen further     it is by standing on the shoulders of Giants. - Isaac Newton'\n"
     ]
    }
   ],
   "metadata": {}
  },
  {
   "cell_type": "code",
   "execution_count": 11,
   "source": [
    "# Open and read quotes-file\n",
    "path = '8_files/quotes.txt' # In case you want to return to the path later\n",
    "with open(path, 'r') as f1:\n",
    "    # Use readlines() to read the file as a list. EVery \\n creates a new list.\n",
    "    #quotes = f1.readlines()\n",
    "    # But also remove all \\n, it still creates an element for each line\n",
    "    quotes = [quotes.strip(\"\\n\") for quotes in f1.readlines()]\n",
    "print(quotes)\n"
   ],
   "outputs": [
    {
     "output_type": "stream",
     "name": "stdout",
     "text": [
      "['  If     we     knew what it was      we were doing, it would not be called research,          would it?     - Albert Einstein', '', 'Time is a drug. Too       much of it kills you.  -  Terry Pratchett', '', '', ' An expert is a person who       has made all the mistakes that           can be made in a          very narrow field - Niels Bohr', '', '   Everything must be made as simple as possible. But not simpler. - Albert Einstein     ', '', '', '  Nothing in life                is to be feared, it is only to be understood. Now is the time to understand more, so that we may fear less. - Marie  Curie  ', '', 'If I have seen further     it is by standing on the shoulders of Giants. - Isaac Newton']\n"
     ]
    }
   ],
   "metadata": {}
  },
  {
   "cell_type": "code",
   "execution_count": 41,
   "source": [
    "import re\n",
    "# Open and read quotes-file\n",
    "path1 = '8_files/quotes.txt' # In case you want to return to the path later\n",
    "path2 = '8_files/quotes_cleaned2.txt'\n",
    "\n",
    "quotecounter = 0  # A quote counter\n",
    "authors      = [] # A list of authors\n",
    "\n",
    "# Open file as f1, and another file as f2 where we save our results\n",
    "with open(path1, 'r') as f1, open(path2, 'w') as f2:\n",
    "    # Write a header to the output file\n",
    "    f2.write(\"Famous quotes!\\n\\n\")\n",
    "    # Read each line of f1 as quote\n",
    "    for quote in f1.readlines():\n",
    "        # Remove \\n-command, new line are still there\n",
    "        #quote = quote.strip('\\n')\n",
    "        # With this we remove both \\n AND leading/trailing white spaces\n",
    "        quote = quote.strip(\" \\n\")\n",
    "        # Still a lot of white spaces between words, solve with regexp, and substitute!\n",
    "        # \" +\" = ONE space AND MORE replaced with \" \" = ONE SPACE\n",
    "        quote = re.sub(\" +\", \" \",quote)\n",
    "        # Check the style of each line\n",
    "        #print(repr(quote))\n",
    "        # Write quotes to f2, and remove empty lines in the mean time\n",
    "        if quote != \"\":\n",
    "            quotecounter += 1\n",
    "            f2.write(f\"{quotecounter}. {quote}\\n\")\n",
    "        # Add a list of authors (possible to do here also :P)\n",
    "        # But I need to leave this for loop to be able to add the textline \"Authors\" and new line\n",
    "        # 1. Extract only author names from each line of quote\n",
    "        if quote != \"\":\n",
    "            authors.append(quote.split()[-2:])\n",
    "    # 2. Join togetjer author names again and add a space between\n",
    "    authors = set([\" \".join(author) for author in authors])\n",
    "    # 3. Write author-line\n",
    "    f2.write(f\"\\nAuthors: \")\n",
    "    # 4. Write author list.\n",
    "    for author in authors:\n",
    "        f2.write(f\"{author}, \")\n",
    "\n",
    "# Final part is to add a line with authors in the end of the file\n",
    "# We do this in a new part since we want to test append.\n",
    "\"\"\"\n",
    "with open(path2, 'r') as f1, open(path2, 'a') as f2:\n",
    "    # Extract quotes from cleaned file\n",
    "    quotes = [quote.strip(\"\\n\") for quote in f1.readlines() if quote[0].isdigit()]\n",
    "    # Extract authors, these are the last two words of each line\n",
    "    # Split to separate all words, and only save the last two of each line.\n",
    "    authors = [quote.split()[-2:] for quote in quotes]\n",
    "    # Einstein appears twice! But first all names are on each line, so join to one string per line\n",
    "    # and extract only UNIQUE elements of the list with \"set\"!\n",
    "    authors = set([\" \".join(author) for author in authors])\n",
    "    # Write author list to the text file\n",
    "    f2.write(f\"\\nAuthors: \")\n",
    "    for author in authors:\n",
    "        f2.write(f\"{author}, \")\n",
    "\"\"\""
   ],
   "outputs": [
    {
     "output_type": "execute_result",
     "data": {
      "text/plain": [
       "'\\nwith open(path2, \\'r\\') as f1, open(path2, \\'a\\') as f2:\\n    # Extract quotes from cleaned file\\n    quotes = [quote.strip(\"\\n\") for quote in f1.readlines() if quote[0].isdigit()]\\n    # Extract authors, these are the last two words of each line\\n    # Split to separate all words, and only save the last two of each line.\\n    authors = [quote.split()[-2:] for quote in quotes]\\n    # Einstein appears twice! But first all names are on each line, so join to one string per line\\n    # and extract only UNIQUE elements of the list with \"set\"!\\n    authors = set([\" \".join(author) for author in authors])\\n    # Write author list to the text file\\n    f2.write(f\"\\nAuthors: \")\\n    for author in authors:\\n        f2.write(f\"{author}, \")\\n'"
      ]
     },
     "metadata": {},
     "execution_count": 41
    }
   ],
   "metadata": {}
  },
  {
   "cell_type": "code",
   "execution_count": null,
   "source": [],
   "outputs": [],
   "metadata": {}
  }
 ],
 "metadata": {
  "orig_nbformat": 4,
  "language_info": {
   "name": "python",
   "version": "3.8.10",
   "mimetype": "text/x-python",
   "codemirror_mode": {
    "name": "ipython",
    "version": 3
   },
   "pygments_lexer": "ipython3",
   "nbconvert_exporter": "python",
   "file_extension": ".py"
  },
  "kernelspec": {
   "name": "python3",
   "display_name": "Python 3.8.10 64-bit ('python-programming-joachim-wiegert-fZjbk6tr': pipenv)"
  },
  "interpreter": {
   "hash": "de864f23ecce18368aca897744c10e4777c02bb172d81296c258f6e3610de71e"
  }
 },
 "nbformat": 4,
 "nbformat_minor": 2
}