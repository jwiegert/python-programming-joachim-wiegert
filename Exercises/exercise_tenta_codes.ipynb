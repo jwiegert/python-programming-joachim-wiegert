{
 "cells": [
  {
   "cell_type": "markdown",
   "source": [
    "### Uppgift 1"
   ],
   "metadata": {}
  },
  {
   "cell_type": "code",
   "execution_count": 1,
   "source": [
    "print(list(range(10)))"
   ],
   "outputs": [
    {
     "output_type": "stream",
     "name": "stdout",
     "text": [
      "[0, 1, 2, 3, 4, 5, 6, 7, 8, 9]\n"
     ]
    }
   ],
   "metadata": {}
  },
  {
   "cell_type": "code",
   "execution_count": 10,
   "source": [
    "import random as rnd\n",
    "\n",
    "Ndice = int(1e6)\n",
    "result = list(range(1,7))\n",
    "Nresults = [0 for _ in range(6)]\n",
    "\n",
    "for _ in range(Ndice):\n",
    "    for i,die in enumerate(result):\n",
    "        if rnd.randint(1,6) == die:\n",
    "            Nresults[i] += 1\n",
    "print(Nresults)"
   ],
   "outputs": [
    {
     "output_type": "stream",
     "name": "stdout",
     "text": [
      "[167034, 166939, 167013, 167040, 166495, 166929]\n"
     ]
    }
   ],
   "metadata": {}
  },
  {
   "cell_type": "code",
   "execution_count": 15,
   "source": [
    "import numpy as np\n",
    "\n",
    "def volume_sphere(radius:float) -> float:\n",
    "    if not isinstance(radius,(int,float)):\n",
    "        raise TypeError(f\"Radius must be float or int, not {type(radius)}\")\n",
    "    elif radius <= 0:\n",
    "        raise ValueError(\"Radius can not be equal or smaller than zero\")\n",
    "    # Compute volume\n",
    "    volume = 4/3 * np.pi * radius**3\n",
    "    return volume\n",
    "\n",
    "print(volume_sphere(2))\n"
   ],
   "outputs": [
    {
     "output_type": "stream",
     "name": "stdout",
     "text": [
      "33.510321638291124\n"
     ]
    }
   ],
   "metadata": {}
  },
  {
   "cell_type": "code",
   "execution_count": null,
   "source": [
    "\n",
    "with open('bamba.txt') as bambafile:\n",
    "    bambalist = bambafile.readlines()\n",
    "print(bambalist)\n"
   ],
   "outputs": [],
   "metadata": {}
  }
 ],
 "metadata": {
  "orig_nbformat": 4,
  "language_info": {
   "name": "python",
   "version": "3.8.10",
   "mimetype": "text/x-python",
   "codemirror_mode": {
    "name": "ipython",
    "version": 3
   },
   "pygments_lexer": "ipython3",
   "nbconvert_exporter": "python",
   "file_extension": ".py"
  },
  "kernelspec": {
   "name": "python3",
   "display_name": "Python 3.8.10 64-bit ('python-programming-joachim-wiegert-fZjbk6tr': pipenv)"
  },
  "interpreter": {
   "hash": "de864f23ecce18368aca897744c10e4777c02bb172d81296c258f6e3610de71e"
  }
 },
 "nbformat": 4,
 "nbformat_minor": 2
}