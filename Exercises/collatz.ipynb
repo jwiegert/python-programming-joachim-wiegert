{
 "cells": [
  {
   "cell_type": "code",
   "execution_count": 12,
   "source": [
    "# start with any positive integer n. Then each term is obtained from the previous \n",
    "# term as follows: if the previous term is even, the next term is one half of the \n",
    "# previous term. If the previous term is odd, the next term is 3 times the previous \n",
    "# term plus 1. The conjecture is that no matter what value of n, the sequence will \n",
    "# always reach 1. \n",
    "import random as rnd\n",
    "import matplotlib.pyplot as plt\n",
    "\n",
    "Nsims = 10\n",
    "\n",
    "for _ in range(Nsims):\n",
    "    number = []\n",
    "    N = rnd.randint(0,1000)\n",
    "    niteration = 0\n",
    "\n",
    "    while N != 1:\n",
    "        number.append(N)\n",
    "        if N%2 == 0:\n",
    "            N /= 2\n",
    "        else:\n",
    "            N = 3*N + 1\n",
    "        niteration += 1\n",
    "\n",
    "    plt.plot(number,'.')\n",
    "    plt.plot(len(number),number[-1],'x',markersize = 10)\n",
    "plt.xlabel(\"Number iterations\")\n",
    "\n",
    "\n"
   ],
   "outputs": [
    {
     "output_type": "execute_result",
     "data": {
      "text/plain": [
       "Text(0.5, 0, 'Number iterations')"
      ]
     },
     "metadata": {},
     "execution_count": 12
    },
    {
     "output_type": "display_data",
     "data": {
      "image/png": "[encoded data removed]",
      "text/plain": [
       "<Figure size 432x288 with 1 Axes>"
      ]
     },
     "metadata": {
      "needs_background": "light"
     }
    }
   ],
   "metadata": {}
  },
  {
   "cell_type": "code",
   "execution_count": 4,
   "source": [
    "4%2"
   ],
   "outputs": [
    {
     "output_type": "execute_result",
     "data": {
      "text/plain": [
       "0"
      ]
     },
     "metadata": {},
     "execution_count": 4
    }
   ],
   "metadata": {}
  },
  {
   "cell_type": "code",
   "execution_count": null,
   "source": [],
   "outputs": [],
   "metadata": {}
  }
 ],
 "metadata": {
  "orig_nbformat": 4,
  "language_info": {
   "name": "python",
   "version": "3.8.10",
   "mimetype": "text/x-python",
   "codemirror_mode": {
    "name": "ipython",
    "version": 3
   },
   "pygments_lexer": "ipython3",
   "nbconvert_exporter": "python",
   "file_extension": ".py"
  },
  "kernelspec": {
   "name": "python3",
   "display_name": "Python 3.8.10 64-bit ('python-programming-joachim-wiegert-fZjbk6tr': pipenv)"
  },
  "interpreter": {
   "hash": "de864f23ecce18368aca897744c10e4777c02bb172d81296c258f6e3610de71e"
  }
 },
 "nbformat": 4,
 "nbformat_minor": 2
}