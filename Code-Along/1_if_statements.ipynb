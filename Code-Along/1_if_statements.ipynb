{
 "cells": [
  {
   "cell_type": "markdown",
   "source": [
    "# If statements"
   ],
   "metadata": {}
  },
  {
   "cell_type": "code",
   "execution_count": 3,
   "source": [
    "# Simple if statement example.\n",
    "age = int(input(\"How old are you? \"))\n",
    "if age < 18:\n",
    "    print(\"You may not go to the pub!\")\n",
    "else:\n",
    "    print(\"You may join me in the pub.\")\n",
    "print(\"The program continues here.\")\n"
   ],
   "outputs": [
    {
     "output_type": "stream",
     "name": "stdout",
     "text": [
      "You may not go to the pub!\n",
      "The program continues here.\n"
     ]
    }
   ],
   "metadata": {}
  },
  {
   "cell_type": "code",
   "execution_count": 5,
   "source": [
    "# Example where we check if you may go on the roller coaster Balder\n",
    "# Then you need to be older than 11 years old and you must be longer than 130cm.\n",
    "\n",
    "age    = int(input(\"How old are you? \"))\n",
    "height = int(input(\"What your height (in cm)? \"))\n",
    "\n",
    "if age >= 11 and height >= 130:\n",
    "    print(\"You may go on Balder!\")\n",
    "else:\n",
    "    print(\"Go on Rabalder instead :P\")\n",
    "print(\"Enjoy your time at Liseberg!\")\n",
    "\n"
   ],
   "outputs": [
    {
     "output_type": "stream",
     "name": "stdout",
     "text": [
      "Go on Rabalder instead :P\n",
      "Enjoy your time at Liseberg!\n"
     ]
    }
   ],
   "metadata": {}
  },
  {
   "cell_type": "code",
   "execution_count": 12,
   "source": [
    "# Modulus operator - check if a number is even or odd!\n",
    "number = 145\n",
    "# 1: divide by 2, what is the rest? (my own version...)\n",
    "if number//2 == number/2:\n",
    "    print(f\"Number {number} is even\")\n",
    "else:\n",
    "    print(f\"Number {number} is odd\")\n",
    "#\n",
    "# 2: Use modulus! (teachers version)\n",
    "# Examples:\n",
    "# 4/2 is 2.0, so we get 0.\n",
    "# 3/2 is 1.5, so we get 1?\n",
    "#\n",
    "print(number%2) # % is modulus, gives the rest after integer division\n",
    "if number%2 == 0:\n",
    "    print(f\"Number {number} is even\")\n",
    "else:\n",
    "    print(f\"Number {number} is odd\")\n",
    "\n",
    "\n",
    "\n"
   ],
   "outputs": [
    {
     "output_type": "stream",
     "name": "stdout",
     "text": [
      "Number 145 is odd\n",
      "1\n",
      "Number 145 is odd\n"
     ]
    }
   ],
   "metadata": {}
  },
  {
   "cell_type": "code",
   "execution_count": 21,
   "source": [
    "# Test modulus\n",
    "print(130%4)\n",
    "print(130/4)\n"
   ],
   "outputs": [
    {
     "output_type": "stream",
     "name": "stdout",
     "text": [
      "2\n",
      "32.5\n"
     ]
    }
   ],
   "metadata": {}
  },
  {
   "cell_type": "markdown",
   "source": [
    "# If statements - 2"
   ],
   "metadata": {}
  },
  {
   "cell_type": "code",
   "execution_count": 16,
   "source": [
    "\"\"\"\n",
    "Grading system\n",
    "IG :  0-10\n",
    "G  : 11-20\n",
    "VG : 21-30\n",
    "MVG: >30\n",
    "\"\"\"\n",
    "import random as rnd # Built-in random generators\n",
    "\n",
    "#rnd.seed(0) # To choose random seed...\n",
    "points = rnd.randint(0,35) # random heltal mellan 0 o 35\n",
    "\n",
    "print(f\"Points: {points}\")\n",
    "\n",
    "if points > 30:\n",
    "    print(\"MVG!\")\n",
    "elif points > 20:\n",
    "    print(\"VG\")\n",
    "elif points > 10:\n",
    "    print(\"G\")\n",
    "else:\n",
    "    print(\"IG...\")\n"
   ],
   "outputs": [
    {
     "output_type": "stream",
     "name": "stdout",
     "text": [
      "Points: 24\n",
      "VG\n"
     ]
    }
   ],
   "metadata": {}
  },
  {
   "cell_type": "code",
   "execution_count": 21,
   "source": [
    "number = rnd.randint(0,20)\n",
    "if number % 2 == 0 and number % 5 == 0:\n",
    "    # With \"and\", both must be true!\n",
    "    print(f\"Number {number} is even and divisable by 5.\")\n",
    "# Same result with nestled ifstatements\n",
    "if number % 2 == 0:\n",
    "    if number % 5 == 0:\n",
    "        print(f\"Number {number} is even and divisable by 5.\")\n",
    "\n"
   ],
   "outputs": [],
   "metadata": {}
  },
  {
   "cell_type": "code",
   "execution_count": null,
   "source": [],
   "outputs": [],
   "metadata": {}
  }
 ],
 "metadata": {
  "orig_nbformat": 4,
  "language_info": {
   "name": "python",
   "version": "3.8.10",
   "mimetype": "text/x-python",
   "codemirror_mode": {
    "name": "ipython",
    "version": 3
   },
   "pygments_lexer": "ipython3",
   "nbconvert_exporter": "python",
   "file_extension": ".py"
  },
  "kernelspec": {
   "name": "python3",
   "display_name": "Python 3.8.10 64-bit"
  },
  "interpreter": {
   "hash": "916dbcbb3f70747c44a77c7bcd40155683ae19c65e1c03b4aa3499c5328201f1"
  }
 },
 "nbformat": 4,
 "nbformat_minor": 2
}