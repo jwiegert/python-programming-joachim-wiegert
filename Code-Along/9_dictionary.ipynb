{
 "cells": [
  {
   "cell_type": "markdown",
   "source": [
    "# 2021-09-14 Dictionary"
   ],
   "metadata": {}
  },
  {
   "cell_type": "code",
   "execution_count": 5,
   "source": [
    "# Dictionary example and syntax\n",
    "\n",
    "person = dict(\n",
    "    name = \"Joachim\",\n",
    "    age = 36.3,\n",
    "    work = \"Astronomer\",\n",
    "    interests = [\"science\", \"science fiction\", \"space\", \"cycling\"],\n",
    "    likes_job = True\n",
    ")\n",
    "# Just to print this like this is not so nice\n",
    "print(f\"Person dictionary {person}\")\n",
    "# Instead we can use keywords\n",
    "print(f\"Person dictionary, name: {person['name']}\")\n",
    "print(f\"Person dictionary, age: {person['age']}\")\n",
    "# Possible to loop too\n",
    "for interest in person['interests']:\n",
    "    print(f\"{person['name']} likes {interest}\")\n"
   ],
   "outputs": [
    {
     "output_type": "stream",
     "name": "stdout",
     "text": [
      "Person dictionary {'name': 'Joachim', 'age': 36.3, 'work': 'Astronomer', 'interests': ['science', 'computer science', 'space', 'cycling'], 'likes_job': True}\n",
      "Person dictionary, name: Joachim\n",
      "Person dictionary, age: 36.3\n",
      "Joachim likes science\n",
      "Joachim likes computer science\n",
      "Joachim likes space\n",
      "Joachim likes cycling\n"
     ]
    }
   ],
   "metadata": {}
  },
  {
   "cell_type": "code",
   "execution_count": 17,
   "source": [
    "# Another dictionary example\n",
    "# a list of words is actually useful for programming in general, so many terms and words\n",
    "# that appear that one can list like this.\n",
    "words = {\n",
    "    'data structure': \"means of storing and organizing data\",\n",
    "    'lambda': \"anonymous function\",\n",
    "    'class': \"blueprint for objects\"\n",
    "}\n",
    "\n",
    "print(\"We shall learn these words: \")\n",
    "# Here we return the KEY of \"words\"\n",
    "for key in words:\n",
    "    print(key, end=\", \")\n",
    "print(\"\\b\\b\")\n",
    "\n",
    "print(f\"\\n\\nWord {'':<15} meaning\\n-----------------------------\")\n",
    "# Here we return both the KEY and the VALUE of \"words\"\n",
    "for key, value in words.items():\n",
    "    print(f\"{key:<20} {value}\")\n",
    "\n",
    "# Overwrite a key-value:\n",
    "words['lambda'] = \"an anonymous function\"\n",
    "# Add a key and value\n",
    "words['regression'] = \"find a function that best fits observed data\"\n",
    "\n",
    "print(f\"\\n\\nWord {'':<15} meaning\\n-----------------------------\")\n",
    "for key, value in words.items():\n",
    "    print(f\"{key:<20} {value}\")\n",
    "print(\"\\n\\n\")\n"
   ],
   "outputs": [
    {
     "output_type": "stream",
     "name": "stdout",
     "text": [
      "We shall learn these words: \n",
      "data structure, lambda, class\n",
      "\n",
      "\n",
      "Word                 meaning\n",
      "-----------------------------\n",
      "data structure       means of storing and organizing data\n",
      "lambda               anonymous function\n",
      "class                blueprint for objects\n",
      "\n",
      "\n",
      "Word                 meaning\n",
      "-----------------------------\n",
      "data structure       means of storing and organizing data\n",
      "lambda               an anonymous function\n",
      "class                blueprint for objects\n",
      "regression           find a function that best fits observed data\n",
      "\n",
      "\n",
      "\n"
     ]
    }
   ],
   "metadata": {}
  },
  {
   "cell_type": "code",
   "execution_count": 20,
   "source": [
    "# Example with grade limits, similar to exercise we've already done\n",
    "# F<10, E:10, D:20, C: 30, B: 40, A:50\n",
    "\n",
    "# Create an empty victionary\n",
    "gradelimits = {}\n",
    "\n",
    "# list of grades\n",
    "grades = list(\"ABCDEF\") # A list with grades as each element.\n",
    "\n",
    "# add into dictionary keyword (grade) and value!\n",
    "for grade in grades:\n",
    "    gradelimits[grade] = 0\n",
    "print(gradelimits)\n",
    "\n",
    "# add into dictionary keyword (grade) and correct value now :P\n",
    "for i,grade in enumerate(grades[::-1]):\n",
    "    gradelimits[grade] = i*10\n",
    "print(gradelimits)\n",
    "\n",
    "# final correction\n",
    "gradelimits['F'] = \"< 10\"\n",
    "print(gradelimits)\n"
   ],
   "outputs": [
    {
     "output_type": "stream",
     "name": "stdout",
     "text": [
      "{'A': 0, 'B': 0, 'C': 0, 'D': 0, 'E': 0, 'F': 0}\n",
      "{'A': 50, 'B': 40, 'C': 30, 'D': 20, 'E': 10, 'F': 0}\n"
     ]
    }
   ],
   "metadata": {}
  },
  {
   "cell_type": "code",
   "execution_count": null,
   "source": [],
   "outputs": [],
   "metadata": {}
  }
 ],
 "metadata": {
  "orig_nbformat": 4,
  "language_info": {
   "name": "python",
   "version": "3.8.10",
   "mimetype": "text/x-python",
   "codemirror_mode": {
    "name": "ipython",
    "version": 3
   },
   "pygments_lexer": "ipython3",
   "nbconvert_exporter": "python",
   "file_extension": ".py"
  },
  "kernelspec": {
   "name": "python3",
   "display_name": "Python 3.8.10 64-bit ('python-programming-joachim-wiegert-fZjbk6tr': pipenv)"
  },
  "interpreter": {
   "hash": "de864f23ecce18368aca897744c10e4777c02bb172d81296c258f6e3610de71e"
  }
 },
 "nbformat": 4,
 "nbformat_minor": 2
}